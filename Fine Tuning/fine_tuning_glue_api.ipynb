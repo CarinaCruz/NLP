{
 "cells": [
  {
   "cell_type": "code",
   "execution_count": 1,
   "id": "c4d9ef3f",
   "metadata": {},
   "outputs": [],
   "source": [
    "# !pip install -q datasets evaluate transformers[sentencepiece]\n",
    "# !pip install -q torch\n",
    "# !pip install -q accelerate==0.26.0\n",
    "# !pip install scikit-learn\n",
    "# !pip install -q datasets peft==0.3.0 levenshtein==0.26.1 accelerate==1.2.1 evaluate==0.4.0 transformers==4.45.2\n",
    "# !pip install -q  torch==2.5.1+cu118 torchaudio==2.5.1+cu118 torchdata==0.5.1 torchvision==0.20.1+cu118\n",
    "\n",
    "#!pip install torch torchvision torchaudio --index-url https://download.pytorch.org/whl/cu12\n",
    "#!pip install -U torch==2.2.2 torchvision==0.17.2"
   ]
  },
  {
   "cell_type": "markdown",
   "id": "ffca135b",
   "metadata": {},
   "source": [
    "# Fine Tuning BERT Model - GLUE Benchmark"
   ]
  },
  {
   "cell_type": "markdown",
   "id": "be35b376",
   "metadata": {},
   "source": [
    " ### Setup"
   ]
  },
  {
   "cell_type": "code",
   "execution_count": 66,
   "id": "2bce0b91",
   "metadata": {},
   "outputs": [
    {
     "name": "stdout",
     "output_type": "stream",
     "text": [
      "Using cuda:0\n"
     ]
    }
   ],
   "source": [
    "import torch\n",
    "import gc\n",
    "import os\n",
    "import evaluate\n",
    "import numpy as np\n",
    "import pandas as pd\n",
    "from datasets import load_dataset\n",
    "import matplotlib.pyplot as plt \n",
    "import seaborn as sea\n",
    "from transformers import (AutoTokenizer, DataCollatorWithPadding, \n",
    "                        TrainingArguments,Trainer,\n",
    "                        AutoModelForSequenceClassification)\n",
    "\n",
    "from sklearn.metrics import (f1_score, precision_score, \n",
    "                             recall_score, classification_report,\n",
    "                             confusion_matrix)\n",
    "\n",
    "os.environ[\"CUDA_VISIBLE_DEVICES\"] = \"0\"\n",
    "\n",
    "if torch.cuda.is_available():\n",
    "   dev = \"cuda:0\"\n",
    "else:\n",
    "   dev = \"cpu\"\n",
    "   \n",
    "device = torch.device(dev)\n",
    "print('Using {}'.format(device))\n",
    "gc.collect()\n",
    "torch.cuda.empty_cache()   "
   ]
  },
  {
   "cell_type": "markdown",
   "id": "876d3427",
   "metadata": {},
   "source": [
    "###  Data Access"
   ]
  },
  {
   "cell_type": "markdown",
   "id": "41e41caa",
   "metadata": {},
   "source": [
    "#### Access GLUE MRPC Dataset (The Microsoft Research Paraphrase Corpus)"
   ]
  },
  {
   "cell_type": "code",
   "execution_count": null,
   "id": "279fd9e2",
   "metadata": {},
   "outputs": [],
   "source": [
    "raw_datasets = load_dataset(\"glue\", \"mrpc\")\n",
    "checkpoint = \"bert-base-uncased\"\n",
    "tokenizer = AutoTokenizer.from_pretrained(checkpoint)\n",
    "\n",
    "def tokenize_function(example):\n",
    "    return tokenizer(example[\"sentence1\"], example[\"sentence2\"], truncation=True)\n",
    "data_collator = DataCollatorWithPadding(tokenizer=tokenizer)"
   ]
  },
  {
   "cell_type": "code",
   "execution_count": 18,
   "id": "a5fc4d66",
   "metadata": {},
   "outputs": [],
   "source": [
    "tokenized_datasets = raw_datasets.map(tokenize_function, batched=True)"
   ]
  },
  {
   "cell_type": "code",
   "execution_count": 53,
   "id": "28bc3862",
   "metadata": {},
   "outputs": [],
   "source": [
    "def get_dataframe(df_type):\n",
    "    df = pd.DataFrame()    \n",
    "    df['sentence1'], df['sentence2'] = raw_datasets[df_type]['sentence1'], raw_datasets[df_type]['sentence2']\n",
    "    df['label'] = raw_datasets[df_type]['label']\n",
    "    return df\n",
    "    \n",
    "df_train = get_dataframe('train')\n",
    "df_test = get_dataframe('test')\n",
    "df_validation = get_dataframe('validation')"
   ]
  },
  {
   "cell_type": "code",
   "execution_count": 55,
   "id": "f2b53029",
   "metadata": {},
   "outputs": [
    {
     "data": {
      "image/png": "[encoded data removed]",
      "text/plain": [
       "<Figure size 600x400 with 1 Axes>"
      ]
     },
     "metadata": {},
     "output_type": "display_data"
    }
   ],
   "source": [
    "ax = df_train['label'].value_counts().plot(kind='barh', figsize=(6, 4))"
   ]
  },
  {
   "cell_type": "code",
   "execution_count": 57,
   "id": "2310e597",
   "metadata": {},
   "outputs": [
    {
     "data": {
      "image/png": "[encoded data removed]",
      "text/plain": [
       "<Figure size 600x400 with 1 Axes>"
      ]
     },
     "metadata": {},
     "output_type": "display_data"
    }
   ],
   "source": [
    "ax = df_test['label'].value_counts().plot(kind='barh', figsize=(6, 4))"
   ]
  },
  {
   "cell_type": "code",
   "execution_count": 56,
   "id": "282c5606",
   "metadata": {},
   "outputs": [
    {
     "data": {
      "image/png": "[encoded data removed]",
      "text/plain": [
       "<Figure size 600x400 with 1 Axes>"
      ]
     },
     "metadata": {},
     "output_type": "display_data"
    }
   ],
   "source": [
    "ax = df_validation['label'].value_counts().plot(kind='barh', figsize=(6, 4))"
   ]
  },
  {
   "cell_type": "code",
   "execution_count": 58,
   "id": "0fbaa186",
   "metadata": {},
   "outputs": [
    {
     "data": {
      "text/html": [
       "<div>\n",
       "<style scoped>\n",
       "    .dataframe tbody tr th:only-of-type {\n",
       "        vertical-align: middle;\n",
       "    }\n",
       "\n",
       "    .dataframe tbody tr th {\n",
       "        vertical-align: top;\n",
       "    }\n",
       "\n",
       "    .dataframe thead th {\n",
       "        text-align: right;\n",
       "    }\n",
       "</style>\n",
       "<table border=\"1\" class=\"dataframe\">\n",
       "  <thead>\n",
       "    <tr style=\"text-align: right;\">\n",
       "      <th></th>\n",
       "      <th>sentence1</th>\n",
       "      <th>sentence2</th>\n",
       "      <th>label</th>\n",
       "    </tr>\n",
       "  </thead>\n",
       "  <tbody>\n",
       "    <tr>\n",
       "      <th>0</th>\n",
       "      <td>Amrozi accused his brother , whom he called \" ...</td>\n",
       "      <td>Referring to him as only \" the witness \" , Amr...</td>\n",
       "      <td>1</td>\n",
       "    </tr>\n",
       "    <tr>\n",
       "      <th>1</th>\n",
       "      <td>Yucaipa owned Dominick 's before selling the c...</td>\n",
       "      <td>Yucaipa bought Dominick 's in 1995 for $ 693 m...</td>\n",
       "      <td>0</td>\n",
       "    </tr>\n",
       "    <tr>\n",
       "      <th>2</th>\n",
       "      <td>They had published an advertisement on the Int...</td>\n",
       "      <td>On June 10 , the ship 's owners had published ...</td>\n",
       "      <td>1</td>\n",
       "    </tr>\n",
       "    <tr>\n",
       "      <th>3</th>\n",
       "      <td>Around 0335 GMT , Tab shares were up 19 cents ...</td>\n",
       "      <td>Tab shares jumped 20 cents , or 4.6 % , to set...</td>\n",
       "      <td>0</td>\n",
       "    </tr>\n",
       "    <tr>\n",
       "      <th>4</th>\n",
       "      <td>The stock rose $ 2.11 , or about 11 percent , ...</td>\n",
       "      <td>PG &amp; E Corp. shares jumped $ 1.63 or 8 percent...</td>\n",
       "      <td>1</td>\n",
       "    </tr>\n",
       "  </tbody>\n",
       "</table>\n",
       "</div>"
      ],
      "text/plain": [
       "                                           sentence1  \\\n",
       "0  Amrozi accused his brother , whom he called \" ...   \n",
       "1  Yucaipa owned Dominick 's before selling the c...   \n",
       "2  They had published an advertisement on the Int...   \n",
       "3  Around 0335 GMT , Tab shares were up 19 cents ...   \n",
       "4  The stock rose $ 2.11 , or about 11 percent , ...   \n",
       "\n",
       "                                           sentence2  label  \n",
       "0  Referring to him as only \" the witness \" , Amr...      1  \n",
       "1  Yucaipa bought Dominick 's in 1995 for $ 693 m...      0  \n",
       "2  On June 10 , the ship 's owners had published ...      1  \n",
       "3  Tab shares jumped 20 cents , or 4.6 % , to set...      0  \n",
       "4  PG & E Corp. shares jumped $ 1.63 or 8 percent...      1  "
      ]
     },
     "execution_count": 58,
     "metadata": {},
     "output_type": "execute_result"
    }
   ],
   "source": [
    "df_train.head()"
   ]
  },
  {
   "cell_type": "markdown",
   "id": "a2ee46df",
   "metadata": {},
   "source": [
    "### Fine Tuning"
   ]
  },
  {
   "cell_type": "code",
   "execution_count": 7,
   "id": "42a54bab",
   "metadata": {},
   "outputs": [],
   "source": [
    "metric = evaluate.load(\"accuracy\")\n",
    "\n",
    "def compute_metrics(eval_pred):\n",
    "    logits, labels = eval_pred\n",
    "    predictions = np.argmax(logits, axis=-1)\n",
    "    return metric.compute(predictions=predictions, references=labels)"
   ]
  },
  {
   "cell_type": "code",
   "execution_count": 8,
   "id": "52804baa",
   "metadata": {},
   "outputs": [
    {
     "name": "stderr",
     "output_type": "stream",
     "text": [
      "/home/carina/anaconda3/envs/hugging_face_env/lib/python3.9/site-packages/transformers/training_args.py:1545: FutureWarning: `evaluation_strategy` is deprecated and will be removed in version 4.46 of 🤗 Transformers. Use `eval_strategy` instead\n",
      "  warnings.warn(\n",
      "Some weights of BertForSequenceClassification were not initialized from the model checkpoint at bert-base-uncased and are newly initialized: ['classifier.bias', 'classifier.weight']\n",
      "You should probably TRAIN this model on a down-stream task to be able to use it for predictions and inference.\n"
     ]
    }
   ],
   "source": [
    "\n",
    "out_dir ='./fine_tuning'\n",
    "training_args = TrainingArguments(output_dir=out_dir,\n",
    "                                   evaluation_strategy=\"steps\",\n",
    "                                   overwrite_output_dir=True,\n",
    "                                   save_total_limit=1,\n",
    "                                   run_name='fine_tuning',\n",
    "                                   num_train_epochs=10,                                   \n",
    "                                   report_to=\"none\",#no wandb api log\n",
    "                                   auto_find_batch_size=True,                                                                      \n",
    "                                   push_to_hub=False)\n",
    "model = AutoModelForSequenceClassification.from_pretrained(checkpoint, num_labels=2)"
   ]
  },
  {
   "cell_type": "code",
   "execution_count": 9,
   "id": "b77bf697",
   "metadata": {},
   "outputs": [],
   "source": [
    "trainer = Trainer(\n",
    "    model,\n",
    "    training_args,\n",
    "    train_dataset=tokenized_datasets[\"train\"],\n",
    "    eval_dataset=tokenized_datasets[\"validation\"],\n",
    "    data_collator=data_collator,\n",
    "    tokenizer=tokenizer,\n",
    "    compute_metrics=compute_metrics      \n",
    ")"
   ]
  },
  {
   "cell_type": "code",
   "execution_count": 10,
   "id": "5192540e",
   "metadata": {},
   "outputs": [
    {
     "name": "stderr",
     "output_type": "stream",
     "text": [
      " 11%|█         | 500/4590 [01:20<11:01,  6.18it/s]"
     ]
    },
    {
     "name": "stdout",
     "output_type": "stream",
     "text": [
      "{'loss': 0.5393, 'grad_norm': 38.21265411376953, 'learning_rate': 4.4553376906318085e-05, 'epoch': 1.09}\n"
     ]
    },
    {
     "name": "stderr",
     "output_type": "stream",
     "text": [
      "                                                  \n",
      " 11%|█         | 500/4590 [01:22<11:01,  6.18it/s]"
     ]
    },
    {
     "name": "stdout",
     "output_type": "stream",
     "text": [
      "{'eval_loss': 0.5323272943496704, 'eval_accuracy': 0.8112745098039216, 'eval_runtime': 1.9329, 'eval_samples_per_second': 211.085, 'eval_steps_per_second': 26.386, 'epoch': 1.09}\n"
     ]
    },
    {
     "name": "stderr",
     "output_type": "stream",
     "text": [
      " 22%|██▏       | 1000/4590 [02:44<09:24,  6.36it/s] "
     ]
    },
    {
     "name": "stdout",
     "output_type": "stream",
     "text": [
      "{'loss': 0.3406, 'grad_norm': 0.2138906717300415, 'learning_rate': 3.910675381263617e-05, 'epoch': 2.18}\n"
     ]
    },
    {
     "name": "stderr",
     "output_type": "stream",
     "text": [
      "                                                   \n",
      " 22%|██▏       | 1000/4590 [02:46<09:24,  6.36it/s]"
     ]
    },
    {
     "name": "stdout",
     "output_type": "stream",
     "text": [
      "{'eval_loss': 0.784001350402832, 'eval_accuracy': 0.8308823529411765, 'eval_runtime': 1.9285, 'eval_samples_per_second': 211.565, 'eval_steps_per_second': 26.446, 'epoch': 2.18}\n"
     ]
    },
    {
     "name": "stderr",
     "output_type": "stream",
     "text": [
      " 33%|███▎      | 1500/4590 [04:08<08:07,  6.34it/s]  "
     ]
    },
    {
     "name": "stdout",
     "output_type": "stream",
     "text": [
      "{'loss': 0.2183, 'grad_norm': 29.915882110595703, 'learning_rate': 3.366013071895425e-05, 'epoch': 3.27}\n"
     ]
    },
    {
     "name": "stderr",
     "output_type": "stream",
     "text": [
      "                                                   \n",
      " 33%|███▎      | 1500/4590 [04:10<08:07,  6.34it/s]"
     ]
    },
    {
     "name": "stdout",
     "output_type": "stream",
     "text": [
      "{'eval_loss': 0.7193546891212463, 'eval_accuracy': 0.8382352941176471, 'eval_runtime': 1.9338, 'eval_samples_per_second': 210.983, 'eval_steps_per_second': 26.373, 'epoch': 3.27}\n"
     ]
    },
    {
     "name": "stderr",
     "output_type": "stream",
     "text": [
      " 44%|████▎     | 2000/4590 [05:33<07:22,  5.85it/s]"
     ]
    },
    {
     "name": "stdout",
     "output_type": "stream",
     "text": [
      "{'loss': 0.1339, 'grad_norm': 0.154747873544693, 'learning_rate': 2.8213507625272335e-05, 'epoch': 4.36}\n"
     ]
    },
    {
     "name": "stderr",
     "output_type": "stream",
     "text": [
      "                                                   \n",
      " 44%|████▎     | 2000/4590 [05:35<07:22,  5.85it/s]"
     ]
    },
    {
     "name": "stdout",
     "output_type": "stream",
     "text": [
      "{'eval_loss': 0.7902935147285461, 'eval_accuracy': 0.8431372549019608, 'eval_runtime': 1.9321, 'eval_samples_per_second': 211.174, 'eval_steps_per_second': 26.397, 'epoch': 4.36}\n"
     ]
    },
    {
     "name": "stderr",
     "output_type": "stream",
     "text": [
      " 54%|█████▍    | 2500/4590 [06:58<05:28,  6.36it/s]"
     ]
    },
    {
     "name": "stdout",
     "output_type": "stream",
     "text": [
      "{'loss': 0.0629, 'grad_norm': 0.056046389043331146, 'learning_rate': 2.2766884531590417e-05, 'epoch': 5.45}\n"
     ]
    },
    {
     "name": "stderr",
     "output_type": "stream",
     "text": [
      "                                                   \n",
      " 54%|█████▍    | 2500/4590 [07:00<05:28,  6.36it/s]"
     ]
    },
    {
     "name": "stdout",
     "output_type": "stream",
     "text": [
      "{'eval_loss': 0.9811592698097229, 'eval_accuracy': 0.8333333333333334, 'eval_runtime': 1.9414, 'eval_samples_per_second': 210.158, 'eval_steps_per_second': 26.27, 'epoch': 5.45}\n"
     ]
    },
    {
     "name": "stderr",
     "output_type": "stream",
     "text": [
      " 65%|██████▌   | 3000/4590 [08:23<04:31,  5.85it/s]"
     ]
    },
    {
     "name": "stdout",
     "output_type": "stream",
     "text": [
      "{'loss': 0.0404, 'grad_norm': 0.02627807855606079, 'learning_rate': 1.7320261437908496e-05, 'epoch': 6.54}\n"
     ]
    },
    {
     "name": "stderr",
     "output_type": "stream",
     "text": [
      "                                                   \n",
      " 65%|██████▌   | 3000/4590 [08:25<04:31,  5.85it/s]"
     ]
    },
    {
     "name": "stdout",
     "output_type": "stream",
     "text": [
      "{'eval_loss': 1.0171966552734375, 'eval_accuracy': 0.8308823529411765, 'eval_runtime': 1.935, 'eval_samples_per_second': 210.852, 'eval_steps_per_second': 26.356, 'epoch': 6.54}\n"
     ]
    },
    {
     "name": "stderr",
     "output_type": "stream",
     "text": [
      " 76%|███████▋  | 3500/4590 [09:48<02:55,  6.19it/s]"
     ]
    },
    {
     "name": "stdout",
     "output_type": "stream",
     "text": [
      "{'loss': 0.0228, 'grad_norm': 0.015340976417064667, 'learning_rate': 1.187363834422658e-05, 'epoch': 7.63}\n"
     ]
    },
    {
     "name": "stderr",
     "output_type": "stream",
     "text": [
      "                                                   \n",
      " 76%|███████▋  | 3500/4590 [09:50<02:55,  6.19it/s]"
     ]
    },
    {
     "name": "stdout",
     "output_type": "stream",
     "text": [
      "{'eval_loss': 1.133531928062439, 'eval_accuracy': 0.8357843137254902, 'eval_runtime': 1.9387, 'eval_samples_per_second': 210.445, 'eval_steps_per_second': 26.306, 'epoch': 7.63}\n"
     ]
    },
    {
     "name": "stderr",
     "output_type": "stream",
     "text": [
      " 87%|████████▋ | 4000/4590 [11:13<01:33,  6.32it/s]"
     ]
    },
    {
     "name": "stdout",
     "output_type": "stream",
     "text": [
      "{'loss': 0.0178, 'grad_norm': 0.010821069590747356, 'learning_rate': 6.427015250544663e-06, 'epoch': 8.71}\n"
     ]
    },
    {
     "name": "stderr",
     "output_type": "stream",
     "text": [
      "                                                   \n",
      " 87%|████████▋ | 4000/4590 [11:15<01:33,  6.32it/s]"
     ]
    },
    {
     "name": "stdout",
     "output_type": "stream",
     "text": [
      "{'eval_loss': 1.154373049736023, 'eval_accuracy': 0.8382352941176471, 'eval_runtime': 1.9419, 'eval_samples_per_second': 210.107, 'eval_steps_per_second': 26.263, 'epoch': 8.71}\n"
     ]
    },
    {
     "name": "stderr",
     "output_type": "stream",
     "text": [
      " 98%|█████████▊| 4500/4590 [12:38<00:15,  5.79it/s]"
     ]
    },
    {
     "name": "stdout",
     "output_type": "stream",
     "text": [
      "{'loss': 0.0078, 'grad_norm': 0.009183933958411217, 'learning_rate': 9.80392156862745e-07, 'epoch': 9.8}\n"
     ]
    },
    {
     "name": "stderr",
     "output_type": "stream",
     "text": [
      "                                                   \n",
      " 98%|█████████▊| 4500/4590 [12:40<00:15,  5.79it/s]"
     ]
    },
    {
     "name": "stdout",
     "output_type": "stream",
     "text": [
      "{'eval_loss': 1.1627585887908936, 'eval_accuracy': 0.8431372549019608, 'eval_runtime': 1.9672, 'eval_samples_per_second': 207.401, 'eval_steps_per_second': 25.925, 'epoch': 9.8}\n"
     ]
    },
    {
     "name": "stderr",
     "output_type": "stream",
     "text": [
      "100%|██████████| 4590/4590 [12:58<00:00,  5.90it/s]"
     ]
    },
    {
     "name": "stdout",
     "output_type": "stream",
     "text": [
      "{'train_runtime': 778.5947, 'train_samples_per_second': 47.111, 'train_steps_per_second': 5.895, 'train_loss': 0.1508830650829282, 'epoch': 10.0}\n"
     ]
    },
    {
     "name": "stderr",
     "output_type": "stream",
     "text": [
      "\n"
     ]
    },
    {
     "data": {
      "text/plain": [
       "TrainOutput(global_step=4590, training_loss=0.1508830650829282, metrics={'train_runtime': 778.5947, 'train_samples_per_second': 47.111, 'train_steps_per_second': 5.895, 'total_flos': 1353042435523440.0, 'train_loss': 0.1508830650829282, 'epoch': 10.0})"
      ]
     },
     "execution_count": 10,
     "metadata": {},
     "output_type": "execute_result"
    }
   ],
   "source": [
    "trainer.train()"
   ]
  },
  {
   "cell_type": "markdown",
   "id": "7d7f174b",
   "metadata": {},
   "source": [
    "##### Model Validation"
   ]
  },
  {
   "cell_type": "code",
   "execution_count": 11,
   "id": "99fa6bd6",
   "metadata": {},
   "outputs": [
    {
     "name": "stderr",
     "output_type": "stream",
     "text": [
      "100%|██████████| 51/51 [00:01<00:00, 26.64it/s]\n"
     ]
    },
    {
     "data": {
      "text/plain": [
       "{'eval_loss': 1.1681450605392456,\n",
       " 'eval_accuracy': 0.8431372549019608,\n",
       " 'eval_runtime': 1.9527,\n",
       " 'eval_samples_per_second': 208.947,\n",
       " 'eval_steps_per_second': 26.118,\n",
       " 'epoch': 10.0}"
      ]
     },
     "execution_count": 11,
     "metadata": {},
     "output_type": "execute_result"
    }
   ],
   "source": [
    "trainer.evaluate()"
   ]
  },
  {
   "cell_type": "code",
   "execution_count": 24,
   "id": "5b1bb6ad",
   "metadata": {},
   "outputs": [
    {
     "name": "stderr",
     "output_type": "stream",
     "text": [
      "312it [00:18, 17.26it/s]                         \n"
     ]
    }
   ],
   "source": [
    "predictions = trainer.predict(tokenized_datasets['test'])"
   ]
  },
  {
   "cell_type": "code",
   "execution_count": 59,
   "id": "3119367e",
   "metadata": {},
   "outputs": [],
   "source": [
    "y_true = tokenized_datasets['test']['label']\n",
    "y_pred = predictions.predictions.argmax(-1)"
   ]
  },
  {
   "cell_type": "code",
   "execution_count": 64,
   "id": "86d0efc7",
   "metadata": {},
   "outputs": [
    {
     "name": "stdout",
     "output_type": "stream",
     "text": [
      "Precision: 0.84\n",
      "Recall: 0.89\n",
      "F1 Score: 0.86\n",
      "              precision    recall  f1-score   support\n",
      "\n",
      "           0       0.76      0.66      0.70       578\n",
      "           1       0.84      0.89      0.86      1147\n",
      "\n",
      "    accuracy                           0.81      1725\n",
      "   macro avg       0.80      0.78      0.78      1725\n",
      "weighted avg       0.81      0.81      0.81      1725\n",
      "\n"
     ]
    }
   ],
   "source": [
    "f1 = np.round(f1_score(y_true,y_pred), 2)\n",
    "precision = np.round(precision_score(y_true,y_pred), 2)\n",
    "recall = np.round(recall_score(y_true,y_pred), 2)\n",
    "print(f\"Precision: {precision}\")\n",
    "print(f\"Recall: {recall}\")\n",
    "print(f\"F1 Score: {f1}\")\n",
    "\n",
    "print(classification_report(y_true, y_pred))"
   ]
  },
  {
   "cell_type": "code",
   "execution_count": 69,
   "id": "c08e897c",
   "metadata": {},
   "outputs": [
    {
     "data": {
      "image/png": "[encoded data removed]",
      "text/plain": [
       "<Figure size 600x400 with 2 Axes>"
      ]
     },
     "metadata": {},
     "output_type": "display_data"
    }
   ],
   "source": [
    "target_names = model.config.id2label.keys()\n",
    "cm = confusion_matrix(y_true, y_pred)\n",
    "plt.figure(figsize=(6, 4))\n",
    "sea.heatmap(cm, annot=True, fmt='d', cmap='Blues', xticklabels=target_names, yticklabels=target_names)\n",
    "plt.title('Confusion Matrix', fontsize=14)\n",
    "plt.xlabel('Predicted Class')\n",
    "plt.ylabel('True Class')\n",
    "plt.show()"
   ]
  },
  {
   "cell_type": "markdown",
   "id": "37f72275",
   "metadata": {},
   "source": [
    "##### Predictions Analysis"
   ]
  },
  {
   "cell_type": "code",
   "execution_count": 62,
   "id": "5919503d",
   "metadata": {},
   "outputs": [],
   "source": [
    "df_test['predicted'] = y_pred"
   ]
  },
  {
   "cell_type": "code",
   "execution_count": 72,
   "id": "565816ee",
   "metadata": {},
   "outputs": [
    {
     "data": {
      "text/html": [
       "<div>\n",
       "<style scoped>\n",
       "    .dataframe tbody tr th:only-of-type {\n",
       "        vertical-align: middle;\n",
       "    }\n",
       "\n",
       "    .dataframe tbody tr th {\n",
       "        vertical-align: top;\n",
       "    }\n",
       "\n",
       "    .dataframe thead th {\n",
       "        text-align: right;\n",
       "    }\n",
       "</style>\n",
       "<table border=\"1\" class=\"dataframe\">\n",
       "  <thead>\n",
       "    <tr style=\"text-align: right;\">\n",
       "      <th></th>\n",
       "      <th>sentence1</th>\n",
       "      <th>sentence2</th>\n",
       "      <th>label</th>\n",
       "      <th>predicted</th>\n",
       "    </tr>\n",
       "  </thead>\n",
       "  <tbody>\n",
       "    <tr>\n",
       "      <th>1312</th>\n",
       "      <td>Ultimately , however , Mrs Clinton decided she...</td>\n",
       "      <td>She says she stayed in the marriage because sh...</td>\n",
       "      <td>1</td>\n",
       "      <td>1</td>\n",
       "    </tr>\n",
       "    <tr>\n",
       "      <th>606</th>\n",
       "      <td>The findings are published in the November 6 e...</td>\n",
       "      <td>Both studies are published on Thursday in Natu...</td>\n",
       "      <td>1</td>\n",
       "      <td>1</td>\n",
       "    </tr>\n",
       "    <tr>\n",
       "      <th>789</th>\n",
       "      <td>\" Each institution helped Enron mislead its in...</td>\n",
       "      <td>The SEC said each bank helped Enron mislead in...</td>\n",
       "      <td>1</td>\n",
       "      <td>1</td>\n",
       "    </tr>\n",
       "    <tr>\n",
       "      <th>794</th>\n",
       "      <td>The industry 's largest association is urging ...</td>\n",
       "      <td>Meantime , the Direct Marketing Association sa...</td>\n",
       "      <td>1</td>\n",
       "      <td>1</td>\n",
       "    </tr>\n",
       "    <tr>\n",
       "      <th>1168</th>\n",
       "      <td>The government began on September 1 to add the...</td>\n",
       "      <td>The government recently added the word ' Taiwa...</td>\n",
       "      <td>1</td>\n",
       "      <td>1</td>\n",
       "    </tr>\n",
       "    <tr>\n",
       "      <th>418</th>\n",
       "      <td>Cadbury Schweppes plc plans to cut 5500 jobs a...</td>\n",
       "      <td>Cadbury Schweppes has unveiled plans to slash ...</td>\n",
       "      <td>1</td>\n",
       "      <td>1</td>\n",
       "    </tr>\n",
       "    <tr>\n",
       "      <th>1418</th>\n",
       "      <td>The state wanted every insurer doing business ...</td>\n",
       "      <td>The state wanted any insurer doing business th...</td>\n",
       "      <td>1</td>\n",
       "      <td>1</td>\n",
       "    </tr>\n",
       "    <tr>\n",
       "      <th>113</th>\n",
       "      <td>Judge Gerald W. Heaney , in dissent , said the...</td>\n",
       "      <td>In dissent , Judge Gerald W. Heaney said the a...</td>\n",
       "      <td>1</td>\n",
       "      <td>1</td>\n",
       "    </tr>\n",
       "    <tr>\n",
       "      <th>77</th>\n",
       "      <td>Customers that pay the $ 1,219 entrance fee ge...</td>\n",
       "      <td>Retail pricing for SMS 2003 with 10 device cli...</td>\n",
       "      <td>1</td>\n",
       "      <td>1</td>\n",
       "    </tr>\n",
       "    <tr>\n",
       "      <th>906</th>\n",
       "      <td>\" It is wasting both water and money , \" Orteg...</td>\n",
       "      <td>\" It 's a waste of water and money , \" said Ad...</td>\n",
       "      <td>1</td>\n",
       "      <td>1</td>\n",
       "    </tr>\n",
       "  </tbody>\n",
       "</table>\n",
       "</div>"
      ],
      "text/plain": [
       "                                              sentence1  \\\n",
       "1312  Ultimately , however , Mrs Clinton decided she...   \n",
       "606   The findings are published in the November 6 e...   \n",
       "789   \" Each institution helped Enron mislead its in...   \n",
       "794   The industry 's largest association is urging ...   \n",
       "1168  The government began on September 1 to add the...   \n",
       "418   Cadbury Schweppes plc plans to cut 5500 jobs a...   \n",
       "1418  The state wanted every insurer doing business ...   \n",
       "113   Judge Gerald W. Heaney , in dissent , said the...   \n",
       "77    Customers that pay the $ 1,219 entrance fee ge...   \n",
       "906   \" It is wasting both water and money , \" Orteg...   \n",
       "\n",
       "                                              sentence2  label  predicted  \n",
       "1312  She says she stayed in the marriage because sh...      1          1  \n",
       "606   Both studies are published on Thursday in Natu...      1          1  \n",
       "789   The SEC said each bank helped Enron mislead in...      1          1  \n",
       "794   Meantime , the Direct Marketing Association sa...      1          1  \n",
       "1168  The government recently added the word ' Taiwa...      1          1  \n",
       "418   Cadbury Schweppes has unveiled plans to slash ...      1          1  \n",
       "1418  The state wanted any insurer doing business th...      1          1  \n",
       "113   In dissent , Judge Gerald W. Heaney said the a...      1          1  \n",
       "77    Retail pricing for SMS 2003 with 10 device cli...      1          1  \n",
       "906   \" It 's a waste of water and money , \" said Ad...      1          1  "
      ]
     },
     "execution_count": 72,
     "metadata": {},
     "output_type": "execute_result"
    }
   ],
   "source": [
    "df_test[df_test['label'] == df_test['predicted']].sample(10)"
   ]
  }
 ],
 "metadata": {
  "jupytext": {
   "cell_metadata_filter": "-all",
   "main_language": "python",
   "notebook_metadata_filter": "-all"
  },
  "kernelspec": {
   "display_name": "nlp_env",
   "language": "python",
   "name": "python3"
  },
  "language_info": {
   "codemirror_mode": {
    "name": "ipython",
    "version": 3
   },
   "file_extension": ".py",
   "mimetype": "text/x-python",
   "name": "python",
   "nbconvert_exporter": "python",
   "pygments_lexer": "ipython3",
   "version": "3.9.21"
  }
 },
 "nbformat": 4,
 "nbformat_minor": 5
}
