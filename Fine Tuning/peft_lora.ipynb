{
 "cells": [
  {
   "cell_type": "code",
   "execution_count": 1,
   "id": "c4d9ef3f",
   "metadata": {},
   "outputs": [],
   "source": [
    "#!pip install -q datasets peft==0.3.0 levenshtein==0.26.1 accelerate==1.2.1 evaluate==0.4.0 transformers==4.45.2\n",
    "# torch==2.5.1+cu118\n",
    "# torchaudio==2.5.1+cu118\n",
    "# torchdata==0.5.1\n",
    "# torchvision==0.20.1+cu118\n",
    "#pip install torch torchvision torchaudio --index-url https://download.pytorch.org/whl/cu118"
   ]
  },
  {
   "cell_type": "markdown",
   "id": "ffca135b",
   "metadata": {},
   "source": [
    "# Fine Tuning BERT Model using PEFT-LORA"
   ]
  },
  {
   "cell_type": "markdown",
   "id": "be35b376",
   "metadata": {},
   "source": [
    " ### Setup"
   ]
  },
  {
   "cell_type": "code",
   "execution_count": null,
   "id": "556f2fc9",
   "metadata": {},
   "outputs": [],
   "source": [
    "import sys\n",
    "sys.path.append(\"../\")\n",
    "from torch import nn\n",
    "import pandas as pd\n",
    "from transformers import TrainingArguments\n",
    "from sklearn.model_selection import train_test_split\n",
    "from datasets import Dataset\n",
    "import matplotlib.pyplot as plt\n",
    "from sklearn.metrics import f1_score, classification_report\n",
    "import seaborn as sea\n",
    "import time\n",
    "from sklearn.metrics import f1_score, precision_score, recall_score, confusion_matrix\n",
    "import nltk\n",
    "import evaluate\n",
    "import numpy as np \n",
    "from peft import LoraConfig, get_peft_model, TaskType\n",
    "from transformers import TrainingArguments, Trainer\n",
    "from peft import PeftModel\n",
    "from accelerate import Accelerator\n",
    "import torch\n",
    "from transformers import BertTokenizer, BertForSequenceClassification, DataCollatorWithPadding\n",
    "import time\n",
    "import torch\n",
    "import gc\n",
    "import os\n",
    "if torch.cuda.is_available():\n",
    "   dev = \"cuda:0\"\n",
    "else:\n",
    "   dev = \"cpu\"\n",
    "\n",
    "# Libraries options\n",
    "os.environ[\"CUDA_VISIBLE_DEVICES\"] = \"0\"\n",
    "device = torch.device(dev)\n",
    "print('Using {}'.format(device))\n",
    "gc.collect()\n",
    "torch.cuda.empty_cache()   \n",
    "torch.cuda.empty_cache()\n",
    "nltk.download('stopwords')\n",
    "nltk.download('punkt')\n",
    "pd.options.display.max_rows = 999\n",
    "pd.set_option('max_colwidth', 1000)\n",
    "current_device = Accelerator().process_index\n",
    "device = torch.device(\"cuda\" if torch.cuda.is_available() else \"cpu\")\n",
    "print(device, current_device)\n",
    "\n",
    "np.random.seed(123)\n",
    "torch.manual_seed(123)"
   ]
  },
  {
   "cell_type": "markdown",
   "id": "876d3427",
   "metadata": {},
   "source": [
    "###  Data Access"
   ]
  },
  {
   "cell_type": "code",
   "execution_count": 5,
   "id": "a5fc4d66",
   "metadata": {},
   "outputs": [
    {
     "data": {
      "text/plain": [
       "5070"
      ]
     },
     "execution_count": 5,
     "metadata": {},
     "output_type": "execute_result"
    }
   ],
   "source": [
    "dataframe = pd.read_parquet('../Datasets/pre_processed_dataframes/clean_df.parquet')\n",
    "len(dataframe)"
   ]
  },
  {
   "cell_type": "code",
   "execution_count": 6,
   "id": "57dc4965",
   "metadata": {},
   "outputs": [
    {
     "data": {
      "image/png": "[encoded data removed]",
      "text/plain": [
       "<Figure size 640x480 with 1 Axes>"
      ]
     },
     "metadata": {},
     "output_type": "display_data"
    }
   ],
   "source": [
    "ax = dataframe['language_name'].value_counts().plot(kind='barh')"
   ]
  },
  {
   "cell_type": "code",
   "execution_count": 7,
   "id": "4662b3ef",
   "metadata": {},
   "outputs": [
    {
     "data": {
      "text/plain": [
       "1033"
      ]
     },
     "execution_count": 7,
     "metadata": {},
     "output_type": "execute_result"
    }
   ],
   "source": [
    "dataframe = dataframe[dataframe['language_name'] == 'English'].copy()\n",
    "valid_categories = ['Sports', 'Entertainment', 'Covid']\n",
    "dataframe = dataframe[dataframe['Category'].isin(valid_categories)]\n",
    "len(dataframe)"
   ]
  },
  {
   "cell_type": "code",
   "execution_count": 8,
   "id": "70792b3c",
   "metadata": {},
   "outputs": [
    {
     "data": {
      "image/png": "[encoded data removed]",
      "text/plain": [
       "<Figure size 640x480 with 1 Axes>"
      ]
     },
     "metadata": {},
     "output_type": "display_data"
    }
   ],
   "source": [
    "ax = dataframe['Category'].value_counts().plot(kind='barh')"
   ]
  },
  {
   "cell_type": "code",
   "execution_count": 9,
   "id": "ce4f3237",
   "metadata": {},
   "outputs": [
    {
     "data": {
      "text/plain": [
       "1033"
      ]
     },
     "execution_count": 9,
     "metadata": {},
     "output_type": "execute_result"
    }
   ],
   "source": [
    "len(dataframe)"
   ]
  },
  {
   "cell_type": "markdown",
   "id": "729a672a",
   "metadata": {},
   "source": [
    "### Training and Validation Data"
   ]
  },
  {
   "cell_type": "code",
   "execution_count": 10,
   "id": "b3d29a7a",
   "metadata": {},
   "outputs": [
    {
     "data": {
      "text/plain": [
       "(1033, 619, 207, 207)"
      ]
     },
     "execution_count": 10,
     "metadata": {},
     "output_type": "execute_result"
    }
   ],
   "source": [
    "df_train, df_test = train_test_split(dataframe, test_size=0.4, stratify=dataframe['Category'])\n",
    "df_valid, df_test = train_test_split(df_test, test_size=0.5)\n",
    "len(dataframe), len(df_train), len(df_valid), len(df_test)"
   ]
  },
  {
   "cell_type": "markdown",
   "id": "3f638a80",
   "metadata": {},
   "source": [
    "### Model Fine-Tuning\n",
    "\n",
    "**Parameter Efficient Fine-Tuning (PEFT)**\n",
    "\n",
    "Performing **Parameter Efficient Fine-Tuning (PEFT)** fine-tuning as opposed to \"full fine-tuning\". PEFT is a form of instruction fine-tuning that is much more efficient than full fine-tuning - with comparable evaluation results as you will see soon. \n",
    "\n",
    "PEFT is a generic term that includes **Low-Rank Adaptation (LoRA)** and prompt tuning. LoRA, at a very high level, allows the user to fine-tune their model using fewer compute resources (in some cases, a single GPU). After fine-tuning for a specific task, use case, or tenant with LoRA, the result is that the original LLM remains unchanged and a newly-trained “LoRA adapter” emerges. This LoRA adapter is much, much smaller than the original LLM - on the order of a single-digit % of the original LLM size (MBs vs GBs).  \n",
    "\n",
    "That said, at inference time, the LoRA adapter needs to be reunited and combined with its original LLM to serve the inference request.  The benefit, however, is that many LoRA adapters can re-use the original LLM which reduces overall memory requirements when serving multiple tasks and use cases."
   ]
  },
  {
   "cell_type": "markdown",
   "id": "c1ee6d02",
   "metadata": {},
   "source": [
    "####  Access to Hugging Face Model"
   ]
  },
  {
   "cell_type": "code",
   "execution_count": 11,
   "id": "b03a0dd5",
   "metadata": {
    "lines_to_next_cell": 2
   },
   "outputs": [],
   "source": [
    "model_path='google-bert/bert-base-multilingual-uncased'"
   ]
  },
  {
   "cell_type": "code",
   "execution_count": 12,
   "id": "279e8ec4",
   "metadata": {},
   "outputs": [
    {
     "data": {
      "text/plain": [
       "3"
      ]
     },
     "execution_count": 12,
     "metadata": {},
     "output_type": "execute_result"
    }
   ],
   "source": [
    "num_labels = len(df_train['Category'].unique())\n",
    "num_labels"
   ]
  },
  {
   "cell_type": "code",
   "execution_count": 13,
   "id": "28c92f57",
   "metadata": {
    "lines_to_next_cell": 1
   },
   "outputs": [
    {
     "name": "stderr",
     "output_type": "stream",
     "text": [
      "Some weights of BertForSequenceClassification were not initialized from the model checkpoint at google-bert/bert-base-multilingual-uncased and are newly initialized: ['classifier.bias', 'classifier.weight']\n",
      "You should probably TRAIN this model on a down-stream task to be able to use it for predictions and inference.\n"
     ]
    }
   ],
   "source": [
    "tokenizer = BertTokenizer.from_pretrained(model_path)\n",
    "model = BertForSequenceClassification.from_pretrained(model_path, num_labels=num_labels).to(device)"
   ]
  },
  {
   "cell_type": "code",
   "execution_count": 14,
   "id": "5180e08a",
   "metadata": {
    "lines_to_next_cell": 1
   },
   "outputs": [],
   "source": [
    "def print_number_of_trainable_model_parameters(model):\n",
    "    trainable_model_params = 0\n",
    "    all_model_params = 0\n",
    "    for _, param in model.named_parameters():\n",
    "        all_model_params += param.numel()\n",
    "        if param.requires_grad:\n",
    "            trainable_model_params += param.numel()\n",
    "    return f\"trainable model parameters: {trainable_model_params}\\nall model parameters: {all_model_params}\\npercentage of trainable model parameters: {100 * trainable_model_params / all_model_params:.2f}%\""
   ]
  },
  {
   "cell_type": "code",
   "execution_count": 15,
   "id": "234f4a87",
   "metadata": {},
   "outputs": [
    {
     "name": "stdout",
     "output_type": "stream",
     "text": [
      "trainable model parameters: 167358723\n",
      "all model parameters: 167358723\n",
      "percentage of trainable model parameters: 100.00%\n"
     ]
    }
   ],
   "source": [
    "print(print_number_of_trainable_model_parameters(model))"
   ]
  },
  {
   "cell_type": "markdown",
   "id": "5eda8a2d",
   "metadata": {},
   "source": [
    "####  Prepare Data"
   ]
  },
  {
   "cell_type": "code",
   "execution_count": 16,
   "id": "cdce0159",
   "metadata": {},
   "outputs": [],
   "source": [
    "max_length = 512"
   ]
  },
  {
   "cell_type": "code",
   "execution_count": 17,
   "id": "85348e96",
   "metadata": {},
   "outputs": [
    {
     "name": "stderr",
     "output_type": "stream",
     "text": [
      "Map: 100%|██████████| 619/619 [00:00<00:00, 2615.92 examples/s]\n",
      "Map: 100%|██████████| 207/207 [00:00<00:00, 2601.70 examples/s]\n",
      "Map: 100%|██████████| 207/207 [00:00<00:00, 2602.09 examples/s]\n"
     ]
    },
    {
     "data": {
      "text/plain": [
       "(619, 207, 207)"
      ]
     },
     "execution_count": 17,
     "metadata": {},
     "output_type": "execute_result"
    }
   ],
   "source": [
    "df_train = df_train.reset_index(drop=True)\n",
    "df_valid = df_valid.reset_index(drop=True)\n",
    "df_test = df_test.reset_index(drop=True)\n",
    "\n",
    "label_mapping = {category: index for index, category in enumerate(dataframe['Category'].unique())}\n",
    "\n",
    "label = 'label'\n",
    "df_train[label] = df_train['Category'].apply(lambda x: label_mapping[x])\n",
    "df_valid[label] = df_valid['Category'].apply(lambda x: label_mapping[x])\n",
    "df_test[label] = df_test['Category'].apply(lambda x: label_mapping[x])\n",
    "\n",
    "model.config.id2label = label_mapping\n",
    "model.config.label2id = {v: k for k, v in label_mapping.items()}\n",
    "\n",
    "column_name = 'cleaned_description'\n",
    "train_dataset, train_label, = list(df_train[column_name]), list(df_train[label].values)\n",
    "valid_dataset, valid_label, = list(df_valid[column_name]), list(df_valid[label].values)\n",
    "test_dataset, test_label, = list(df_test[column_name]), list(df_test[label].values)\n",
    "\n",
    "train_dataset = Dataset.from_dict({\"text\": train_dataset, \"label\": train_label})\n",
    "valid_dataset = Dataset.from_dict({\"text\": valid_dataset, \"label\": valid_label})\n",
    "test_dataset = Dataset.from_dict({\"text\": test_dataset, \"label\": test_label})\n",
    "\n",
    "def preprocess_function(examples):\n",
    "    return tokenizer(examples[\"text\"], padding='max_length', truncation=True,  max_length=max_length)\n",
    "\n",
    "train_dataset = train_dataset.map(preprocess_function, batched=True, batch_size=512)\n",
    "valid_dataset = valid_dataset.map(preprocess_function, batched=True, batch_size=512)\n",
    "test_dataset = test_dataset.map(preprocess_function, batched=True, batch_size=512)\n",
    "\n",
    "len(train_dataset), len(valid_dataset), len(test_dataset)"
   ]
  },
  {
   "cell_type": "markdown",
   "id": "912bf458",
   "metadata": {},
   "source": [
    "#### Fine-Tuning the Model"
   ]
  },
  {
   "cell_type": "code",
   "execution_count": 18,
   "id": "299732b1",
   "metadata": {},
   "outputs": [],
   "source": [
    "metric = evaluate.load(\"accuracy\")\n",
    "\n",
    "def compute_metrics(eval_pred):\n",
    "    logits, labels = eval_pred\n",
    "    predictions = np.argmax(logits, axis=-1)\n",
    "    return metric.compute(predictions=predictions, references=labels)"
   ]
  },
  {
   "cell_type": "code",
   "execution_count": 19,
   "id": "7eb249c5",
   "metadata": {},
   "outputs": [],
   "source": [
    "class WeightedLossTrainer(Trainer):\n",
    "    def compute_loss(self, model, inputs, return_outputs=False):\n",
    "        labels = inputs.get(\"labels\")\n",
    "        outputs = model(**inputs)\n",
    "        logits = outputs.get(\"logits\")        \n",
    "        # classes weights\n",
    "        weights = [1.0, 1.0, 1.0]\n",
    "        class_weights = torch.tensor(weights, device=logits.device)\n",
    "        loss_fct = nn.CrossEntropyLoss(weight=class_weights)\n",
    "        loss = loss_fct(logits.view(-1, self.model.config.num_labels), labels.view(-1))        \n",
    "        return (loss, outputs) if return_outputs else loss\n",
    "\n",
    "out_dir ='./fine_tuning_news'\n",
    "training_args = TrainingArguments(output_dir=out_dir,\n",
    "                                   eval_strategy=\"steps\",\n",
    "                                   overwrite_output_dir=True,\n",
    "                                   save_total_limit=1,\n",
    "                                   run_name='fine_tuning',\n",
    "                                   num_train_epochs=10,                                   \n",
    "                                   report_to=\"none\",#no wandb api log\n",
    "                                   auto_find_batch_size=True,                                                                      \n",
    "                                   push_to_hub=False,\n",
    "                                     # Parameters for early stopping\n",
    "                                    load_best_model_at_end=True,\n",
    "                                    save_total_limit=1,\n",
    "                                    metric_for_best_model=\"eval_loss\",\n",
    "                                    greater_is_better=False)\n",
    "\n",
    "data_collator = DataCollatorWithPadding(tokenizer=tokenizer)"
   ]
  },
  {
   "cell_type": "code",
   "execution_count": 20,
   "id": "3bac42fa",
   "metadata": {},
   "outputs": [],
   "source": [
    "torch.cuda.empty_cache()"
   ]
  },
  {
   "cell_type": "code",
   "execution_count": 21,
   "id": "83deb88e",
   "metadata": {},
   "outputs": [
    {
     "name": "stderr",
     "output_type": "stream",
     "text": [
      "  0%|          | 1/780 [00:01<24:41,  1.90s/it]\n",
      "  0%|          | 1/1550 [00:01<38:46,  1.50s/it]\n",
      " 16%|█▌        | 500/3100 [02:26<12:48,  3.38it/s]"
     ]
    },
    {
     "name": "stdout",
     "output_type": "stream",
     "text": [
      "{'loss': 0.9893, 'grad_norm': 12.495787620544434, 'learning_rate': 4.1935483870967746e-05, 'epoch': 1.61}\n"
     ]
    },
    {
     "name": "stderr",
     "output_type": "stream",
     "text": [
      "                                                  \n",
      " 16%|█▌        | 500/3100 [02:33<12:48,  3.38it/s]"
     ]
    },
    {
     "name": "stdout",
     "output_type": "stream",
     "text": [
      "{'eval_loss': 0.8509621620178223, 'eval_accuracy': 0.5942028985507246, 'eval_runtime': 7.1474, 'eval_samples_per_second': 28.962, 'eval_steps_per_second': 3.638, 'epoch': 1.61}\n"
     ]
    },
    {
     "name": "stderr",
     "output_type": "stream",
     "text": [
      " 32%|███▏      | 1000/3100 [05:09<10:22,  3.37it/s] "
     ]
    },
    {
     "name": "stdout",
     "output_type": "stream",
     "text": [
      "{'loss': 0.8275, 'grad_norm': 11.668805122375488, 'learning_rate': 3.387096774193548e-05, 'epoch': 3.23}\n"
     ]
    },
    {
     "name": "stderr",
     "output_type": "stream",
     "text": [
      "                                                   \n",
      " 32%|███▏      | 1000/3100 [05:16<10:22,  3.37it/s]"
     ]
    },
    {
     "name": "stdout",
     "output_type": "stream",
     "text": [
      "{'eval_loss': 2.069755792617798, 'eval_accuracy': 0.5942028985507246, 'eval_runtime': 7.1838, 'eval_samples_per_second': 28.815, 'eval_steps_per_second': 3.619, 'epoch': 3.23}\n"
     ]
    },
    {
     "name": "stderr",
     "output_type": "stream",
     "text": [
      " 48%|████▊     | 1500/3100 [07:47<07:55,  3.36it/s]  "
     ]
    },
    {
     "name": "stdout",
     "output_type": "stream",
     "text": [
      "{'loss': 1.0069, 'grad_norm': 7.720119476318359, 'learning_rate': 2.5806451612903226e-05, 'epoch': 4.84}\n"
     ]
    },
    {
     "name": "stderr",
     "output_type": "stream",
     "text": [
      "                                                   \n",
      " 48%|████▊     | 1500/3100 [07:54<07:55,  3.36it/s]"
     ]
    },
    {
     "name": "stdout",
     "output_type": "stream",
     "text": [
      "{'eval_loss': 1.2931580543518066, 'eval_accuracy': 0.27053140096618356, 'eval_runtime': 7.1822, 'eval_samples_per_second': 28.821, 'eval_steps_per_second': 3.62, 'epoch': 4.84}\n"
     ]
    },
    {
     "name": "stderr",
     "output_type": "stream",
     "text": [
      " 65%|██████▍   | 2000/3100 [10:25<05:26,  3.37it/s]  "
     ]
    },
    {
     "name": "stdout",
     "output_type": "stream",
     "text": [
      "{'loss': 0.7675, 'grad_norm': 0.15506120026111603, 'learning_rate': 1.774193548387097e-05, 'epoch': 6.45}\n"
     ]
    },
    {
     "name": "stderr",
     "output_type": "stream",
     "text": [
      "                                                   \n",
      " 65%|██████▍   | 2000/3100 [10:32<05:26,  3.37it/s]"
     ]
    },
    {
     "name": "stdout",
     "output_type": "stream",
     "text": [
      "{'eval_loss': 0.9806039333343506, 'eval_accuracy': 0.8067632850241546, 'eval_runtime': 7.2154, 'eval_samples_per_second': 28.689, 'eval_steps_per_second': 3.603, 'epoch': 6.45}\n"
     ]
    },
    {
     "name": "stderr",
     "output_type": "stream",
     "text": [
      " 81%|████████  | 2500/3100 [13:04<02:58,  3.35it/s]"
     ]
    },
    {
     "name": "stdout",
     "output_type": "stream",
     "text": [
      "{'loss': 0.8777, 'grad_norm': 0.26012519001960754, 'learning_rate': 9.67741935483871e-06, 'epoch': 8.06}\n"
     ]
    },
    {
     "name": "stderr",
     "output_type": "stream",
     "text": [
      "                                                   \n",
      " 81%|████████  | 2500/3100 [13:11<02:58,  3.35it/s]"
     ]
    },
    {
     "name": "stdout",
     "output_type": "stream",
     "text": [
      "{'eval_loss': 0.7653775215148926, 'eval_accuracy': 0.642512077294686, 'eval_runtime': 7.1986, 'eval_samples_per_second': 28.756, 'eval_steps_per_second': 3.612, 'epoch': 8.06}\n"
     ]
    },
    {
     "name": "stderr",
     "output_type": "stream",
     "text": [
      " 97%|█████████▋| 3000/3100 [15:42<00:29,  3.35it/s]"
     ]
    },
    {
     "name": "stdout",
     "output_type": "stream",
     "text": [
      "{'loss': 0.7304, 'grad_norm': 51.155635833740234, 'learning_rate': 1.6129032258064516e-06, 'epoch': 9.68}\n"
     ]
    },
    {
     "name": "stderr",
     "output_type": "stream",
     "text": [
      "                                                   \n",
      " 97%|█████████▋| 3000/3100 [15:49<00:29,  3.35it/s]"
     ]
    },
    {
     "name": "stdout",
     "output_type": "stream",
     "text": [
      "{'eval_loss': 0.7590185403823853, 'eval_accuracy': 0.8357487922705314, 'eval_runtime': 7.2176, 'eval_samples_per_second': 28.68, 'eval_steps_per_second': 3.602, 'epoch': 9.68}\n"
     ]
    },
    {
     "name": "stderr",
     "output_type": "stream",
     "text": [
      "100%|██████████| 3100/3100 [16:24<00:00,  3.15it/s]"
     ]
    },
    {
     "name": "stdout",
     "output_type": "stream",
     "text": [
      "{'train_runtime': 984.618, 'train_samples_per_second': 6.287, 'train_steps_per_second': 3.148, 'train_loss': 0.8491401155533329, 'epoch': 10.0}\n"
     ]
    },
    {
     "name": "stderr",
     "output_type": "stream",
     "text": [
      "\n"
     ]
    }
   ],
   "source": [
    "trainer = WeightedLossTrainer(\n",
    "    model=model,\n",
    "    args=training_args,\n",
    "    train_dataset=train_dataset,\n",
    "    eval_dataset=test_dataset,\n",
    "    data_collator=data_collator,\n",
    "    compute_metrics=compute_metrics      \n",
    ")\n",
    "trainer_start_time = time.time()\n",
    "trainer.train()\n",
    "trainer_total_time = (time.time() - trainer_start_time)/60"
   ]
  },
  {
   "cell_type": "code",
   "execution_count": 23,
   "id": "2dd5a6ac",
   "metadata": {},
   "outputs": [
    {
     "name": "stderr",
     "output_type": "stream",
     "text": [
      "30it [00:10,  2.84it/s]                        \n"
     ]
    },
    {
     "data": {
      "text/plain": [
       "{'eval_loss': 0.7798380255699158,\n",
       " 'eval_accuracy': 0.8260869565217391,\n",
       " 'eval_runtime': 7.155,\n",
       " 'eval_samples_per_second': 28.931,\n",
       " 'eval_steps_per_second': 3.634,\n",
       " 'epoch': 10.0}"
      ]
     },
     "execution_count": 23,
     "metadata": {},
     "output_type": "execute_result"
    }
   ],
   "source": [
    "trainer.evaluate()"
   ]
  },
  {
   "cell_type": "code",
   "execution_count": 24,
   "id": "79559ae0",
   "metadata": {},
   "outputs": [
    {
     "name": "stderr",
     "output_type": "stream",
     "text": [
      "100%|██████████| 26/26 [00:06<00:00,  3.78it/s]\n"
     ]
    }
   ],
   "source": [
    "predictions = trainer.predict(test_dataset)\n",
    "label_ids = predictions.predictions.argmax(-1)\n",
    "labels_names = [model.config.label2id[id] for id in label_ids]\n",
    "df_test['predictions - fine tuning'] = label_ids\n",
    "df_test['Category (automatic fine tuning)'] = labels_names"
   ]
  },
  {
   "cell_type": "code",
   "execution_count": null,
   "id": "595adb4c",
   "metadata": {},
   "outputs": [],
   "source": [
    "y_true_ids = df_test['label'].values\n",
    "y_pred_ids = df_test['predictions - fine tuning'].values\n",
    "y_true_labels = df_test['Category'].values\n",
    "y_pred_labels = df_test['Category (automatic fine tuning)'].values\n",
    "\n",
    "trainer_precision = np.round(precision_score(y_true_ids, y_pred_ids, average='macro', zero_division=0), 3)\n",
    "trainer_recall = np.round(recall_score(y_true_ids, y_pred_ids, average='macro', zero_division=0), 3)\n",
    "trainer_f1 = np.round(f1_score(y_true_ids, y_pred_ids, average='macro', zero_division=0), 3)\n"
   ]
  },
  {
   "cell_type": "code",
   "execution_count": 30,
   "id": "92eff4ae",
   "metadata": {},
   "outputs": [
    {
     "name": "stdout",
     "output_type": "stream",
     "text": [
      "Precision: 0.829\n",
      "Recall: 0.826\n",
      "F1 Score: 0.827\n",
      "               precision    recall  f1-score   support\n",
      "\n",
      "        Covid       0.75      0.81      0.78        68\n",
      "Entertainment       0.87      0.84      0.85        56\n",
      "       Sports       0.86      0.83      0.85        83\n",
      "\n",
      "     accuracy                           0.83       207\n",
      "    macro avg       0.83      0.83      0.83       207\n",
      " weighted avg       0.83      0.83      0.83       207\n",
      "\n"
     ]
    },
    {
     "data": {
      "image/png": "[encoded data removed]",
      "text/plain": [
       "<Figure size 600x400 with 2 Axes>"
      ]
     },
     "metadata": {},
     "output_type": "display_data"
    }
   ],
   "source": [
    "print(f\"Precision: {trainer_precision}\")\n",
    "print(f\"Recall: {trainer_recall}\")\n",
    "print(f\"F1 Score: {trainer_f1}\")\n",
    "print(classification_report(y_true_labels, y_pred_labels, zero_division=0))\n",
    "\n",
    "target_names = model.config.id2label.keys()\n",
    "cm = confusion_matrix(y_true_labels, y_pred_labels)\n",
    "plt.figure(figsize=(6, 4))\n",
    "sea.heatmap(cm, annot=True, fmt='d', cmap='Blues', xticklabels=target_names, yticklabels=target_names)\n",
    "plt.title('Confusion Matrix', fontsize=14)\n",
    "plt.xlabel('Predicted Class')\n",
    "plt.ylabel('True Class')\n",
    "plt.show()"
   ]
  },
  {
   "cell_type": "code",
   "execution_count": 31,
   "id": "a9cbb3a0",
   "metadata": {},
   "outputs": [
    {
     "data": {
      "text/plain": [
       "[['Fine Tuning (Training)', 0.827, 0.829, 0.826, 16.48309491078059]]"
      ]
     },
     "execution_count": 31,
     "metadata": {},
     "output_type": "execute_result"
    }
   ],
   "source": [
    "data = []\n",
    "data.append(['Fine Tuning (Training)', trainer_f1, trainer_precision, trainer_recall, trainer_total_time])            \n",
    "data"
   ]
  },
  {
   "cell_type": "markdown",
   "id": "87e40189",
   "metadata": {},
   "source": [
    "##### PEFT/LORA Configuration"
   ]
  },
  {
   "cell_type": "code",
   "execution_count": 32,
   "id": "b0b70bf9",
   "metadata": {},
   "outputs": [
    {
     "name": "stdout",
     "output_type": "stream",
     "text": [
      "trainable model parameters: 152070\n",
      "all model parameters: 167508486\n",
      "percentage of trainable model parameters: 0.09%\n"
     ]
    }
   ],
   "source": [
    "lora_config = LoraConfig(\n",
    "    r=4, # dimensions\n",
    "    lora_alpha=6,\n",
    "    lora_dropout=0.05,\n",
    "    bias=\"none\",\n",
    "    task_type=TaskType.TOKEN_CLS\n",
    ")\n",
    "peft_model = get_peft_model(model, lora_config)\n",
    "print(print_number_of_trainable_model_parameters(peft_model))"
   ]
  },
  {
   "cell_type": "markdown",
   "id": "c8570fe6",
   "metadata": {},
   "source": [
    "##### Training the Adapter"
   ]
  },
  {
   "cell_type": "code",
   "execution_count": 33,
   "id": "5eee6fc4",
   "metadata": {},
   "outputs": [],
   "source": [
    "output_dir = f'./peft/{str(int(time.time()))}'"
   ]
  },
  {
   "cell_type": "code",
   "execution_count": null,
   "id": "9c2ba1da",
   "metadata": {},
   "outputs": [],
   "source": [
    "peft_training_args = TrainingArguments(\n",
    "    output_dir=output_dir,\n",
    "    eval_strategy=\"steps\",\n",
    "    overwrite_output_dir=True,\n",
    "    save_total_limit=1,\n",
    "    run_name='fine_tuning',\n",
    "    num_train_epochs=10,    \n",
    "    report_to=\"none\", #no wandb api log\n",
    "    auto_find_batch_size=True,                                                                      \n",
    "    push_to_hub=False\n",
    "    )\n",
    "\n",
    "peft_trainer = Trainer(\n",
    "    model=peft_model,\n",
    "    args=peft_training_args,\n",
    "    train_dataset=train_dataset,\n",
    "    eval_dataset=valid_dataset,\n",
    "    compute_metrics=compute_metrics,\n",
    "    tokenizer=tokenizer,\n",
    "    data_collator=data_collator,\n",
    "    )\n",
    "\n",
    "peft_trainer_start_time = time.time()\n",
    "peft_trainer.train()\n",
    "peft_trainer_total_time = (time.time() - peft_trainer_start_time)/60"
   ]
  },
  {
   "cell_type": "code",
   "execution_count": 38,
   "id": "557cde7c",
   "metadata": {},
   "outputs": [
    {
     "name": "stderr",
     "output_type": "stream",
     "text": [
      "100%|██████████| 26/26 [00:07<00:00,  3.64it/s]\n"
     ]
    },
    {
     "data": {
      "text/plain": [
       "{'eval_loss': 0.5676062107086182,\n",
       " 'eval_accuracy': 0.855072463768116,\n",
       " 'eval_runtime': 7.4412,\n",
       " 'eval_samples_per_second': 27.818,\n",
       " 'eval_steps_per_second': 3.494,\n",
       " 'epoch': 10.0}"
      ]
     },
     "execution_count": 38,
     "metadata": {},
     "output_type": "execute_result"
    }
   ],
   "source": [
    "peft_trainer.evaluate()"
   ]
  },
  {
   "cell_type": "markdown",
   "id": "27ce35c8",
   "metadata": {},
   "source": [
    "##### Evaluation"
   ]
  },
  {
   "cell_type": "code",
   "execution_count": null,
   "id": "d7e87f24",
   "metadata": {},
   "outputs": [],
   "source": [
    "predictions = peft_trainer.predict(test_dataset)"
   ]
  },
  {
   "cell_type": "code",
   "execution_count": 40,
   "id": "3110c6f3",
   "metadata": {},
   "outputs": [
    {
     "name": "stdout",
     "output_type": "stream",
     "text": [
      "Precision: 0.831\n",
      "Recall: 0.828\n",
      "F1 Score: 0.829\n",
      "               precision    recall  f1-score   support\n",
      "\n",
      "        Covid       0.84      0.76      0.80        68\n",
      "Entertainment       0.82      0.84      0.83        56\n",
      "       Sports       0.83      0.88      0.85        83\n",
      "\n",
      "     accuracy                           0.83       207\n",
      "    macro avg       0.83      0.83      0.83       207\n",
      " weighted avg       0.83      0.83      0.83       207\n",
      "\n"
     ]
    },
    {
     "data": {
      "image/png": "[encoded data removed]",
      "text/plain": [
       "<Figure size 800x600 with 2 Axes>"
      ]
     },
     "metadata": {},
     "output_type": "display_data"
    }
   ],
   "source": [
    "label_ids = predictions.predictions.argmax(-1)\n",
    "labels_names = [model.config.label2id[id] for id in label_ids]\n",
    "df_test['predictions - peft'] = label_ids\n",
    "df_test['Category (automatic - peft)'] = labels_names\n",
    "\n",
    "y_true_ids = df_test['label'].values\n",
    "y_pred_ids = df_test['predictions - peft'].values\n",
    "\n",
    "y_true_labels = df_test['Category'].values\n",
    "y_pred_labels = df_test['Category (automatic - peft)'].values\n",
    "\n",
    "peft_precision = np.round(precision_score(y_true_ids, y_pred_ids, average='macro', zero_division=0), 3)\n",
    "peft_recall = np.round(recall_score(y_true_ids, y_pred_ids, average='macro', zero_division=0), 3)\n",
    "peft_f1 = np.round(f1_score(y_true_ids, y_pred_ids, average='macro', zero_division=0), 3)\n",
    "\n",
    "print(f\"Precision: {peft_precision}\")\n",
    "print(f\"Recall: {peft_recall}\")\n",
    "print(f\"F1 Score: {peft_f1}\")\n",
    "print(classification_report(y_true_labels, y_pred_labels, zero_division=0))\n",
    "\n",
    "target_names = model.config.id2label.keys()\n",
    "cm = confusion_matrix(y_true_labels, y_pred_labels)\n",
    "plt.figure(figsize=(8, 6))\n",
    "sea.heatmap(cm, annot=True, fmt='d', cmap='Blues', xticklabels=target_names, yticklabels=target_names)\n",
    "plt.title('Confusion Matrix', fontsize=16)\n",
    "plt.xlabel('Predicted Class', fontsize=14)\n",
    "plt.ylabel('True Class', fontsize=14)\n",
    "plt.show()\n"
   ]
  },
  {
   "cell_type": "code",
   "execution_count": 41,
   "id": "bd49ba48",
   "metadata": {},
   "outputs": [
    {
     "data": {
      "text/plain": [
       "[['Fine Tuning (Training)', 0.827, 0.829, 0.826, 16.48309491078059],\n",
       " ['PEFT (Training)', 0.829, 0.831, 0.828, 9.567769372463227]]"
      ]
     },
     "execution_count": 41,
     "metadata": {},
     "output_type": "execute_result"
    }
   ],
   "source": [
    "data.append(['PEFT (Training)', peft_f1, peft_precision, peft_recall, peft_trainer_total_time])            \n",
    "data"
   ]
  },
  {
   "cell_type": "code",
   "execution_count": 42,
   "id": "f9a47641",
   "metadata": {},
   "outputs": [
    {
     "name": "stdout",
     "output_type": "stream",
     "text": [
      "Total time training fine tuning model =  16.48309491078059\n",
      "Total time training peft fine tuning model =  9.567769372463227\n"
     ]
    }
   ],
   "source": [
    "print('Total time training fine tuning model = ', trainer_total_time)\n",
    "print('Total time training peft fine tuning model = ', peft_trainer_total_time)\n"
   ]
  },
  {
   "cell_type": "markdown",
   "id": "421c9536",
   "metadata": {},
   "source": [
    "##### Save the Model"
   ]
  },
  {
   "cell_type": "code",
   "execution_count": 43,
   "id": "5bdf1965",
   "metadata": {},
   "outputs": [],
   "source": [
    "peft_model_path=\"./peft-clf-checkpoint-local\"\n",
    "peft_trainer.model.save_pretrained(peft_model_path)"
   ]
  },
  {
   "cell_type": "markdown",
   "id": "8dd30611",
   "metadata": {},
   "source": [
    " ##### Access Fine Tuning Model"
   ]
  },
  {
   "cell_type": "code",
   "execution_count": 50,
   "id": "a281821d",
   "metadata": {},
   "outputs": [
    {
     "name": "stderr",
     "output_type": "stream",
     "text": [
      "/home/carina/anaconda3/envs/hugging_face_env/lib/python3.9/site-packages/peft/peft_model.py:372: FutureWarning: You are using `torch.load` with `weights_only=False` (the current default value), which uses the default pickle module implicitly. It is possible to construct malicious pickle data which will execute arbitrary code during unpickling (See https://github.com/pytorch/pytorch/blob/main/SECURITY.md#untrusted-models for more details). In a future release, the default value for `weights_only` will be flipped to `True`. This limits the functions that could be executed during unpickling. Arbitrary objects will no longer be allowed to be loaded via this mode unless they are explicitly allowlisted by the user via `torch.serialization.add_safe_globals`. We recommend you start setting `weights_only=True` for any use case where you don't have full control of the loaded file. Please open an issue on GitHub for any issues related to this experimental feature.\n",
      "  adapters_weights = torch.load(\n"
     ]
    }
   ],
   "source": [
    "loaded_peft_model = PeftModel.from_pretrained(model, \n",
    "                                    peft_model_path,                                       \n",
    "                                    torch_dtype=torch.bfloat16,\n",
    "                                    is_trainable=False,\n",
    "                                    )\n",
    "\n",
    "loaded_peft_model.load_adapter(peft_model_path, 'adapter_config')\n",
    "loaded_peft_model.set_adapter('adapter_config')"
   ]
  },
  {
   "cell_type": "code",
   "execution_count": 46,
   "id": "40251bce",
   "metadata": {},
   "outputs": [
    {
     "name": "stdout",
     "output_type": "stream",
     "text": [
      "trainable model parameters: 0\n",
      "all model parameters: 167655942\n",
      "percentage of trainable model parameters: 0.00%\n"
     ]
    }
   ],
   "source": [
    "print(print_number_of_trainable_model_parameters(loaded_peft_model))"
   ]
  },
  {
   "cell_type": "code",
   "execution_count": 69,
   "id": "b1b1787b",
   "metadata": {},
   "outputs": [],
   "source": [
    "validation_sentences = valid_dataset['text']"
   ]
  },
  {
   "cell_type": "code",
   "execution_count": 70,
   "id": "e3e00193",
   "metadata": {},
   "outputs": [],
   "source": [
    "inputs = tokenizer(\n",
    "    validation_sentences,\n",
    "    padding=True,\n",
    "    truncation=True,\n",
    "    max_length=max_length,\n",
    "    return_tensors=\"pt\"\n",
    ")\n",
    "with torch.no_grad():\n",
    "    outputs = loaded_peft_model(**inputs)\n",
    "    logits = outputs.logits"
   ]
  },
  {
   "cell_type": "code",
   "execution_count": 72,
   "id": "56322d2f",
   "metadata": {},
   "outputs": [],
   "source": [
    "label_ids = torch.argmax(logits, dim=-1).tolist()\n",
    "labels_names = [model.config.label2id[id] for id in label_ids]\n",
    "df_valid['predictions - peft'] = label_ids\n",
    "df_valid['Category (automatic - peft)'] = labels_names\n",
    "\n",
    "y_true_ids = df_valid['label'].values\n",
    "y_pred_ids = df_valid['predictions - peft'].values\n",
    "\n",
    "y_true_labels = df_valid['Category'].values\n",
    "y_pred_labels = df_valid['Category (automatic - peft)'].values"
   ]
  },
  {
   "cell_type": "code",
   "execution_count": 76,
   "id": "a7a3ce24",
   "metadata": {},
   "outputs": [
    {
     "name": "stdout",
     "output_type": "stream",
     "text": [
      "Precision: 0.815\n",
      "Recall: 0.826\n",
      "F1 Score: 0.813\n",
      "               precision    recall  f1-score   support\n",
      "\n",
      "        Covid       0.59      0.80      0.68        46\n",
      "Entertainment       0.92      0.86      0.89        63\n",
      "       Sports       0.94      0.82      0.87        98\n",
      "\n",
      "     accuracy                           0.83       207\n",
      "    macro avg       0.81      0.83      0.81       207\n",
      " weighted avg       0.85      0.83      0.83       207\n",
      "\n"
     ]
    },
    {
     "data": {
      "image/png": "[encoded data removed]",
      "text/plain": [
       "<Figure size 800x600 with 2 Axes>"
      ]
     },
     "metadata": {},
     "output_type": "display_data"
    }
   ],
   "source": [
    "peft_precision_validation = np.round(precision_score(y_true_ids, y_pred_ids, average='macro', zero_division=0), 3)\n",
    "peft_recall_validation = np.round(recall_score(y_true_ids, y_pred_ids, average='macro', zero_division=0), 3)\n",
    "peft_f1_validation = np.round(f1_score(y_true_ids, y_pred_ids, average='macro', zero_division=0), 3)\n",
    "\n",
    "print(f\"Precision: {peft_precision_validation}\")\n",
    "print(f\"Recall: {peft_recall_validation}\")\n",
    "print(f\"F1 Score: {peft_f1_validation}\")\n",
    "print(classification_report(y_true_labels, y_pred_labels, zero_division=0))\n",
    "\n",
    "target_names = model.config.id2label.keys()\n",
    "cm = confusion_matrix(y_true_labels, y_pred_labels)\n",
    "plt.figure(figsize=(8, 6))\n",
    "sea.heatmap(cm, annot=True, fmt='d', cmap='Blues', xticklabels=target_names, yticklabels=target_names)\n",
    "plt.title('Confusion Matrix (Validation)', fontsize=16)\n",
    "plt.xlabel('Predicted Class', fontsize=14)\n",
    "plt.ylabel('True Class', fontsize=14)\n",
    "plt.show()\n"
   ]
  },
  {
   "cell_type": "code",
   "execution_count": 77,
   "id": "b710be3b",
   "metadata": {},
   "outputs": [
    {
     "data": {
      "text/plain": [
       "[['Fine Tuning (Training)', 0.827, 0.829, 0.826, 16.48309491078059],\n",
       " ['PEFT (Training)', 0.829, 0.831, 0.828, 9.567769372463227],\n",
       " ['PEFT (Validation)', 0.813, 0.815, 0.826, 0]]"
      ]
     },
     "execution_count": 77,
     "metadata": {},
     "output_type": "execute_result"
    }
   ],
   "source": [
    "data.append(['PEFT (Validation)', peft_f1_validation, peft_precision_validation, peft_recall_validation, 0])            \n",
    "data"
   ]
  },
  {
   "cell_type": "code",
   "execution_count": 113,
   "id": "c46d758c",
   "metadata": {},
   "outputs": [],
   "source": [
    "metrics_df = pd.DataFrame(data, columns=['Strategy', 'F1', 'Precision', 'Recall', 'Training Time'])           \n",
    "metrics_df = metrics_df[metrics_df['Strategy'] != 'PEFT (Validation)'].copy()"
   ]
  },
  {
   "cell_type": "code",
   "execution_count": 138,
   "id": "b21d6b72",
   "metadata": {},
   "outputs": [
    {
     "data": {
      "image/png": "[encoded data removed]",
      "text/plain": [
       "<Figure size 1000x400 with 2 Axes>"
      ]
     },
     "metadata": {},
     "output_type": "display_data"
    }
   ],
   "source": [
    "fig, axes = plt.subplots(1, 2, figsize=(10, 4))\n",
    "\n",
    "df = metrics_df[['Strategy', 'F1', 'Precision', 'Recall']].melt(id_vars='Strategy', var_name='Metric', value_name='Value')\n",
    "sea.barplot(data=df, x='Metric', y='Value', hue='Strategy', ax=axes[0])\n",
    "axes[0].legend(loc='lower left')\n",
    "axes[0].set_ylim(0, 1)\n",
    "axes[0].set_title('Comparison of Metrics')\n",
    "sea.barplot(data=metrics_df, x='Strategy', y='Training Time', ax=axes[1])\n",
    "axes[1].set_title('Comparison of Training Time')\n",
    "axes[1].set_ylabel('Training Time (minutes)')\n",
    "plt.tight_layout()\n",
    "plt.show()"
   ]
  }
 ],
 "metadata": {
  "jupytext": {
   "cell_metadata_filter": "-all",
   "main_language": "python",
   "notebook_metadata_filter": "-all"
  },
  "kernelspec": {
   "display_name": "nlp_env",
   "language": "python",
   "name": "python3"
  },
  "language_info": {
   "codemirror_mode": {
    "name": "ipython",
    "version": 3
   },
   "file_extension": ".py",
   "mimetype": "text/x-python",
   "name": "python",
   "nbconvert_exporter": "python",
   "pygments_lexer": "ipython3",
   "version": "3.9.21"
  }
 },
 "nbformat": 4,
 "nbformat_minor": 5
}
