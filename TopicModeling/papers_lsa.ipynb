{
 "cells": [
  {
   "cell_type": "markdown",
   "metadata": {},
   "source": [
    "## <b> Topic Modeling using LSA (Latent Semantic Analysis)    \n",
    "    \n",
    "[A topic model](https://en.wikipedia.org/wiki/Topic_model) is a type of statistical model for discovering the abstract \"topics\" that occur in a collection of documents. Topic modeling is a frequently used text-mining tool for discovery of hidden semantic structures in a text body. Intuitively, given that a document is about a particular topic, one would expect particular words to appear in the document more or less frequently: \"dog\" and \"bone\" will appear more often in documents about dogs, \"cat\" and \"meow\" will appear in documents about cats, and \"the\" and \"is\" will appear approximately equally in both. The \"topics\" produced by topic modeling techniques are clusters of similar words.\n",
    "\n",
    "- LSA or LSI – Latent Semantic Analysis or Latent Semantic Indexing – Uses Singular Value Decomposition (SVD) on the Document-Term Matrix. Based on Linear Algebra\n",
    "\n",
    "Given a m number of text documents with n number of total unique terms (words). The ideia is to extract k topics from all the text data in the documents. The number of topics, k, has to be specified by the user. \n",
    "    \n",
    "1. Generate a document-term matrix of shape m x n having, per example, TF-IDF scores;\n",
    "2. Then, reduce the dimensions of the above matrix to k (no. of desired topics) dimensions, using singular-value decomposition (SVD);\n",
    "\n",
    "[SVD](https://machinelearningmastery.com/singular-value-decomposition-for-machine-learning/) decomposes a matrix into three other matrices. When we decompose a matrix A using SVD, it will be decomposed into matrix U, matrix S, and VT (transpose of matrix V). Each row of the matrix Uk (document-term matrix) is the vector representation of the corresponding document. The length of these vectors is k, which is the number of desired topics. Vector representation for the terms in our data can be found in the matrix Vk (term-topic matrix).\n",
    "\n",
    "SVD will provide vectors for every document and term in the data. The length of each vector would be k. Then these vectors can be used to find similar words and similar documents using the cosine similarity method.\n",
    "    \n",
    "[Gensim](https://radimrehurek.com/gensim/)"
   ]
  },
  {
   "cell_type": "markdown",
   "metadata": {},
   "source": [
    "### <b> Setup "
   ]
  },
  {
   "cell_type": "code",
   "execution_count": 14,
   "metadata": {},
   "outputs": [],
   "source": [
    "import os.path\n",
    "import matplotlib.pyplot as plt\n",
    "import pandas as pd\n",
    "\n",
    "from gensim import corpora\n",
    "import gensim\n",
    "from gensim.models.coherencemodel import CoherenceModel\n",
    "\n",
    "from nltk.tokenize import RegexpTokenizer\n",
    "from nltk.corpus import stopwords\n",
    "from nltk.stem.porter import PorterStemmer\n",
    "\n",
    "from src import Cleaning"
   ]
  },
  {
   "cell_type": "markdown",
   "metadata": {},
   "source": [
    "### <b> Data Loading\n"
   ]
  },
  {
   "cell_type": "code",
   "execution_count": 3,
   "metadata": {},
   "outputs": [],
   "source": [
    "papers_df = pd.read_csv('../datasets/papers.csv')\n",
    "papers_df = papers_df[['TITLE', 'ABSTRACT']]"
   ]
  },
  {
   "cell_type": "markdown",
   "metadata": {},
   "source": [
    "### <b> Data Processing \n"
   ]
  },
  {
   "cell_type": "code",
   "execution_count": 4,
   "metadata": {},
   "outputs": [],
   "source": [
    "clean_text = Cleaning.DataCleaning()\n",
    "papers_df.loc[:, 'clean_title'] = papers_df['TITLE'].apply(lambda x: clean_text(x))\n",
    "papers_df.loc[:, 'clean_text'] = papers_df['ABSTRACT'].apply(lambda x: clean_text(x))"
   ]
  },
  {
   "cell_type": "code",
   "execution_count": 5,
   "metadata": {},
   "outputs": [
    {
     "data": {
      "text/html": [
       "<div>\n",
       "<style scoped>\n",
       "    .dataframe tbody tr th:only-of-type {\n",
       "        vertical-align: middle;\n",
       "    }\n",
       "\n",
       "    .dataframe tbody tr th {\n",
       "        vertical-align: top;\n",
       "    }\n",
       "\n",
       "    .dataframe thead th {\n",
       "        text-align: right;\n",
       "    }\n",
       "</style>\n",
       "<table border=\"1\" class=\"dataframe\">\n",
       "  <thead>\n",
       "    <tr style=\"text-align: right;\">\n",
       "      <th></th>\n",
       "      <th>TITLE</th>\n",
       "      <th>clean_title</th>\n",
       "    </tr>\n",
       "  </thead>\n",
       "  <tbody>\n",
       "    <tr>\n",
       "      <th>3569</th>\n",
       "      <td>Joint estimation of genetic and parent-of-orig...</td>\n",
       "      <td>[joint, estimation, genetic, effect, using, da...</td>\n",
       "    </tr>\n",
       "    <tr>\n",
       "      <th>6776</th>\n",
       "      <td>The Minimal Resolution Conjecture on a general...</td>\n",
       "      <td>[minimal, resolution, conjecture, general, qua...</td>\n",
       "    </tr>\n",
       "    <tr>\n",
       "      <th>15566</th>\n",
       "      <td>A Note on Multiparty Communication Complexity ...</td>\n",
       "      <td>[note, multiparty, communication, complexity, ...</td>\n",
       "    </tr>\n",
       "    <tr>\n",
       "      <th>12133</th>\n",
       "      <td>Hamiltonicity is Hard in Thin or Polygonal Gri...</td>\n",
       "      <td>[hamiltonicity, hard, thin, polygonal, grid, g...</td>\n",
       "    </tr>\n",
       "    <tr>\n",
       "      <th>13975</th>\n",
       "      <td>Sparse Poisson Regression with Penalized Weigh...</td>\n",
       "      <td>[sparse, poisson, regression, penalized, weigh...</td>\n",
       "    </tr>\n",
       "    <tr>\n",
       "      <th>17497</th>\n",
       "      <td>Unsupervised Object Discovery and Segmentation...</td>\n",
       "      <td>[unsupervised, object, discovery, segmentation]</td>\n",
       "    </tr>\n",
       "    <tr>\n",
       "      <th>7501</th>\n",
       "      <td>Dynamic behaviour of Multilamellar Vesicles un...</td>\n",
       "      <td>[dynamic, behaviour, multilamellar, vesicle, p...</td>\n",
       "    </tr>\n",
       "    <tr>\n",
       "      <th>6757</th>\n",
       "      <td>The extension of some D(4)-pairs</td>\n",
       "      <td>[extension]</td>\n",
       "    </tr>\n",
       "    <tr>\n",
       "      <th>1324</th>\n",
       "      <td>Spectral analysis of stationary random bivaria...</td>\n",
       "      <td>[spectral, analysis, stationary, random, bivar...</td>\n",
       "    </tr>\n",
       "    <tr>\n",
       "      <th>9279</th>\n",
       "      <td>Deep Reinforcement Learning that Matters</td>\n",
       "      <td>[deep, reinforcement, learning, matter]</td>\n",
       "    </tr>\n",
       "  </tbody>\n",
       "</table>\n",
       "</div>"
      ],
      "text/plain": [
       "                                                   TITLE  \\\n",
       "3569   Joint estimation of genetic and parent-of-orig...   \n",
       "6776   The Minimal Resolution Conjecture on a general...   \n",
       "15566  A Note on Multiparty Communication Complexity ...   \n",
       "12133  Hamiltonicity is Hard in Thin or Polygonal Gri...   \n",
       "13975  Sparse Poisson Regression with Penalized Weigh...   \n",
       "17497  Unsupervised Object Discovery and Segmentation...   \n",
       "7501   Dynamic behaviour of Multilamellar Vesicles un...   \n",
       "6757                    The extension of some D(4)-pairs   \n",
       "1324   Spectral analysis of stationary random bivaria...   \n",
       "9279            Deep Reinforcement Learning that Matters   \n",
       "\n",
       "                                             clean_title  \n",
       "3569   [joint, estimation, genetic, effect, using, da...  \n",
       "6776   [minimal, resolution, conjecture, general, qua...  \n",
       "15566  [note, multiparty, communication, complexity, ...  \n",
       "12133  [hamiltonicity, hard, thin, polygonal, grid, g...  \n",
       "13975  [sparse, poisson, regression, penalized, weigh...  \n",
       "17497    [unsupervised, object, discovery, segmentation]  \n",
       "7501   [dynamic, behaviour, multilamellar, vesicle, p...  \n",
       "6757                                         [extension]  \n",
       "1324   [spectral, analysis, stationary, random, bivar...  \n",
       "9279             [deep, reinforcement, learning, matter]  "
      ]
     },
     "execution_count": 5,
     "metadata": {},
     "output_type": "execute_result"
    }
   ],
   "source": [
    "papers_df[['TITLE', 'clean_title']].sample(10)"
   ]
  },
  {
   "cell_type": "markdown",
   "metadata": {},
   "source": [
    "## <b> LSA"
   ]
  },
  {
   "cell_type": "markdown",
   "metadata": {},
   "source": [
    "#### Prepare Corpus\n"
   ]
  },
  {
   "cell_type": "code",
   "execution_count": 7,
   "metadata": {},
   "outputs": [],
   "source": [
    "doc_clean = papers_df['clean_text']\n",
    "dictionary = corpora.Dictionary(doc_clean)\n",
    "doc_term_matrix = [dictionary.doc2bow(doc) for doc in doc_clean]"
   ]
  },
  {
   "cell_type": "markdown",
   "metadata": {},
   "source": [
    "#### Number of Topics"
   ]
  },
  {
   "cell_type": "code",
   "execution_count": 17,
   "metadata": {},
   "outputs": [
    {
     "data": {
      "image/png": "[encoded data removed]",
      "text/plain": [
       "<Figure size 432x288 with 1 Axes>"
      ]
     },
     "metadata": {
      "needs_background": "light"
     },
     "output_type": "display_data"
    }
   ],
   "source": [
    "coherence_values = []\n",
    "model_list = []\n",
    "start = 2\n",
    "stop = 8\n",
    "step = 1\n",
    "for num_topics in range(start, stop, step):\n",
    "    # generate LSA model\n",
    "    model = LsiModel(doc_term_matrix, num_topics=num_topics, id2word = dictionary)\n",
    "    model_list.append(model)\n",
    "    coherencemodel = CoherenceModel(model=model, texts=doc_clean, dictionary=dictionary, coherence='c_v')\n",
    "    coherence_values.append(coherencemodel.get_coherence())\n",
    "    \n",
    "# Show graph\n",
    "x = range(start, stop, step)\n",
    "plt.plot(x, coherence_values)\n",
    "plt.xlabel(\"Number of Topics\")\n",
    "plt.ylabel(\"Coherence score\")\n",
    "plt.legend((\"coherence_values\"), loc='best')\n",
    "plt.show()"
   ]
  },
  {
   "cell_type": "code",
   "execution_count": 19,
   "metadata": {},
   "outputs": [],
   "source": [
    "number_of_topics = 4\n",
    "words = 10\n",
    "lsamodel = LsiModel(doc_term_matrix, num_topics=number_of_topics, id2word = dictionary) "
   ]
  },
  {
   "cell_type": "code",
   "execution_count": 20,
   "metadata": {},
   "outputs": [],
   "source": [
    "top_n_words_lsa = lsamodel.print_topics(num_topics=number_of_topics, num_words=words)\n",
    "topics = lsamodel.show_topics(formatted=False)"
   ]
  },
  {
   "cell_type": "code",
   "execution_count": 21,
   "metadata": {},
   "outputs": [],
   "source": [
    "topics_words = {}\n",
    "for topic in topics:\n",
    "    topics_words[topic[0]] = \", \".join(list(dict(topic[1]).keys()))"
   ]
  },
  {
   "cell_type": "code",
   "execution_count": 22,
   "metadata": {},
   "outputs": [
    {
     "data": {
      "text/plain": [
       "{0: 'model, data, method, network, problem, algorithm, result, system, show, learning',\n",
       " 1: 'model, problem, algorithm, network, n, data, function, result, graph, system',\n",
       " 2: 'network, model, learning, neural, method, system, deep, algorithm, field, task',\n",
       " 3: 'data, network, method, system, algorithm, learning, state, problem, field, approach'}"
      ]
     },
     "execution_count": 22,
     "metadata": {},
     "output_type": "execute_result"
    }
   ],
   "source": [
    "topics_words"
   ]
  }
 ],
 "metadata": {
  "kernelspec": {
   "display_name": "Python 3",
   "language": "python",
   "name": "python3"
  },
  "language_info": {
   "codemirror_mode": {
    "name": "ipython",
    "version": 3
   },
   "file_extension": ".py",
   "mimetype": "text/x-python",
   "name": "python",
   "nbconvert_exporter": "python",
   "pygments_lexer": "ipython3",
   "version": "3.8.5"
  }
 },
 "nbformat": 4,
 "nbformat_minor": 4
}
