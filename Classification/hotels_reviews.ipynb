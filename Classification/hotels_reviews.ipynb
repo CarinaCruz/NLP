{
 "cells": [
  {
   "cell_type": "markdown",
   "metadata": {},
   "source": [
    "# <b> Hotel Reviews"
   ]
  },
  {
   "cell_type": "markdown",
   "metadata": {},
   "source": [
    "### <b> Setup"
   ]
  },
  {
   "cell_type": "code",
   "execution_count": 1,
   "metadata": {},
   "outputs": [
    {
     "name": "stderr",
     "output_type": "stream",
     "text": [
      "Using TensorFlow backend.\n"
     ]
    }
   ],
   "source": [
    "import tensorflow as tf\n",
    "import pandas as pd\n",
    "import numpy as np\n",
    "from keras import * #change later\n",
    "from tensorflow.keras.preprocessing.sequence import pad_sequences\n",
    "from tensorflow.keras.preprocessing.text import Tokenizer\n",
    "from nltk import sent_tokenize, word_tokenize\n",
    "from nltk.corpus import stopwords\n",
    "stop_words = stopwords.words('english')\n",
    "from sklearn.model_selection import train_test_split "
   ]
  },
  {
   "cell_type": "markdown",
   "metadata": {},
   "source": [
    "### <b> Data Access "
   ]
  },
  {
   "cell_type": "code",
   "execution_count": 2,
   "metadata": {},
   "outputs": [],
   "source": [
    "data = pd.read_csv('../data/Hotel/hotel-reviews/rev.csv')"
   ]
  },
  {
   "cell_type": "markdown",
   "metadata": {},
   "source": [
    "### <b> Exploratory Data Analysis"
   ]
  },
  {
   "cell_type": "code",
   "execution_count": 4,
   "metadata": {},
   "outputs": [
    {
     "data": {
      "text/html": [
       "<div>\n",
       "<style scoped>\n",
       "    .dataframe tbody tr th:only-of-type {\n",
       "        vertical-align: middle;\n",
       "    }\n",
       "\n",
       "    .dataframe tbody tr th {\n",
       "        vertical-align: top;\n",
       "    }\n",
       "\n",
       "    .dataframe thead th {\n",
       "        text-align: right;\n",
       "    }\n",
       "</style>\n",
       "<table border=\"1\" class=\"dataframe\">\n",
       "  <thead>\n",
       "    <tr style=\"text-align: right;\">\n",
       "      <th></th>\n",
       "      <th>address</th>\n",
       "      <th>categories</th>\n",
       "      <th>city</th>\n",
       "      <th>country</th>\n",
       "      <th>latitude</th>\n",
       "      <th>longitude</th>\n",
       "      <th>name</th>\n",
       "      <th>postalCode</th>\n",
       "      <th>province</th>\n",
       "      <th>reviews.date</th>\n",
       "      <th>reviews.dateAdded</th>\n",
       "      <th>reviews.doRecommend</th>\n",
       "      <th>reviews.id</th>\n",
       "      <th>reviews.rating</th>\n",
       "      <th>reviews.text</th>\n",
       "      <th>reviews.title</th>\n",
       "      <th>reviews.userCity</th>\n",
       "      <th>reviews.username</th>\n",
       "      <th>reviews.userProvince</th>\n",
       "    </tr>\n",
       "  </thead>\n",
       "  <tbody>\n",
       "    <tr>\n",
       "      <th>0</th>\n",
       "      <td>Riviera San Nicol 11/a</td>\n",
       "      <td>Hotels</td>\n",
       "      <td>Mableton</td>\n",
       "      <td>US</td>\n",
       "      <td>45.421611</td>\n",
       "      <td>12.376187</td>\n",
       "      <td>Hotel Russo Palace</td>\n",
       "      <td>30126</td>\n",
       "      <td>GA</td>\n",
       "      <td>2013-09-22T00:00:00Z</td>\n",
       "      <td>2016-10-24T00:00:25Z</td>\n",
       "      <td>NaN</td>\n",
       "      <td>NaN</td>\n",
       "      <td>4.0</td>\n",
       "      <td>Pleasant 10 min walk along the sea front to th...</td>\n",
       "      <td>Good location away from the crouds</td>\n",
       "      <td>NaN</td>\n",
       "      <td>Russ (kent)</td>\n",
       "      <td>NaN</td>\n",
       "    </tr>\n",
       "    <tr>\n",
       "      <th>1</th>\n",
       "      <td>Riviera San Nicol 11/a</td>\n",
       "      <td>Hotels</td>\n",
       "      <td>Mableton</td>\n",
       "      <td>US</td>\n",
       "      <td>45.421611</td>\n",
       "      <td>12.376187</td>\n",
       "      <td>Hotel Russo Palace</td>\n",
       "      <td>30126</td>\n",
       "      <td>GA</td>\n",
       "      <td>2015-04-03T00:00:00Z</td>\n",
       "      <td>2016-10-24T00:00:25Z</td>\n",
       "      <td>NaN</td>\n",
       "      <td>NaN</td>\n",
       "      <td>5.0</td>\n",
       "      <td>Really lovely hotel. Stayed on the very top fl...</td>\n",
       "      <td>Great hotel with Jacuzzi bath!</td>\n",
       "      <td>NaN</td>\n",
       "      <td>A Traveler</td>\n",
       "      <td>NaN</td>\n",
       "    </tr>\n",
       "  </tbody>\n",
       "</table>\n",
       "</div>"
      ],
      "text/plain": [
       "                  address categories      city country   latitude  longitude  \\\n",
       "0  Riviera San Nicol 11/a     Hotels  Mableton      US  45.421611  12.376187   \n",
       "1  Riviera San Nicol 11/a     Hotels  Mableton      US  45.421611  12.376187   \n",
       "\n",
       "                 name postalCode province          reviews.date  \\\n",
       "0  Hotel Russo Palace      30126       GA  2013-09-22T00:00:00Z   \n",
       "1  Hotel Russo Palace      30126       GA  2015-04-03T00:00:00Z   \n",
       "\n",
       "      reviews.dateAdded  reviews.doRecommend  reviews.id  reviews.rating  \\\n",
       "0  2016-10-24T00:00:25Z                  NaN         NaN             4.0   \n",
       "1  2016-10-24T00:00:25Z                  NaN         NaN             5.0   \n",
       "\n",
       "                                        reviews.text  \\\n",
       "0  Pleasant 10 min walk along the sea front to th...   \n",
       "1  Really lovely hotel. Stayed on the very top fl...   \n",
       "\n",
       "                        reviews.title reviews.userCity reviews.username  \\\n",
       "0  Good location away from the crouds              NaN      Russ (kent)   \n",
       "1      Great hotel with Jacuzzi bath!              NaN       A Traveler   \n",
       "\n",
       "  reviews.userProvince  \n",
       "0                  NaN  \n",
       "1                  NaN  "
      ]
     },
     "execution_count": 4,
     "metadata": {},
     "output_type": "execute_result"
    }
   ],
   "source": [
    "data.head(2)"
   ]
  },
  {
   "cell_type": "code",
   "execution_count": 5,
   "metadata": {},
   "outputs": [],
   "source": [
    "data = data[['reviews.rating', 'reviews.text', 'reviews.title']]"
   ]
  },
  {
   "cell_type": "code",
   "execution_count": 6,
   "metadata": {},
   "outputs": [
    {
     "data": {
      "text/html": [
       "<div>\n",
       "<style scoped>\n",
       "    .dataframe tbody tr th:only-of-type {\n",
       "        vertical-align: middle;\n",
       "    }\n",
       "\n",
       "    .dataframe tbody tr th {\n",
       "        vertical-align: top;\n",
       "    }\n",
       "\n",
       "    .dataframe thead th {\n",
       "        text-align: right;\n",
       "    }\n",
       "</style>\n",
       "<table border=\"1\" class=\"dataframe\">\n",
       "  <thead>\n",
       "    <tr style=\"text-align: right;\">\n",
       "      <th></th>\n",
       "      <th>reviews.rating</th>\n",
       "      <th>reviews.text</th>\n",
       "      <th>reviews.title</th>\n",
       "    </tr>\n",
       "  </thead>\n",
       "  <tbody>\n",
       "    <tr>\n",
       "      <th>0</th>\n",
       "      <td>4.0</td>\n",
       "      <td>Pleasant 10 min walk along the sea front to th...</td>\n",
       "      <td>Good location away from the crouds</td>\n",
       "    </tr>\n",
       "    <tr>\n",
       "      <th>1</th>\n",
       "      <td>5.0</td>\n",
       "      <td>Really lovely hotel. Stayed on the very top fl...</td>\n",
       "      <td>Great hotel with Jacuzzi bath!</td>\n",
       "    </tr>\n",
       "    <tr>\n",
       "      <th>2</th>\n",
       "      <td>5.0</td>\n",
       "      <td>Ett mycket bra hotell. Det som drog ner betyge...</td>\n",
       "      <td>Lugnt l��ge</td>\n",
       "    </tr>\n",
       "    <tr>\n",
       "      <th>3</th>\n",
       "      <td>5.0</td>\n",
       "      <td>We stayed here for four nights in October. The...</td>\n",
       "      <td>Good location on the Lido.</td>\n",
       "    </tr>\n",
       "    <tr>\n",
       "      <th>4</th>\n",
       "      <td>5.0</td>\n",
       "      <td>We stayed here for four nights in October. The...</td>\n",
       "      <td>������ ���������������</td>\n",
       "    </tr>\n",
       "  </tbody>\n",
       "</table>\n",
       "</div>"
      ],
      "text/plain": [
       "   reviews.rating                                       reviews.text  \\\n",
       "0             4.0  Pleasant 10 min walk along the sea front to th...   \n",
       "1             5.0  Really lovely hotel. Stayed on the very top fl...   \n",
       "2             5.0  Ett mycket bra hotell. Det som drog ner betyge...   \n",
       "3             5.0  We stayed here for four nights in October. The...   \n",
       "4             5.0  We stayed here for four nights in October. The...   \n",
       "\n",
       "                        reviews.title  \n",
       "0  Good location away from the crouds  \n",
       "1      Great hotel with Jacuzzi bath!  \n",
       "2                         Lugnt l��ge  \n",
       "3          Good location on the Lido.  \n",
       "4              ������ ���������������  "
      ]
     },
     "execution_count": 6,
     "metadata": {},
     "output_type": "execute_result"
    }
   ],
   "source": [
    "data.head()"
   ]
  },
  {
   "cell_type": "code",
   "execution_count": 7,
   "metadata": {},
   "outputs": [
    {
     "data": {
      "text/plain": [
       "reviews.rating     862\n",
       "reviews.text        22\n",
       "reviews.title     1622\n",
       "dtype: int64"
      ]
     },
     "execution_count": 7,
     "metadata": {},
     "output_type": "execute_result"
    }
   ],
   "source": [
    "data.isnull().sum()"
   ]
  },
  {
   "cell_type": "code",
   "execution_count": 8,
   "metadata": {},
   "outputs": [
    {
     "data": {
      "text/plain": [
       "(35912, 3)"
      ]
     },
     "execution_count": 8,
     "metadata": {},
     "output_type": "execute_result"
    }
   ],
   "source": [
    "data.shape"
   ]
  },
  {
   "cell_type": "code",
   "execution_count": 9,
   "metadata": {},
   "outputs": [],
   "source": [
    "data.dropna(inplace=True)"
   ]
  },
  {
   "cell_type": "code",
   "execution_count": 10,
   "metadata": {},
   "outputs": [
    {
     "data": {
      "text/plain": [
       "reviews.rating    0\n",
       "reviews.text      0\n",
       "reviews.title     0\n",
       "dtype: int64"
      ]
     },
     "execution_count": 10,
     "metadata": {},
     "output_type": "execute_result"
    }
   ],
   "source": [
    "data.isnull().sum()"
   ]
  },
  {
   "cell_type": "code",
   "execution_count": 11,
   "metadata": {},
   "outputs": [
    {
     "data": {
      "text/plain": [
       "(34155, 3)"
      ]
     },
     "execution_count": 11,
     "metadata": {},
     "output_type": "execute_result"
    }
   ],
   "source": [
    "data.shape"
   ]
  },
  {
   "cell_type": "code",
   "execution_count": 12,
   "metadata": {},
   "outputs": [],
   "source": [
    "data['word_count'] = data['reviews.text'].str.split()"
   ]
  },
  {
   "cell_type": "code",
   "execution_count": 13,
   "metadata": {},
   "outputs": [],
   "source": [
    "data['word_count'] = [len(w) for w in data['word_count']]"
   ]
  },
  {
   "cell_type": "code",
   "execution_count": 14,
   "metadata": {},
   "outputs": [
    {
     "data": {
      "text/plain": [
       "1593730"
      ]
     },
     "execution_count": 14,
     "metadata": {},
     "output_type": "execute_result"
    }
   ],
   "source": [
    "data['word_count'].sum()"
   ]
  },
  {
   "cell_type": "code",
   "execution_count": 15,
   "metadata": {},
   "outputs": [],
   "source": [
    "target_len = data['reviews.rating'].value_counts().count()"
   ]
  },
  {
   "cell_type": "code",
   "execution_count": 16,
   "metadata": {},
   "outputs": [],
   "source": [
    "text = data['reviews.text'][0]"
   ]
  },
  {
   "cell_type": "markdown",
   "metadata": {},
   "source": [
    "### <b> Data Processing"
   ]
  },
  {
   "cell_type": "code",
   "execution_count": 17,
   "metadata": {},
   "outputs": [],
   "source": [
    "def _cleasing_(text):\n",
    "    words = word_tokenize(text) \n",
    "    text = [w.lower() for w in words if w.isalpha() ]\n",
    "    text = [w for w in text if w not in stop_words]\n",
    "    return ' '.join(text)"
   ]
  },
  {
   "cell_type": "code",
   "execution_count": 18,
   "metadata": {},
   "outputs": [],
   "source": [
    "data['text_clean'] = [_cleasing_(line) for line in data['reviews.text']]"
   ]
  },
  {
   "cell_type": "code",
   "execution_count": 19,
   "metadata": {},
   "outputs": [],
   "source": [
    "data['title_clean'] = [_cleasing_(line) for line in data['reviews.title']]"
   ]
  },
  {
   "cell_type": "code",
   "execution_count": 20,
   "metadata": {},
   "outputs": [
    {
     "data": {
      "text/html": [
       "<div>\n",
       "<style scoped>\n",
       "    .dataframe tbody tr th:only-of-type {\n",
       "        vertical-align: middle;\n",
       "    }\n",
       "\n",
       "    .dataframe tbody tr th {\n",
       "        vertical-align: top;\n",
       "    }\n",
       "\n",
       "    .dataframe thead th {\n",
       "        text-align: right;\n",
       "    }\n",
       "</style>\n",
       "<table border=\"1\" class=\"dataframe\">\n",
       "  <thead>\n",
       "    <tr style=\"text-align: right;\">\n",
       "      <th></th>\n",
       "      <th>reviews.rating</th>\n",
       "      <th>reviews.text</th>\n",
       "      <th>reviews.title</th>\n",
       "      <th>word_count</th>\n",
       "      <th>text_clean</th>\n",
       "      <th>title_clean</th>\n",
       "    </tr>\n",
       "  </thead>\n",
       "  <tbody>\n",
       "    <tr>\n",
       "      <th>0</th>\n",
       "      <td>4.0</td>\n",
       "      <td>Pleasant 10 min walk along the sea front to th...</td>\n",
       "      <td>Good location away from the crouds</td>\n",
       "      <td>33</td>\n",
       "      <td>pleasant min walk along sea front water bus re...</td>\n",
       "      <td>good location away crouds</td>\n",
       "    </tr>\n",
       "    <tr>\n",
       "      <th>1</th>\n",
       "      <td>5.0</td>\n",
       "      <td>Really lovely hotel. Stayed on the very top fl...</td>\n",
       "      <td>Great hotel with Jacuzzi bath!</td>\n",
       "      <td>44</td>\n",
       "      <td>really lovely hotel stayed top floor surprised...</td>\n",
       "      <td>great hotel jacuzzi bath</td>\n",
       "    </tr>\n",
       "    <tr>\n",
       "      <th>2</th>\n",
       "      <td>5.0</td>\n",
       "      <td>Ett mycket bra hotell. Det som drog ner betyge...</td>\n",
       "      <td>Lugnt l��ge</td>\n",
       "      <td>28</td>\n",
       "      <td>ett mycket bra hotell det som drog ner betyget...</td>\n",
       "      <td>lugnt</td>\n",
       "    </tr>\n",
       "    <tr>\n",
       "      <th>3</th>\n",
       "      <td>5.0</td>\n",
       "      <td>We stayed here for four nights in October. The...</td>\n",
       "      <td>Good location on the Lido.</td>\n",
       "      <td>59</td>\n",
       "      <td>stayed four nights october hotel staff welcomi...</td>\n",
       "      <td>good location lido</td>\n",
       "    </tr>\n",
       "    <tr>\n",
       "      <th>4</th>\n",
       "      <td>5.0</td>\n",
       "      <td>We stayed here for four nights in October. The...</td>\n",
       "      <td>������ ���������������</td>\n",
       "      <td>59</td>\n",
       "      <td>stayed four nights october hotel staff welcomi...</td>\n",
       "      <td></td>\n",
       "    </tr>\n",
       "  </tbody>\n",
       "</table>\n",
       "</div>"
      ],
      "text/plain": [
       "   reviews.rating                                       reviews.text  \\\n",
       "0             4.0  Pleasant 10 min walk along the sea front to th...   \n",
       "1             5.0  Really lovely hotel. Stayed on the very top fl...   \n",
       "2             5.0  Ett mycket bra hotell. Det som drog ner betyge...   \n",
       "3             5.0  We stayed here for four nights in October. The...   \n",
       "4             5.0  We stayed here for four nights in October. The...   \n",
       "\n",
       "                        reviews.title  word_count  \\\n",
       "0  Good location away from the crouds          33   \n",
       "1      Great hotel with Jacuzzi bath!          44   \n",
       "2                         Lugnt l��ge          28   \n",
       "3          Good location on the Lido.          59   \n",
       "4              ������ ���������������          59   \n",
       "\n",
       "                                          text_clean  \\\n",
       "0  pleasant min walk along sea front water bus re...   \n",
       "1  really lovely hotel stayed top floor surprised...   \n",
       "2  ett mycket bra hotell det som drog ner betyget...   \n",
       "3  stayed four nights october hotel staff welcomi...   \n",
       "4  stayed four nights october hotel staff welcomi...   \n",
       "\n",
       "                 title_clean  \n",
       "0  good location away crouds  \n",
       "1   great hotel jacuzzi bath  \n",
       "2                      lugnt  \n",
       "3         good location lido  \n",
       "4                             "
      ]
     },
     "execution_count": 20,
     "metadata": {},
     "output_type": "execute_result"
    }
   ],
   "source": [
    "data.head()"
   ]
  },
  {
   "cell_type": "code",
   "execution_count": 21,
   "metadata": {},
   "outputs": [],
   "source": [
    "data.dropna(inplace=True)"
   ]
  },
  {
   "cell_type": "markdown",
   "metadata": {},
   "source": [
    "### <b> Prepare Training Data"
   ]
  },
  {
   "cell_type": "code",
   "execution_count": 22,
   "metadata": {},
   "outputs": [],
   "source": [
    "features = data['text_clean']\n",
    "target = data['reviews.rating']"
   ]
  },
  {
   "cell_type": "code",
   "execution_count": 23,
   "metadata": {},
   "outputs": [],
   "source": [
    "feature_train, feature_test, target_train, target_test = train_test_split(features, target, test_size = 0.5, random_state = 42)"
   ]
  },
  {
   "cell_type": "code",
   "execution_count": 24,
   "metadata": {},
   "outputs": [
    {
     "data": {
      "text/plain": [
       "((17077,), (17078,), (17077,), (17078,))"
      ]
     },
     "execution_count": 24,
     "metadata": {},
     "output_type": "execute_result"
    }
   ],
   "source": [
    "feature_train.shape, feature_test.shape, target_train.shape, target_test.shape"
   ]
  },
  {
   "cell_type": "markdown",
   "metadata": {},
   "source": [
    "#### <b> Enconding data"
   ]
  },
  {
   "cell_type": "code",
   "execution_count": 25,
   "metadata": {},
   "outputs": [],
   "source": [
    "vocab_size = 500\n",
    "embedding_dim = 120\n",
    "max_length = 50\n",
    "trunc_type='post'\n",
    "padding_type='post'\n",
    "oov_tok = \"<OOV>\"\n",
    "training_portion = .8"
   ]
  },
  {
   "cell_type": "code",
   "execution_count": 26,
   "metadata": {},
   "outputs": [],
   "source": [
    "tokenizer = Tokenizer(num_words=vocab_size, oov_token=oov_tok)\n",
    "# create the vocabulary based on training features \n",
    "tokenizer.fit_on_texts(feature_train)\n",
    "# vocabulary\n",
    "vocab = tokenizer.word_index"
   ]
  },
  {
   "cell_type": "code",
   "execution_count": 27,
   "metadata": {},
   "outputs": [],
   "source": [
    "# FEATURES DATA\n",
    "# turn sentences in integers\n",
    "train_sequences = tokenizer.texts_to_sequences(feature_train)\n",
    "test_sequences = tokenizer.texts_to_sequences(feature_test)\n",
    "\n",
    "# pad sequences \n",
    "padded_training_sequences = pad_sequences(train_sequences, padding = padding_type, maxlen = max_length)\n",
    "padded_test_sequences = pad_sequences(test_sequences, padding = padding_type, maxlen = max_length)"
   ]
  },
  {
   "cell_type": "code",
   "execution_count": 28,
   "metadata": {},
   "outputs": [
    {
     "data": {
      "text/plain": [
       "18119    kids us ages years old something ages great time\n",
       "Name: text_clean, dtype: object"
      ]
     },
     "execution_count": 28,
     "metadata": {},
     "output_type": "execute_result"
    }
   ],
   "source": [
    "feature_train.head(1)"
   ]
  },
  {
   "cell_type": "code",
   "execution_count": 29,
   "metadata": {},
   "outputs": [
    {
     "data": {
      "text/plain": [
       "[180, 22, 1, 259, 57, 319, 1, 7, 27]"
      ]
     },
     "execution_count": 29,
     "metadata": {},
     "output_type": "execute_result"
    }
   ],
   "source": [
    "train_sequences[0]"
   ]
  },
  {
   "cell_type": "code",
   "execution_count": 30,
   "metadata": {},
   "outputs": [
    {
     "data": {
      "text/plain": [
       "array([180,  22,   1, 259,  57, 319,   1,   7,  27,   0,   0,   0,   0,\n",
       "         0,   0,   0,   0,   0,   0,   0,   0,   0,   0,   0,   0,   0,\n",
       "         0,   0,   0,   0,   0,   0,   0,   0,   0,   0,   0,   0,   0,\n",
       "         0,   0,   0,   0,   0,   0,   0,   0,   0,   0,   0], dtype=int32)"
      ]
     },
     "execution_count": 30,
     "metadata": {},
     "output_type": "execute_result"
    }
   ],
   "source": [
    "padded_training_sequences[0]"
   ]
  },
  {
   "cell_type": "markdown",
   "metadata": {},
   "source": [
    "### <b> Model Architecture\n",
    "    "
   ]
  },
  {
   "cell_type": "markdown",
   "metadata": {},
   "source": [
    "#### <b> Dense Neural Network"
   ]
  },
  {
   "cell_type": "code",
   "execution_count": 31,
   "metadata": {},
   "outputs": [
    {
     "name": "stdout",
     "output_type": "stream",
     "text": [
      "WARNING:tensorflow:From /home/carycccs/anaconda3/lib/python3.7/site-packages/tensorflow/python/keras/initializers.py:119: calling RandomUniform.__init__ (from tensorflow.python.ops.init_ops) with dtype is deprecated and will be removed in a future version.\n",
      "Instructions for updating:\n",
      "Call initializer instance with the dtype argument instead of passing it to the constructor\n",
      "WARNING:tensorflow:From /home/carycccs/anaconda3/lib/python3.7/site-packages/tensorflow/python/ops/init_ops.py:1251: calling VarianceScaling.__init__ (from tensorflow.python.ops.init_ops) with dtype is deprecated and will be removed in a future version.\n",
      "Instructions for updating:\n",
      "Call initializer instance with the dtype argument instead of passing it to the constructor\n",
      "Model: \"sequential\"\n",
      "_________________________________________________________________\n",
      "Layer (type)                 Output Shape              Param #   \n",
      "=================================================================\n",
      "embedding (Embedding)        (None, 50, 120)           60000     \n",
      "_________________________________________________________________\n",
      "global_average_pooling1d (Gl (None, 120)               0         \n",
      "_________________________________________________________________\n",
      "dense (Dense)                (None, 64)                7744      \n",
      "_________________________________________________________________\n",
      "dense_1 (Dense)              (None, 41)                2665      \n",
      "=================================================================\n",
      "Total params: 70,409\n",
      "Trainable params: 70,409\n",
      "Non-trainable params: 0\n",
      "_________________________________________________________________\n"
     ]
    }
   ],
   "source": [
    "model = tf.keras.Sequential([\n",
    "    tf.keras.layers.Embedding(vocab_size, embedding_dim, input_length=max_length),\n",
    "    tf.keras.layers.GlobalAveragePooling1D(),\n",
    "    tf.keras.layers.Dense(64, activation='relu'),\n",
    "    tf.keras.layers.Dense(target_len, activation='softmax')\n",
    "])\n",
    "model.compile(loss='sparse_categorical_crossentropy', optimizer='adam',metrics=['accuracy'])\n",
    "model.summary()"
   ]
  },
  {
   "cell_type": "code",
   "execution_count": 32,
   "metadata": {},
   "outputs": [
    {
     "name": "stdout",
     "output_type": "stream",
     "text": [
      "Train on 17077 samples, validate on 17078 samples\n",
      "Epoch 1/30\n",
      "17077/17077 - 3s - loss: 1.6265 - acc: 0.3683 - val_loss: 1.3128 - val_acc: 0.4390\n",
      "Epoch 2/30\n",
      "17077/17077 - 1s - loss: 1.2528 - acc: 0.4579 - val_loss: 1.2337 - val_acc: 0.4857\n",
      "Epoch 3/30\n",
      "17077/17077 - 1s - loss: 1.1961 - acc: 0.4910 - val_loss: 1.2126 - val_acc: 0.4924\n",
      "Epoch 4/30\n",
      "17077/17077 - 1s - loss: 1.1707 - acc: 0.5033 - val_loss: 1.2023 - val_acc: 0.4939\n",
      "Epoch 5/30\n",
      "17077/17077 - 1s - loss: 1.1598 - acc: 0.5129 - val_loss: 1.2003 - val_acc: 0.4959\n",
      "Epoch 6/30\n",
      "17077/17077 - 1s - loss: 1.1500 - acc: 0.5164 - val_loss: 1.2098 - val_acc: 0.4943\n",
      "Epoch 7/30\n",
      "17077/17077 - 1s - loss: 1.1425 - acc: 0.5218 - val_loss: 1.2011 - val_acc: 0.4954\n",
      "Epoch 8/30\n",
      "17077/17077 - 1s - loss: 1.1336 - acc: 0.5232 - val_loss: 1.2220 - val_acc: 0.4857\n",
      "Epoch 9/30\n",
      "17077/17077 - 1s - loss: 1.1295 - acc: 0.5231 - val_loss: 1.1999 - val_acc: 0.4947\n",
      "Epoch 10/30\n",
      "17077/17077 - 1s - loss: 1.1205 - acc: 0.5250 - val_loss: 1.1974 - val_acc: 0.4965\n",
      "Epoch 11/30\n",
      "17077/17077 - 1s - loss: 1.1133 - acc: 0.5313 - val_loss: 1.2071 - val_acc: 0.4928\n",
      "Epoch 12/30\n",
      "17077/17077 - 1s - loss: 1.1067 - acc: 0.5332 - val_loss: 1.2120 - val_acc: 0.4899\n",
      "Epoch 13/30\n",
      "17077/17077 - 1s - loss: 1.1025 - acc: 0.5356 - val_loss: 1.2173 - val_acc: 0.4863\n",
      "Epoch 14/30\n",
      "17077/17077 - 1s - loss: 1.0968 - acc: 0.5356 - val_loss: 1.2204 - val_acc: 0.4862\n",
      "Epoch 15/30\n",
      "17077/17077 - 1s - loss: 1.0922 - acc: 0.5397 - val_loss: 1.2092 - val_acc: 0.4889\n",
      "Epoch 16/30\n",
      "17077/17077 - 1s - loss: 1.0876 - acc: 0.5438 - val_loss: 1.2146 - val_acc: 0.4898\n",
      "Epoch 17/30\n",
      "17077/17077 - 1s - loss: 1.0856 - acc: 0.5444 - val_loss: 1.2156 - val_acc: 0.4887\n",
      "Epoch 18/30\n",
      "17077/17077 - 1s - loss: 1.0825 - acc: 0.5451 - val_loss: 1.2153 - val_acc: 0.4882\n",
      "Epoch 19/30\n",
      "17077/17077 - 1s - loss: 1.0794 - acc: 0.5444 - val_loss: 1.2163 - val_acc: 0.4898\n",
      "Epoch 20/30\n",
      "17077/17077 - 1s - loss: 1.0780 - acc: 0.5432 - val_loss: 1.2176 - val_acc: 0.4883\n",
      "Epoch 21/30\n",
      "17077/17077 - 2s - loss: 1.0743 - acc: 0.5462 - val_loss: 1.2246 - val_acc: 0.4864\n",
      "Epoch 22/30\n",
      "17077/17077 - 2s - loss: 1.0739 - acc: 0.5461 - val_loss: 1.2230 - val_acc: 0.4871\n",
      "Epoch 23/30\n",
      "17077/17077 - 1s - loss: 1.0692 - acc: 0.5513 - val_loss: 1.2268 - val_acc: 0.4852\n",
      "Epoch 24/30\n",
      "17077/17077 - 1s - loss: 1.0677 - acc: 0.5486 - val_loss: 1.2267 - val_acc: 0.4871\n",
      "Epoch 25/30\n",
      "17077/17077 - 1s - loss: 1.0658 - acc: 0.5495 - val_loss: 1.2281 - val_acc: 0.4864\n",
      "Epoch 26/30\n",
      "17077/17077 - 1s - loss: 1.0614 - acc: 0.5515 - val_loss: 1.2304 - val_acc: 0.4875\n",
      "Epoch 27/30\n",
      "17077/17077 - 1s - loss: 1.0599 - acc: 0.5502 - val_loss: 1.2302 - val_acc: 0.4868\n",
      "Epoch 28/30\n",
      "17077/17077 - 1s - loss: 1.0564 - acc: 0.5542 - val_loss: 1.2342 - val_acc: 0.4854\n",
      "Epoch 29/30\n",
      "17077/17077 - 1s - loss: 1.0546 - acc: 0.5522 - val_loss: 1.2469 - val_acc: 0.4874\n",
      "Epoch 30/30\n",
      "17077/17077 - 1s - loss: 1.0519 - acc: 0.5548 - val_loss: 1.2414 - val_acc: 0.4858\n"
     ]
    }
   ],
   "source": [
    "num_epochs = 30\n",
    "history = model.fit(padded_training_sequences, target_train, \n",
    "                    epochs=num_epochs, validation_data=(padded_test_sequences, target_test), verbose=2)"
   ]
  },
  {
   "cell_type": "code",
   "execution_count": 33,
   "metadata": {},
   "outputs": [
    {
     "data": {
      "text/plain": [
       "<Figure size 640x480 with 1 Axes>"
      ]
     },
     "metadata": {},
     "output_type": "display_data"
    },
    {
     "data": {
      "text/plain": [
       "<Figure size 640x480 with 1 Axes>"
      ]
     },
     "metadata": {},
     "output_type": "display_data"
    }
   ],
   "source": [
    "import matplotlib.pyplot as plt\n",
    "\n",
    "def plot_graphs(history, string):\n",
    "    plt.plot(history.history[string])\n",
    "    plt.plot(history.history['val_'+string])\n",
    "    plt.xlabel(\"Epochs\")\n",
    "    plt.ylabel(string)\n",
    "    plt.legend([string, 'val_'+string])\n",
    "    plt.show()\n",
    "\n",
    "plot_graphs(history, 'acc')\n",
    "plot_graphs(history, 'loss')"
   ]
  },
  {
   "cell_type": "markdown",
   "metadata": {},
   "source": [
    "#### <b> Convolutional Neural Network"
   ]
  },
  {
   "cell_type": "code",
   "execution_count": 34,
   "metadata": {},
   "outputs": [],
   "source": [
    "model = tf.keras.Sequential([\n",
    "    tf.keras.layers.Embedding(vocab_size, embedding_dim, input_length=max_length),\n",
    "    tf.keras.layers.Conv1D(128, 5, activation='relu'),\n",
    "    tf.keras.layers.GlobalMaxPooling1D(),\n",
    "    tf.keras.layers.Dense(64, activation='relu'),\n",
    "    tf.keras.layers.Dense(target_len, activation='softmax')\n",
    "])"
   ]
  },
  {
   "cell_type": "code",
   "execution_count": 35,
   "metadata": {},
   "outputs": [
    {
     "name": "stdout",
     "output_type": "stream",
     "text": [
      "Model: \"sequential_1\"\n",
      "_________________________________________________________________\n",
      "Layer (type)                 Output Shape              Param #   \n",
      "=================================================================\n",
      "embedding_1 (Embedding)      (None, 50, 120)           60000     \n",
      "_________________________________________________________________\n",
      "conv1d (Conv1D)              (None, 46, 128)           76928     \n",
      "_________________________________________________________________\n",
      "global_max_pooling1d (Global (None, 128)               0         \n",
      "_________________________________________________________________\n",
      "dense_2 (Dense)              (None, 64)                8256      \n",
      "_________________________________________________________________\n",
      "dense_3 (Dense)              (None, 41)                2665      \n",
      "=================================================================\n",
      "Total params: 147,849\n",
      "Trainable params: 147,849\n",
      "Non-trainable params: 0\n",
      "_________________________________________________________________\n"
     ]
    }
   ],
   "source": [
    "model.compile(loss='sparse_categorical_crossentropy',optimizer='adam',metrics=['accuracy'])\n",
    "model.summary()"
   ]
  },
  {
   "cell_type": "code",
   "execution_count": 37,
   "metadata": {},
   "outputs": [
    {
     "name": "stdout",
     "output_type": "stream",
     "text": [
      "Train on 17077 samples, validate on 17078 samples\n",
      "Epoch 1/10\n",
      "17077/17077 - 6s - loss: 0.2479 - acc: 0.9219 - val_loss: 2.5786 - val_acc: 0.4428\n",
      "Epoch 2/10\n",
      "17077/17077 - 7s - loss: 0.2412 - acc: 0.9286 - val_loss: 2.6234 - val_acc: 0.4417\n",
      "Epoch 3/10\n",
      "17077/17077 - 6s - loss: 0.2191 - acc: 0.9347 - val_loss: 2.6904 - val_acc: 0.4366\n",
      "Epoch 4/10\n",
      "17077/17077 - 7s - loss: 0.2126 - acc: 0.9356 - val_loss: 2.6931 - val_acc: 0.4453\n",
      "Epoch 5/10\n",
      "17077/17077 - 7s - loss: 0.2007 - acc: 0.9380 - val_loss: 2.8405 - val_acc: 0.4429\n",
      "Epoch 6/10\n",
      "17077/17077 - 7s - loss: 0.1969 - acc: 0.9376 - val_loss: 2.8366 - val_acc: 0.4247\n",
      "Epoch 7/10\n",
      "17077/17077 - 7s - loss: 0.1838 - acc: 0.9422 - val_loss: 2.9498 - val_acc: 0.4352\n",
      "Epoch 8/10\n",
      "17077/17077 - 7s - loss: 0.1868 - acc: 0.9403 - val_loss: 2.8360 - val_acc: 0.4424\n",
      "Epoch 9/10\n",
      "17077/17077 - 8s - loss: 0.1673 - acc: 0.9441 - val_loss: 2.9299 - val_acc: 0.4416\n",
      "Epoch 10/10\n",
      "17077/17077 - 9s - loss: 0.1710 - acc: 0.9432 - val_loss: 2.8974 - val_acc: 0.4424\n"
     ]
    }
   ],
   "source": [
    "num_epochs = 10\n",
    "history = model.fit(padded_training_sequences, target_train, \n",
    "                    epochs=num_epochs, validation_data=(padded_test_sequences, target_test), verbose=2)"
   ]
  }
 ],
 "metadata": {
  "kernelspec": {
   "display_name": "Python 3",
   "language": "python",
   "name": "python3"
  },
  "language_info": {
   "codemirror_mode": {
    "name": "ipython",
    "version": 3
   },
   "file_extension": ".py",
   "mimetype": "text/x-python",
   "name": "python",
   "nbconvert_exporter": "python",
   "pygments_lexer": "ipython3",
   "version": "3.8.5"
  }
 },
 "nbformat": 4,
 "nbformat_minor": 4
}
