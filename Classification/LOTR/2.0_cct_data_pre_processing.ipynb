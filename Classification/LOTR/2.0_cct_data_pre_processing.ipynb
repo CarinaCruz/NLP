{
 "cells": [
  {
   "cell_type": "markdown",
   "metadata": {},
   "source": [
    "# <b> Pre Processing in LOTR Data"
   ]
  },
  {
   "cell_type": "code",
   "execution_count": 19,
   "metadata": {},
   "outputs": [],
   "source": [
    "import os\n",
    "import sys\n",
    "sys.path.insert(0, '../')\n",
    "import pandas as pd\n",
    "import numpy as np\n",
    "import re\n",
    "from nltk.stem import WordNetLemmatizer\n",
    "lemma = WordNetLemmatizer()"
   ]
  },
  {
   "cell_type": "markdown",
   "metadata": {},
   "source": [
    "## <b> Loading Data"
   ]
  },
  {
   "cell_type": "code",
   "execution_count": 20,
   "metadata": {},
   "outputs": [],
   "source": [
    "data_char = pd.read_csv('../data/raw/lotr_characters.csv', index_col=False)\n",
    "data_scripts = pd.read_csv('../data/raw/lotr_scripts.csv', index_col=False)"
   ]
  },
  {
   "cell_type": "markdown",
   "metadata": {},
   "source": [
    "## <b> Information about Data"
   ]
  },
  {
   "cell_type": "code",
   "execution_count": 21,
   "metadata": {},
   "outputs": [
    {
     "data": {
      "text/plain": [
       "birth     object\n",
       "death     object\n",
       "gender    object\n",
       "hair      object\n",
       "height    object\n",
       "name      object\n",
       "race      object\n",
       "realm     object\n",
       "spouse    object\n",
       "dtype: object"
      ]
     },
     "execution_count": 21,
     "metadata": {},
     "output_type": "execute_result"
    }
   ],
   "source": [
    "data_char.dtypes"
   ]
  },
  {
   "cell_type": "code",
   "execution_count": 22,
   "metadata": {},
   "outputs": [
    {
     "data": {
      "text/plain": [
       "Unnamed: 0     int64\n",
       "char          object\n",
       "dialog        object\n",
       "movie         object\n",
       "dtype: object"
      ]
     },
     "execution_count": 22,
     "metadata": {},
     "output_type": "execute_result"
    }
   ],
   "source": [
    "data_scripts.dtypes"
   ]
  },
  {
   "cell_type": "markdown",
   "metadata": {},
   "source": [
    "# <b> Null Values\n",
    "    \n",
    "    Removing all columns that has more than 40% of missing values\n",
    "    \n",
    "    Removing all rows with missing values"
   ]
  },
  {
   "cell_type": "markdown",
   "metadata": {},
   "source": [
    "### <b> Characters"
   ]
  },
  {
   "cell_type": "code",
   "execution_count": 23,
   "metadata": {},
   "outputs": [],
   "source": [
    "def remove_null_columns(df, columns):    \n",
    "    data = df.copy()\n",
    "    data.drop(columns=columns, axis=1, inplace=True)\n",
    "    return data\n",
    "\n",
    "def remove_null_rows(df):    \n",
    "    data = df.copy()\n",
    "    data.dropna(inplace=True)\n",
    "    return data\n",
    "\n",
    "threshold_cols = np.round(data_char.shape[0] * 0.4, 2)\n",
    "null_counts = data_char.columns[data_char.isnull().sum() > threshold_cols]\n",
    "\n",
    "data_char = remove_null_columns(data_char, null_counts)\n",
    "data_char = remove_null_rows(data_char)"
   ]
  },
  {
   "cell_type": "code",
   "execution_count": 24,
   "metadata": {},
   "outputs": [
    {
     "data": {
      "text/html": [
       "<div>\n",
       "<style scoped>\n",
       "    .dataframe tbody tr th:only-of-type {\n",
       "        vertical-align: middle;\n",
       "    }\n",
       "\n",
       "    .dataframe tbody tr th {\n",
       "        vertical-align: top;\n",
       "    }\n",
       "\n",
       "    .dataframe thead th {\n",
       "        text-align: right;\n",
       "    }\n",
       "</style>\n",
       "<table border=\"1\" class=\"dataframe\">\n",
       "  <thead>\n",
       "    <tr style=\"text-align: right;\">\n",
       "      <th></th>\n",
       "      <th>birth</th>\n",
       "      <th>death</th>\n",
       "      <th>gender</th>\n",
       "      <th>name</th>\n",
       "      <th>race</th>\n",
       "    </tr>\n",
       "  </thead>\n",
       "  <tbody>\n",
       "    <tr>\n",
       "      <th>1</th>\n",
       "      <td>TA 2978</td>\n",
       "      <td>February 26 ,3019</td>\n",
       "      <td>Male</td>\n",
       "      <td>Boromir</td>\n",
       "      <td>Men</td>\n",
       "    </tr>\n",
       "    <tr>\n",
       "      <th>3</th>\n",
       "      <td>TA 280</td>\n",
       "      <td>TA 515</td>\n",
       "      <td>Male</td>\n",
       "      <td>Tarcil</td>\n",
       "      <td>Men</td>\n",
       "    </tr>\n",
       "    <tr>\n",
       "      <th>5</th>\n",
       "      <td>SA 2709</td>\n",
       "      <td>SA 2962</td>\n",
       "      <td>Male</td>\n",
       "      <td>Ar-Adûnakhôr</td>\n",
       "      <td>Men</td>\n",
       "    </tr>\n",
       "    <tr>\n",
       "      <th>7</th>\n",
       "      <td>YT</td>\n",
       "      <td>FA 455</td>\n",
       "      <td>Male</td>\n",
       "      <td>Angrod</td>\n",
       "      <td>Elves</td>\n",
       "    </tr>\n",
       "    <tr>\n",
       "      <th>9</th>\n",
       "      <td>SA 3219</td>\n",
       "      <td>SA 3440</td>\n",
       "      <td>Male</td>\n",
       "      <td>Anárion</td>\n",
       "      <td>Men</td>\n",
       "    </tr>\n",
       "  </tbody>\n",
       "</table>\n",
       "</div>"
      ],
      "text/plain": [
       "     birth              death gender          name   race\n",
       "1  TA 2978  February 26 ,3019   Male       Boromir    Men\n",
       "3   TA 280             TA 515   Male        Tarcil    Men\n",
       "5  SA 2709            SA 2962   Male  Ar-Adûnakhôr    Men\n",
       "7       YT             FA 455   Male        Angrod  Elves\n",
       "9  SA 3219            SA 3440   Male       Anárion    Men"
      ]
     },
     "execution_count": 24,
     "metadata": {},
     "output_type": "execute_result"
    }
   ],
   "source": [
    "data_char.head()"
   ]
  },
  {
   "cell_type": "markdown",
   "metadata": {},
   "source": [
    "### <b> Scripts"
   ]
  },
  {
   "cell_type": "code",
   "execution_count": 25,
   "metadata": {},
   "outputs": [],
   "source": [
    "data_scripts = remove_null_columns(data_scripts, ['Unnamed: 0'])\n",
    "data_scripts = remove_null_rows(data_scripts)"
   ]
  },
  {
   "cell_type": "code",
   "execution_count": 26,
   "metadata": {},
   "outputs": [
    {
     "data": {
      "text/html": [
       "<div>\n",
       "<style scoped>\n",
       "    .dataframe tbody tr th:only-of-type {\n",
       "        vertical-align: middle;\n",
       "    }\n",
       "\n",
       "    .dataframe tbody tr th {\n",
       "        vertical-align: top;\n",
       "    }\n",
       "\n",
       "    .dataframe thead th {\n",
       "        text-align: right;\n",
       "    }\n",
       "</style>\n",
       "<table border=\"1\" class=\"dataframe\">\n",
       "  <thead>\n",
       "    <tr style=\"text-align: right;\">\n",
       "      <th></th>\n",
       "      <th>char</th>\n",
       "      <th>dialog</th>\n",
       "      <th>movie</th>\n",
       "    </tr>\n",
       "  </thead>\n",
       "  <tbody>\n",
       "    <tr>\n",
       "      <th>0</th>\n",
       "      <td>DEAGOL</td>\n",
       "      <td>Oh Smeagol Ive got one! , Ive got a fish Smeag...</td>\n",
       "      <td>The Return of the King</td>\n",
       "    </tr>\n",
       "    <tr>\n",
       "      <th>1</th>\n",
       "      <td>SMEAGOL</td>\n",
       "      <td>Pull it in! Go on, go on, go on, pull it in!</td>\n",
       "      <td>The Return of the King</td>\n",
       "    </tr>\n",
       "    <tr>\n",
       "      <th>2</th>\n",
       "      <td>DEAGOL</td>\n",
       "      <td>Arrghh!</td>\n",
       "      <td>The Return of the King</td>\n",
       "    </tr>\n",
       "    <tr>\n",
       "      <th>3</th>\n",
       "      <td>SMEAGOL</td>\n",
       "      <td>Deagol!</td>\n",
       "      <td>The Return of the King</td>\n",
       "    </tr>\n",
       "    <tr>\n",
       "      <th>4</th>\n",
       "      <td>SMEAGOL</td>\n",
       "      <td>Deagol!</td>\n",
       "      <td>The Return of the King</td>\n",
       "    </tr>\n",
       "  </tbody>\n",
       "</table>\n",
       "</div>"
      ],
      "text/plain": [
       "      char                                             dialog  \\\n",
       "0   DEAGOL  Oh Smeagol Ive got one! , Ive got a fish Smeag...   \n",
       "1  SMEAGOL     Pull it in! Go on, go on, go on, pull it in!     \n",
       "2   DEAGOL                                           Arrghh!    \n",
       "3  SMEAGOL                                          Deagol!     \n",
       "4  SMEAGOL                                          Deagol!     \n",
       "\n",
       "                     movie  \n",
       "0  The Return of the King   \n",
       "1  The Return of the King   \n",
       "2  The Return of the King   \n",
       "3  The Return of the King   \n",
       "4  The Return of the King   "
      ]
     },
     "execution_count": 26,
     "metadata": {},
     "output_type": "execute_result"
    }
   ],
   "source": [
    "data_scripts.head()"
   ]
  },
  {
   "cell_type": "code",
   "execution_count": 27,
   "metadata": {},
   "outputs": [
    {
     "data": {
      "text/plain": [
       "0    Oh Smeagol Ive got one! , Ive got a fish Smeag...\n",
       "1       Pull it in! Go on, go on, go on, pull it in!  \n",
       "2                                             Arrghh! \n",
       "3                                            Deagol!  \n",
       "4                                            Deagol!  \n",
       "5                                            Deagol!  \n",
       "6                       Give us that! Deagol my love  \n",
       "7                                               Why?  \n",
       "8        Because' , it's my birthday and I wants it.  \n",
       "9                                       My precious.  \n",
       "Name: dialog, dtype: object"
      ]
     },
     "execution_count": 27,
     "metadata": {},
     "output_type": "execute_result"
    }
   ],
   "source": [
    "data_scripts['dialog'][0:10]"
   ]
  },
  {
   "cell_type": "markdown",
   "metadata": {},
   "source": [
    "# <b> Text Cleaning"
   ]
  },
  {
   "cell_type": "code",
   "execution_count": 31,
   "metadata": {},
   "outputs": [],
   "source": [
    "class TextCleasing:\n",
    "    \n",
    "    symbols_ = re.compile(r'[+@*#$%^&*”=/,().:°\"\\'‘’;-]')\n",
    "    \n",
    "    def __init__(self, dataframe):\n",
    "        self.dataframe = dataframe\n",
    "        \n",
    "    def clean_text(self, text):\n",
    "        text = ''.join(str(text))\n",
    "        text = text.lower()\n",
    "        text = self.symbols_.sub('', text) \n",
    "        return text\n",
    "    \n",
    "    def process_stem(self, df, col):    \n",
    "        df[col] = [lemma.lemmatize(word) for word in df[col]]    \n",
    "        return df.copy()\n",
    "    \n",
    "    def __call__(self, columns):\n",
    "        data = self.dataframe.copy()        \n",
    "        for col in columns:                            \n",
    "            text = [self.clean_text(text) for text in self.dataframe[col]]   \n",
    "            data[col] = text\n",
    "        return data"
   ]
  },
  {
   "cell_type": "markdown",
   "metadata": {},
   "source": [
    "### <b> Scripts"
   ]
  },
  {
   "cell_type": "code",
   "execution_count": 32,
   "metadata": {},
   "outputs": [
    {
     "data": {
      "text/html": [
       "<div>\n",
       "<style scoped>\n",
       "    .dataframe tbody tr th:only-of-type {\n",
       "        vertical-align: middle;\n",
       "    }\n",
       "\n",
       "    .dataframe tbody tr th {\n",
       "        vertical-align: top;\n",
       "    }\n",
       "\n",
       "    .dataframe thead th {\n",
       "        text-align: right;\n",
       "    }\n",
       "</style>\n",
       "<table border=\"1\" class=\"dataframe\">\n",
       "  <thead>\n",
       "    <tr style=\"text-align: right;\">\n",
       "      <th></th>\n",
       "      <th>char</th>\n",
       "      <th>dialog</th>\n",
       "      <th>movie</th>\n",
       "    </tr>\n",
       "  </thead>\n",
       "  <tbody>\n",
       "    <tr>\n",
       "      <th>0</th>\n",
       "      <td>deagol</td>\n",
       "      <td>oh smeagol ive got one!  ive got a fish smeago...</td>\n",
       "      <td>the return of the king</td>\n",
       "    </tr>\n",
       "    <tr>\n",
       "      <th>1</th>\n",
       "      <td>smeagol</td>\n",
       "      <td>pull it in! go on go on go on pull it in!</td>\n",
       "      <td>the return of the king</td>\n",
       "    </tr>\n",
       "    <tr>\n",
       "      <th>2</th>\n",
       "      <td>deagol</td>\n",
       "      <td>arrghh!</td>\n",
       "      <td>the return of the king</td>\n",
       "    </tr>\n",
       "    <tr>\n",
       "      <th>3</th>\n",
       "      <td>smeagol</td>\n",
       "      <td>deagol!</td>\n",
       "      <td>the return of the king</td>\n",
       "    </tr>\n",
       "    <tr>\n",
       "      <th>4</th>\n",
       "      <td>smeagol</td>\n",
       "      <td>deagol!</td>\n",
       "      <td>the return of the king</td>\n",
       "    </tr>\n",
       "  </tbody>\n",
       "</table>\n",
       "</div>"
      ],
      "text/plain": [
       "      char                                             dialog  \\\n",
       "0   deagol  oh smeagol ive got one!  ive got a fish smeago...   \n",
       "1  smeagol        pull it in! go on go on go on pull it in!     \n",
       "2   deagol                                           arrghh!    \n",
       "3  smeagol                                          deagol!     \n",
       "4  smeagol                                          deagol!     \n",
       "\n",
       "                     movie  \n",
       "0  the return of the king   \n",
       "1  the return of the king   \n",
       "2  the return of the king   \n",
       "3  the return of the king   \n",
       "4  the return of the king   "
      ]
     },
     "execution_count": 32,
     "metadata": {},
     "output_type": "execute_result"
    }
   ],
   "source": [
    "clean = TextCleasing(data_scripts)\n",
    "data_scripts = clean(['dialog', 'movie', 'char'])\n",
    "data_scripts.head()"
   ]
  },
  {
   "cell_type": "markdown",
   "metadata": {},
   "source": [
    "### <b> Characters"
   ]
  },
  {
   "cell_type": "code",
   "execution_count": 33,
   "metadata": {},
   "outputs": [
    {
     "data": {
      "text/html": [
       "<div>\n",
       "<style scoped>\n",
       "    .dataframe tbody tr th:only-of-type {\n",
       "        vertical-align: middle;\n",
       "    }\n",
       "\n",
       "    .dataframe tbody tr th {\n",
       "        vertical-align: top;\n",
       "    }\n",
       "\n",
       "    .dataframe thead th {\n",
       "        text-align: right;\n",
       "    }\n",
       "</style>\n",
       "<table border=\"1\" class=\"dataframe\">\n",
       "  <thead>\n",
       "    <tr style=\"text-align: right;\">\n",
       "      <th></th>\n",
       "      <th>birth</th>\n",
       "      <th>death</th>\n",
       "      <th>gender</th>\n",
       "      <th>name</th>\n",
       "      <th>race</th>\n",
       "    </tr>\n",
       "  </thead>\n",
       "  <tbody>\n",
       "    <tr>\n",
       "      <th>1</th>\n",
       "      <td>ta 2978</td>\n",
       "      <td>february 26 3019</td>\n",
       "      <td>male</td>\n",
       "      <td>boromir</td>\n",
       "      <td>men</td>\n",
       "    </tr>\n",
       "    <tr>\n",
       "      <th>3</th>\n",
       "      <td>ta 280</td>\n",
       "      <td>ta 515</td>\n",
       "      <td>male</td>\n",
       "      <td>tarcil</td>\n",
       "      <td>men</td>\n",
       "    </tr>\n",
       "    <tr>\n",
       "      <th>5</th>\n",
       "      <td>sa 2709</td>\n",
       "      <td>sa 2962</td>\n",
       "      <td>male</td>\n",
       "      <td>aradûnakhôr</td>\n",
       "      <td>men</td>\n",
       "    </tr>\n",
       "    <tr>\n",
       "      <th>7</th>\n",
       "      <td>yt</td>\n",
       "      <td>fa 455</td>\n",
       "      <td>male</td>\n",
       "      <td>angrod</td>\n",
       "      <td>elves</td>\n",
       "    </tr>\n",
       "    <tr>\n",
       "      <th>9</th>\n",
       "      <td>sa 3219</td>\n",
       "      <td>sa 3440</td>\n",
       "      <td>male</td>\n",
       "      <td>anárion</td>\n",
       "      <td>men</td>\n",
       "    </tr>\n",
       "  </tbody>\n",
       "</table>\n",
       "</div>"
      ],
      "text/plain": [
       "     birth             death gender         name   race\n",
       "1  ta 2978  february 26 3019   male      boromir    men\n",
       "3   ta 280            ta 515   male       tarcil    men\n",
       "5  sa 2709           sa 2962   male  aradûnakhôr    men\n",
       "7       yt            fa 455   male       angrod  elves\n",
       "9  sa 3219           sa 3440   male      anárion    men"
      ]
     },
     "execution_count": 33,
     "metadata": {},
     "output_type": "execute_result"
    }
   ],
   "source": [
    "clean = TextCleasing(data_char)\n",
    "data_char = clean.process_stem(data_char, 'gender')\n",
    "data_char = clean(['name', 'race', 'gender', 'birth', 'death'])\n",
    "data_char.head()"
   ]
  },
  {
   "cell_type": "code",
   "execution_count": 49,
   "metadata": {},
   "outputs": [
    {
     "data": {
      "text/plain": [
       "male      471\n",
       "female     76\n",
       "Name: gender, dtype: int64"
      ]
     },
     "execution_count": 49,
     "metadata": {},
     "output_type": "execute_result"
    }
   ],
   "source": [
    "data_char['gender'].value_counts()"
   ]
  },
  {
   "cell_type": "code",
   "execution_count": 48,
   "metadata": {},
   "outputs": [],
   "source": [
    "data_char = data_char[data_char['gender'] != 'most likely male']\n",
    "data_char = data_char[data_char['gender'] != 'males']"
   ]
  },
  {
   "cell_type": "markdown",
   "metadata": {},
   "source": [
    "# <b> Saving Processed Data"
   ]
  },
  {
   "cell_type": "code",
   "execution_count": 50,
   "metadata": {},
   "outputs": [],
   "source": [
    "data_char.to_csv('../data/processed/lotr_characters.csv', index=False)\n",
    "data_scripts.to_csv('../data/processed/lotr_scripts.csv', index=False)"
   ]
  },
  {
   "cell_type": "code",
   "execution_count": null,
   "metadata": {},
   "outputs": [],
   "source": []
  }
 ],
 "metadata": {
  "kernelspec": {
   "display_name": "Python 3",
   "language": "python",
   "name": "python3"
  },
  "language_info": {
   "codemirror_mode": {
    "name": "ipython",
    "version": 3
   },
   "file_extension": ".py",
   "mimetype": "text/x-python",
   "name": "python",
   "nbconvert_exporter": "python",
   "pygments_lexer": "ipython3",
   "version": "3.7.4"
  }
 },
 "nbformat": 4,
 "nbformat_minor": 4
}
