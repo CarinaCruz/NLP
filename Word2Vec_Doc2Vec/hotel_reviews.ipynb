{
 "cells": [
  {
   "cell_type": "markdown",
   "metadata": {},
   "source": [
    "#  <b> Doc2Vec - Hotel Reviews\n",
    "   "
   ]
  },
  {
   "cell_type": "markdown",
   "metadata": {},
   "source": [
    "### <b> Setup "
   ]
  },
  {
   "cell_type": "code",
   "execution_count": 49,
   "metadata": {},
   "outputs": [],
   "source": [
    "import pandas as pd\n",
    "\n",
    "import gensim \n",
    "import matplotlib.pyplot as plt\n",
    "from sklearn.decomposition import PCA\n",
    "from gensim.models.doc2vec import Doc2Vec, TaggedDocument"
   ]
  },
  {
   "cell_type": "markdown",
   "metadata": {},
   "source": [
    "### <b> Data Loading\n"
   ]
  },
  {
   "cell_type": "raw",
   "metadata": {},
   "source": [
    "!kaggle datasets download -d datafiniti/hotel-reviews"
   ]
  },
  {
   "cell_type": "code",
   "execution_count": 19,
   "metadata": {},
   "outputs": [],
   "source": [
    "data = pd.read_csv('../datasets/hotel-reviews/hotel_reviews.csv')"
   ]
  },
  {
   "cell_type": "markdown",
   "metadata": {},
   "source": [
    "### <b> Exploratory Data Analysis"
   ]
  },
  {
   "cell_type": "code",
   "execution_count": 20,
   "metadata": {},
   "outputs": [
    {
     "data": {
      "text/html": [
       "<div>\n",
       "<style scoped>\n",
       "    .dataframe tbody tr th:only-of-type {\n",
       "        vertical-align: middle;\n",
       "    }\n",
       "\n",
       "    .dataframe tbody tr th {\n",
       "        vertical-align: top;\n",
       "    }\n",
       "\n",
       "    .dataframe thead th {\n",
       "        text-align: right;\n",
       "    }\n",
       "</style>\n",
       "<table border=\"1\" class=\"dataframe\">\n",
       "  <thead>\n",
       "    <tr style=\"text-align: right;\">\n",
       "      <th></th>\n",
       "      <th>id</th>\n",
       "      <th>dateAdded</th>\n",
       "      <th>dateUpdated</th>\n",
       "      <th>address</th>\n",
       "      <th>categories</th>\n",
       "      <th>primaryCategories</th>\n",
       "      <th>city</th>\n",
       "      <th>country</th>\n",
       "      <th>keys</th>\n",
       "      <th>latitude</th>\n",
       "      <th>...</th>\n",
       "      <th>reviews.dateSeen</th>\n",
       "      <th>reviews.rating</th>\n",
       "      <th>reviews.sourceURLs</th>\n",
       "      <th>reviews.text</th>\n",
       "      <th>reviews.title</th>\n",
       "      <th>reviews.userCity</th>\n",
       "      <th>reviews.userProvince</th>\n",
       "      <th>reviews.username</th>\n",
       "      <th>sourceURLs</th>\n",
       "      <th>websites</th>\n",
       "    </tr>\n",
       "  </thead>\n",
       "  <tbody>\n",
       "    <tr>\n",
       "      <th>8927</th>\n",
       "      <td>AVwdmGkmIN2L1WUfxXj-</td>\n",
       "      <td>2017-04-18T11:03:16Z</td>\n",
       "      <td>2018-12-28T06:33:37Z</td>\n",
       "      <td>330 Magazine St</td>\n",
       "      <td>Hotels,Lodging,Hotel</td>\n",
       "      <td>Accommodation &amp; Food Services</td>\n",
       "      <td>New Orleans</td>\n",
       "      <td>US</td>\n",
       "      <td>us/la/neworleans/330magazinest/856161073</td>\n",
       "      <td>29.949830</td>\n",
       "      <td>...</td>\n",
       "      <td>2018-08-26T00:00:00Z</td>\n",
       "      <td>3</td>\n",
       "      <td>https://www.tripadvisor.com/Hotel_Review-g6086...</td>\n",
       "      <td>Booked with a third party service-checking in ...</td>\n",
       "      <td>Average service great location</td>\n",
       "      <td>Dallas</td>\n",
       "      <td>Texas</td>\n",
       "      <td>strucks</td>\n",
       "      <td>https://www.tripadvisor.com/Hotel_Review-g6086...</td>\n",
       "      <td>https://www.choicehotels.com/louisiana/new-orl...</td>\n",
       "    </tr>\n",
       "    <tr>\n",
       "      <th>9191</th>\n",
       "      <td>AVz1iS0Q-gnIPe8DUYOb</td>\n",
       "      <td>2017-06-29T20:27:06Z</td>\n",
       "      <td>2018-12-21T05:55:11Z</td>\n",
       "      <td>800 Fairview Ave N</td>\n",
       "      <td>Hotels,Lodging,Hotel</td>\n",
       "      <td>Accommodation &amp; Food Services</td>\n",
       "      <td>Seattle</td>\n",
       "      <td>US</td>\n",
       "      <td>us/wa/seattle/800fairviewaven/530809159</td>\n",
       "      <td>47.626358</td>\n",
       "      <td>...</td>\n",
       "      <td>2018-12-14T00:00:00Z</td>\n",
       "      <td>3</td>\n",
       "      <td>https://www.tripadvisor.com/Hotel_Review-g6087...</td>\n",
       "      <td>Hotel is ok, rooms are nice and big. They have...</td>\n",
       "      <td>Beware Priceline People</td>\n",
       "      <td>Vancouver</td>\n",
       "      <td>Canada</td>\n",
       "      <td>Rich984</td>\n",
       "      <td>https://www.tripadvisor.com/Hotel_Review-g6087...</td>\n",
       "      <td>http://www.marriott.com/hotels/travel/sealu-re...</td>\n",
       "    </tr>\n",
       "  </tbody>\n",
       "</table>\n",
       "<p>2 rows × 26 columns</p>\n",
       "</div>"
      ],
      "text/plain": [
       "                        id             dateAdded           dateUpdated  \\\n",
       "8927  AVwdmGkmIN2L1WUfxXj-  2017-04-18T11:03:16Z  2018-12-28T06:33:37Z   \n",
       "9191  AVz1iS0Q-gnIPe8DUYOb  2017-06-29T20:27:06Z  2018-12-21T05:55:11Z   \n",
       "\n",
       "                 address            categories              primaryCategories  \\\n",
       "8927     330 Magazine St  Hotels,Lodging,Hotel  Accommodation & Food Services   \n",
       "9191  800 Fairview Ave N  Hotels,Lodging,Hotel  Accommodation & Food Services   \n",
       "\n",
       "             city country                                      keys  \\\n",
       "8927  New Orleans      US  us/la/neworleans/330magazinest/856161073   \n",
       "9191      Seattle      US   us/wa/seattle/800fairviewaven/530809159   \n",
       "\n",
       "       latitude  ...      reviews.dateSeen reviews.rating  \\\n",
       "8927  29.949830  ...  2018-08-26T00:00:00Z              3   \n",
       "9191  47.626358  ...  2018-12-14T00:00:00Z              3   \n",
       "\n",
       "                                     reviews.sourceURLs  \\\n",
       "8927  https://www.tripadvisor.com/Hotel_Review-g6086...   \n",
       "9191  https://www.tripadvisor.com/Hotel_Review-g6087...   \n",
       "\n",
       "                                           reviews.text  \\\n",
       "8927  Booked with a third party service-checking in ...   \n",
       "9191  Hotel is ok, rooms are nice and big. They have...   \n",
       "\n",
       "                       reviews.title  reviews.userCity reviews.userProvince  \\\n",
       "8927  Average service great location            Dallas                Texas   \n",
       "9191         Beware Priceline People         Vancouver               Canada   \n",
       "\n",
       "      reviews.username                                         sourceURLs  \\\n",
       "8927           strucks  https://www.tripadvisor.com/Hotel_Review-g6086...   \n",
       "9191           Rich984  https://www.tripadvisor.com/Hotel_Review-g6087...   \n",
       "\n",
       "                                               websites  \n",
       "8927  https://www.choicehotels.com/louisiana/new-orl...  \n",
       "9191  http://www.marriott.com/hotels/travel/sealu-re...  \n",
       "\n",
       "[2 rows x 26 columns]"
      ]
     },
     "execution_count": 20,
     "metadata": {},
     "output_type": "execute_result"
    }
   ],
   "source": [
    "data.sample(2)"
   ]
  },
  {
   "cell_type": "code",
   "execution_count": 21,
   "metadata": {},
   "outputs": [
    {
     "data": {
      "text/plain": [
       "(10000, 26)"
      ]
     },
     "execution_count": 21,
     "metadata": {},
     "output_type": "execute_result"
    }
   ],
   "source": [
    "data.shape"
   ]
  },
  {
   "cell_type": "code",
   "execution_count": 22,
   "metadata": {},
   "outputs": [
    {
     "data": {
      "text/plain": [
       "0    This hotel was nice and quiet. Did not know, t...\n",
       "1    We stayed in the king suite with the separatio...\n",
       "2    Parking was horrible, somebody ran into my ren...\n",
       "3    Not cheap but excellent location. Price is som...\n",
       "4    If you get the room that they advertised on th...\n",
       "Name: reviews.text, dtype: object"
      ]
     },
     "execution_count": 22,
     "metadata": {},
     "output_type": "execute_result"
    }
   ],
   "source": [
    "data['reviews.text'].head()"
   ]
  },
  {
   "cell_type": "markdown",
   "metadata": {},
   "source": [
    "### <b> Data Processing"
   ]
  },
  {
   "cell_type": "markdown",
   "metadata": {},
   "source": [
    "### <b> Doc2Vec"
   ]
  },
  {
   "cell_type": "code",
   "execution_count": 36,
   "metadata": {},
   "outputs": [],
   "source": [
    "tagged_data = [TaggedDocument(words=word_tokenize(_d.lower()), tags=[str(i)]) for i, _d in enumerate(sentences)]"
   ]
  },
  {
   "cell_type": "code",
   "execution_count": 37,
   "metadata": {},
   "outputs": [
    {
     "data": {
      "text/plain": [
       "TaggedDocument(words=['currently', 'in', 'bed', 'writing', 'this', 'for', 'the', 'past', 'hr', '1/2', 'there', 'have', 'been', 'dogs', 'barking', 'and', 'squealing', 'call', 'the', 'front', 'desk', 'to', 'advise', 'basically', 'to', 'be', 'told', 'there', \"'s\", 'nothing', 'they', 'can', 'do', '.', '315.00', 'and', 'i', 'ca', \"n't\", 'sleep', '.'], tags=['0'])"
      ]
     },
     "execution_count": 37,
     "metadata": {},
     "output_type": "execute_result"
    }
   ],
   "source": [
    "tagged_data[0]"
   ]
  },
  {
   "cell_type": "code",
   "execution_count": 40,
   "metadata": {},
   "outputs": [],
   "source": [
    "max_epochs = 10\n",
    "vec_size = 20\n",
    "alpha = 0.025\n",
    "\n",
    "model = Doc2Vec(vector_size=vec_size,\n",
    "                alpha=alpha, \n",
    "                min_alpha=0.00025,\n",
    "                min_count=1,\n",
    "                dm =1)\n",
    "\n",
    "model.build_vocab(tagged_data)"
   ]
  },
  {
   "cell_type": "code",
   "execution_count": 42,
   "metadata": {},
   "outputs": [
    {
     "name": "stderr",
     "output_type": "stream",
     "text": [
      "<ipython-input-42-e462fbb435e0>:4: DeprecationWarning: Call to deprecated `iter` (Attribute will be removed in 4.0.0, use self.epochs instead).\n",
      "  epochs=model.iter)\n"
     ]
    },
    {
     "name": "stdout",
     "output_type": "stream",
     "text": [
      "Model Saved\n"
     ]
    }
   ],
   "source": [
    "for epoch in range(max_epochs):\n",
    "    model.train(tagged_data,\n",
    "                total_examples=model.corpus_count,\n",
    "                epochs=model.iter)\n",
    "    # decrease the learning rate\n",
    "    model.alpha -= 0.0002\n",
    "    # fix the learning rate, no decay\n",
    "    model.min_alpha = model.alpha\n",
    "\n",
    "model.save(\"d2v.model\")\n",
    "print(\"Model Saved\")"
   ]
  },
  {
   "cell_type": "code",
   "execution_count": 43,
   "metadata": {},
   "outputs": [],
   "source": [
    "model = Doc2Vec.load(\"d2v.model\")"
   ]
  },
  {
   "cell_type": "code",
   "execution_count": 76,
   "metadata": {},
   "outputs": [
    {
     "name": "stdout",
     "output_type": "stream",
     "text": [
      "V1_infer [ 0.02836782 -0.55253285  0.39682478 -0.4584763  -0.05888359  0.07548706\n",
      "  0.22736174 -0.13753387  0.38355336 -0.37164566 -0.12517379  0.3828148\n",
      " -0.24724478  0.25117028 -0.03419457 -0.29544836 -0.22575805  0.03547256\n",
      " -0.21079966  0.10363379]\n"
     ]
    }
   ],
   "source": [
    "test_data = word_tokenize(\"currently bed writing past hr dogs barking squealing call front desk advise basically told nothing ca sleep \".lower())\n",
    "v1 = model.infer_vector(test_data)\n",
    "print(\"V1_infer\", v1)"
   ]
  },
  {
   "cell_type": "code",
   "execution_count": 77,
   "metadata": {},
   "outputs": [
    {
     "data": {
      "text/plain": [
       "[('751', 0.8144057393074036),\n",
       " ('1818', 0.8105208277702332),\n",
       " ('886', 0.7998476028442383),\n",
       " ('1901', 0.795726478099823),\n",
       " ('624', 0.7893334031105042)]"
      ]
     },
     "execution_count": 77,
     "metadata": {},
     "output_type": "execute_result"
    }
   ],
   "source": [
    "# find most similar doc \n",
    "test_doc = word_tokenize(\"currently bed writing past hr dogs barking squealing call front desk advise basically told nothing ca sleep\".lower())\n",
    "model.docvecs.most_similar(positive=[model.infer_vector(test_doc)], topn = 5)"
   ]
  },
  {
   "cell_type": "code",
   "execution_count": 87,
   "metadata": {},
   "outputs": [
    {
     "data": {
      "text/plain": [
       "'currently bed writing past hr dogs barking squealing call front desk advise basically told nothing ca sleep'"
      ]
     },
     "execution_count": 87,
     "metadata": {},
     "output_type": "execute_result"
    }
   ],
   "source": [
    "' '.join(test_doc)"
   ]
  },
  {
   "cell_type": "code",
   "execution_count": 90,
   "metadata": {},
   "outputs": [
    {
     "data": {
      "text/plain": [
       "'finally made a reservation with omni after many attempts . their reservation system would put call on hold for a long time . should have been a warning on things to come i finally called the front desk and they connected me to reservations . made a reservation to check in may 28th , three nights . requested early check in this was a special ... more'"
      ]
     },
     "execution_count": 90,
     "metadata": {},
     "output_type": "execute_result"
    }
   ],
   "source": [
    "' '.join(tagged_data[624].words)"
   ]
  },
  {
   "cell_type": "markdown",
   "metadata": {},
   "source": [
    "### <b> Results "
   ]
  },
  {
   "cell_type": "markdown",
   "metadata": {},
   "source": [
    "#### <b> Visualizing Embeddings"
   ]
  },
  {
   "cell_type": "markdown",
   "metadata": {},
   "source": [
    "### <b> Post Processing "
   ]
  },
  {
   "cell_type": "markdown",
   "metadata": {},
   "source": [
    "Words frequency by classification, TSNE etc..."
   ]
  },
  {
   "cell_type": "markdown",
   "metadata": {},
   "source": [
    "### <b> Conclusion"
   ]
  }
 ],
 "metadata": {
  "kernelspec": {
   "display_name": "Python 3",
   "language": "python",
   "name": "python3"
  },
  "language_info": {
   "codemirror_mode": {
    "name": "ipython",
    "version": 3
   },
   "file_extension": ".py",
   "mimetype": "text/x-python",
   "name": "python",
   "nbconvert_exporter": "python",
   "pygments_lexer": "ipython3",
   "version": "3.8.5"
  }
 },
 "nbformat": 4,
 "nbformat_minor": 4
}
