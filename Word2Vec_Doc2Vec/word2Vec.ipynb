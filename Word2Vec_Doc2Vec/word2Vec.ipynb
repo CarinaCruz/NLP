{
 "cells": [
  {
   "cell_type": "markdown",
   "metadata": {},
   "source": [
    "https://www.kaggle.com/pierremegret/gensim-word2vec-tutorial"
   ]
  },
  {
   "cell_type": "markdown",
   "metadata": {},
   "source": [
    "# <b> Natural Language Processing and Word Embeddings using Spacy and Gensim"
   ]
  },
  {
   "cell_type": "markdown",
   "metadata": {},
   "source": [
    "## <b> Word2Vec"
   ]
  },
  {
   "cell_type": "markdown",
   "metadata": {},
   "source": [
    "Two words sharing similar contexts also share a similar meaning and consequently a similar vector representation from the model.  \n",
    "\n",
    "Word2Vec can be used to find out the relations between words in a dataset, compute the similarity between them, or use \n",
    "\n",
    "the vector representation of those words as input for other applications such as text classification or clustering."
   ]
  },
  {
   "cell_type": "markdown",
   "metadata": {},
   "source": [
    "### <b> Imports"
   ]
  },
  {
   "cell_type": "code",
   "execution_count": 1,
   "metadata": {},
   "outputs": [],
   "source": [
    "import re \n",
    "import pandas as pd  \n",
    "from time import time \n",
    "from collections import defaultdict\n",
    "import spacy \n",
    "\n",
    "from src import PreProcessing"
   ]
  },
  {
   "cell_type": "raw",
   "metadata": {},
   "source": [
    "!pip install -i https://pypi.org/simple openpyxl"
   ]
  },
  {
   "cell_type": "markdown",
   "metadata": {},
   "source": [
    "### <b> Loading Data"
   ]
  },
  {
   "cell_type": "code",
   "execution_count": 2,
   "metadata": {},
   "outputs": [],
   "source": [
    "df = pd.read_csv('data/cpfl.csv')"
   ]
  },
  {
   "cell_type": "code",
   "execution_count": 3,
   "metadata": {},
   "outputs": [],
   "source": [
    "df['Clean Sentences'] = df['Conteúdo'].apply(lambda x: PreProcessing.clean_text(x))"
   ]
  },
  {
   "cell_type": "raw",
   "metadata": {},
   "source": [
    "df['Lemma Sentences'] = df['Clen Sentences'].apply(lambda x: PreProcessing.text_lemmatizer(x))"
   ]
  },
  {
   "cell_type": "code",
   "execution_count": 4,
   "metadata": {},
   "outputs": [
    {
     "data": {
      "text/html": [
       "<div>\n",
       "<style scoped>\n",
       "    .dataframe tbody tr th:only-of-type {\n",
       "        vertical-align: middle;\n",
       "    }\n",
       "\n",
       "    .dataframe tbody tr th {\n",
       "        vertical-align: top;\n",
       "    }\n",
       "\n",
       "    .dataframe thead th {\n",
       "        text-align: right;\n",
       "    }\n",
       "</style>\n",
       "<table border=\"1\" class=\"dataframe\">\n",
       "  <thead>\n",
       "    <tr style=\"text-align: right;\">\n",
       "      <th></th>\n",
       "      <th>Título</th>\n",
       "      <th>Conteúdo</th>\n",
       "      <th>Clean Sentences</th>\n",
       "    </tr>\n",
       "  </thead>\n",
       "  <tbody>\n",
       "    <tr>\n",
       "      <th>0</th>\n",
       "      <td>Após frocar poste de energia elétrica abasteci...</td>\n",
       "      <td>Após frocar poste de energia elétrica abasteci...</td>\n",
       "      <td>apos frocar poste energia eletrica abastecimen...</td>\n",
       "    </tr>\n",
       "    <tr>\n",
       "      <th>1</th>\n",
       "      <td>Brasileiro pode pagar menos por energia elétrica</td>\n",
       "      <td>Desde ontem, todos os consumidores brasileiros...</td>\n",
       "      <td>desde ontem todos consumidores brasileiros ja ...</td>\n",
       "    </tr>\n",
       "    <tr>\n",
       "      <th>2</th>\n",
       "      <td>CPFL abre 28 vagas para curso de eletricista e...</td>\n",
       "      <td>A CPFL Paulista abriu 28 vagas para o curso gr...</td>\n",
       "      <td>cpfl paulista abriu vagas curso gratuito forma...</td>\n",
       "    </tr>\n",
       "    <tr>\n",
       "      <th>3</th>\n",
       "      <td>CPFL tem lucro líquido de R$ 904,126 milhões n...</td>\n",
       "      <td>A CPFL apurou lucro líquido de R$ 904,126 milh...</td>\n",
       "      <td>cpfl apurou lucro liquido milhoes primeiro tri...</td>\n",
       "    </tr>\n",
       "    <tr>\n",
       "      <th>4</th>\n",
       "      <td>Banco de preços de distribuição terá nova fase...</td>\n",
       "      <td>A Agência Nacional de Energia Elétrica vai abr...</td>\n",
       "      <td>agencia nacional energia eletrica vai abrir co...</td>\n",
       "    </tr>\n",
       "  </tbody>\n",
       "</table>\n",
       "</div>"
      ],
      "text/plain": [
       "                                              Título  \\\n",
       "0  Após frocar poste de energia elétrica abasteci...   \n",
       "1   Brasileiro pode pagar menos por energia elétrica   \n",
       "2  CPFL abre 28 vagas para curso de eletricista e...   \n",
       "3  CPFL tem lucro líquido de R$ 904,126 milhões n...   \n",
       "4  Banco de preços de distribuição terá nova fase...   \n",
       "\n",
       "                                            Conteúdo  \\\n",
       "0  Após frocar poste de energia elétrica abasteci...   \n",
       "1  Desde ontem, todos os consumidores brasileiros...   \n",
       "2  A CPFL Paulista abriu 28 vagas para o curso gr...   \n",
       "3  A CPFL apurou lucro líquido de R$ 904,126 milh...   \n",
       "4  A Agência Nacional de Energia Elétrica vai abr...   \n",
       "\n",
       "                                     Clean Sentences  \n",
       "0  apos frocar poste energia eletrica abastecimen...  \n",
       "1  desde ontem todos consumidores brasileiros ja ...  \n",
       "2  cpfl paulista abriu vagas curso gratuito forma...  \n",
       "3  cpfl apurou lucro liquido milhoes primeiro tri...  \n",
       "4  agencia nacional energia eletrica vai abrir co...  "
      ]
     },
     "execution_count": 4,
     "metadata": {},
     "output_type": "execute_result"
    }
   ],
   "source": [
    "df[['Título', 'Conteúdo', 'Clean Sentences']].head()"
   ]
  },
  {
   "cell_type": "markdown",
   "metadata": {},
   "source": [
    "## <b> Processing Data with Spacy"
   ]
  },
  {
   "cell_type": "markdown",
   "metadata": {},
   "source": [
    "#### Portuguese Model"
   ]
  },
  {
   "cell_type": "raw",
   "metadata": {},
   "source": [
    "!python -m spacy download pt_core_news_sm"
   ]
  },
  {
   "cell_type": "code",
   "execution_count": null,
   "metadata": {},
   "outputs": [],
   "source": [
    "nlp = spacy.load('pt_core_news_sm', disable=['ner', 'parser']) "
   ]
  },
  {
   "cell_type": "markdown",
   "metadata": {},
   "source": [
    "#### Cleaning"
   ]
  },
  {
   "cell_type": "code",
   "execution_count": null,
   "metadata": {},
   "outputs": [],
   "source": [
    "def cleaning(sentence):\n",
    "    text = [token.lemma_ for token in sentence if not token.is_stop]\n",
    "    # filter small sentences\n",
    "    if len(text) > 2:\n",
    "        return ' '.join(text)"
   ]
  },
  {
   "cell_type": "code",
   "execution_count": null,
   "metadata": {},
   "outputs": [],
   "source": [
    "title_cleaning = (re.sub(\"[^A-Za-z']+\", ' ', str(row)).lower() for row in df['Título'])\n",
    "text_cleaning = (re.sub(\"[^A-Za-z']+\", ' ', str(row)).lower() for row in df['Conteúdo'])"
   ]
  },
  {
   "cell_type": "code",
   "execution_count": null,
   "metadata": {},
   "outputs": [],
   "source": [
    "# NLP pipeline speeds up the time processing\n",
    "title = [cleaning(doc) for doc in nlp.pipe(title_cleaning, batch_size=5000)]\n",
    "text = [cleaning(doc) for doc in nlp.pipe(text_cleaning, batch_size=5000)]"
   ]
  },
  {
   "cell_type": "code",
   "execution_count": null,
   "metadata": {},
   "outputs": [],
   "source": [
    "df_clean = pd.DataFrame({'clean_text': text, 'clean_title':title})\n",
    "df_clean = df_clean.dropna().drop_duplicates()\n",
    "df_clean.shape"
   ]
  },
  {
   "cell_type": "code",
   "execution_count": null,
   "metadata": {},
   "outputs": [],
   "source": [
    "df_clean.head()"
   ]
  },
  {
   "cell_type": "markdown",
   "metadata": {},
   "source": [
    "# <b> Ngrams"
   ]
  },
  {
   "cell_type": "code",
   "execution_count": 5,
   "metadata": {},
   "outputs": [],
   "source": [
    "from gensim.models.phrases import Phrases, Phraser"
   ]
  },
  {
   "cell_type": "code",
   "execution_count": 6,
   "metadata": {},
   "outputs": [],
   "source": [
    "sent = [row.split() for row in df['Clean Sentences']]"
   ]
  },
  {
   "cell_type": "code",
   "execution_count": 7,
   "metadata": {},
   "outputs": [],
   "source": [
    "# removing small words\n",
    "sent = [[x for x in line if len(x) > 2] for line in sent ] "
   ]
  },
  {
   "cell_type": "code",
   "execution_count": 8,
   "metadata": {},
   "outputs": [],
   "source": [
    "phrases = Phrases(sent, min_count=30, progress_per=100)"
   ]
  },
  {
   "cell_type": "code",
   "execution_count": 9,
   "metadata": {},
   "outputs": [],
   "source": [
    "bigram = Phraser(phrases)"
   ]
  },
  {
   "cell_type": "code",
   "execution_count": 10,
   "metadata": {},
   "outputs": [],
   "source": [
    "sentences = bigram[sent]"
   ]
  },
  {
   "cell_type": "code",
   "execution_count": 11,
   "metadata": {},
   "outputs": [
    {
     "name": "stdout",
     "output_type": "stream",
     "text": [
      "['apos', 'frocar', 'poste', 'energia_eletrica', 'abastecimento_agua', 'restabelecido', 'zona', 'leste', 'apos', 'energia', 'paulista', 'cascata', 'troca', 'poste', 'eletrica', 'cpfl', 'ontem', 'bairro', 'daem', 'departamento', 'agua_esgoto', 'marilia', 'informou', 'abastecimento_agua', 'zona', 'leste', 'cidade', 'sera', 'restabelecido', 'hoje', 'manutencao', 'cpfl_paulista', 'aconteceu', 'diante', 'ocorrido', 'sistema', 'abastecimento', 'cascata', 'ficou', 'inativo', 'aproximadamente', 'seis', 'horas', 'atraves', 'redes_sociais', 'daem', 'pediu', 'economia', 'daem', 'informou', 'abastecimento_agua', 'sera', 'restabelecido', 'hoje', 'zona', 'leste', 'cidade', 'agua', 'moradores', 'regiao', 'leste', 'marilia', 'evitar', 'faltasse', 'ainda', 'produto', 'direcao', 'autarquia', 'destacou', 'residencias', 'reservatorios', 'agua', 'podem', 'ter', 'sentido', 'baixa', 'provocada', 'troca', 'poste', 'energia_eletrica', 'cpfl', 'divulgacao']\n"
     ]
    }
   ],
   "source": [
    "for sent in sentences:\n",
    "    print(sent)\n",
    "    break"
   ]
  },
  {
   "cell_type": "markdown",
   "metadata": {},
   "source": [
    "#### Most Frequent Words"
   ]
  },
  {
   "cell_type": "code",
   "execution_count": 12,
   "metadata": {},
   "outputs": [
    {
     "data": {
      "text/plain": [
       "80670"
      ]
     },
     "execution_count": 12,
     "metadata": {},
     "output_type": "execute_result"
    }
   ],
   "source": [
    "word_freq = defaultdict(int)\n",
    "for sent in sentences:\n",
    "    for i in sent:\n",
    "        word_freq[i] += 1\n",
    "len(word_freq)"
   ]
  },
  {
   "cell_type": "code",
   "execution_count": 13,
   "metadata": {},
   "outputs": [
    {
     "name": "stdout",
     "output_type": "stream",
     "text": [
      "['nao', 'energia', 'brasil', 'empresa', 'tambem', 'empresas', 'ate', 'ainda', 'sao', 'sobre']\n"
     ]
    }
   ],
   "source": [
    "print(sorted(word_freq, key=word_freq.get, reverse=True)[:10])"
   ]
  },
  {
   "cell_type": "markdown",
   "metadata": {},
   "source": [
    "## <b> Training Gensim"
   ]
  },
  {
   "cell_type": "code",
   "execution_count": 14,
   "metadata": {},
   "outputs": [],
   "source": [
    "import multiprocessing\n",
    "from gensim.models import Word2Vec"
   ]
  },
  {
   "cell_type": "code",
   "execution_count": 15,
   "metadata": {},
   "outputs": [
    {
     "name": "stdout",
     "output_type": "stream",
     "text": [
      "12\n"
     ]
    }
   ],
   "source": [
    "cores = multiprocessing.cpu_count()\n",
    "print(cores)"
   ]
  },
  {
   "cell_type": "markdown",
   "metadata": {},
   "source": [
    "Parameters:\n",
    "\n",
    "min_count = int - Ignores all words with total absolute frequency lower than this - (2, 100)\n",
    "\n",
    "window = int - The maximum distance between the current and predicted word within a sentence. E.g. window words on the left and window words on the left of our target - (2, 10)\n",
    "\n",
    "size = int - Dimensionality of the feature vectors. - (50, 300)\n",
    "\n",
    "sample = float - The threshold for configuring which higher-frequency words are randomly downsampled. Highly influencial. - (0, 1e-5)\n",
    "\n",
    "alpha = float - The initial learning rate - (0.01, 0.05)\n",
    "\n",
    "min_alpha = float - Learning rate will linearly drop to min_alpha as training progresses. To set it: alpha - (min_alpha * epochs) ~ 0.00\n",
    "\n",
    "negative = int - If > 0, negative sampling will be used, the int for negative specifies how many \"noise words\" should be drown. If set to 0, no negative \n",
    "sampling is used. - (5, 20)\n",
    "\n",
    "workers = int - Use these many worker threads to train the model (=faster training with multicore machines)"
   ]
  },
  {
   "cell_type": "code",
   "execution_count": 16,
   "metadata": {},
   "outputs": [],
   "source": [
    "w2v_model = Word2Vec(min_count=2,\n",
    "                     window=2,\n",
    "                     size=300,\n",
    "                     sample=6e-5, \n",
    "                     alpha=0.03, \n",
    "                     min_alpha=0.0007, \n",
    "                     negative=20,\n",
    "                     workers=cores-1)"
   ]
  },
  {
   "cell_type": "code",
   "execution_count": 17,
   "metadata": {},
   "outputs": [
    {
     "name": "stdout",
     "output_type": "stream",
     "text": [
      "Time to build vocab: 0.19 mins\n"
     ]
    }
   ],
   "source": [
    "t = time()\n",
    "\n",
    "w2v_model.build_vocab(sentences, progress_per=10000)\n",
    "\n",
    "print('Time to build vocab: {} mins'.format(round((time() - t) / 60, 2)))"
   ]
  },
  {
   "cell_type": "code",
   "execution_count": 18,
   "metadata": {},
   "outputs": [
    {
     "name": "stdout",
     "output_type": "stream",
     "text": [
      "Time to train the model: 2.19 mins\n"
     ]
    }
   ],
   "source": [
    "t = time()\n",
    "\n",
    "w2v_model.train(sentences, total_examples=w2v_model.corpus_count, epochs=30, report_delay=1)\n",
    "\n",
    "print('Time to train the model: {} mins'.format(round((time() - t) / 60, 2)))"
   ]
  },
  {
   "cell_type": "code",
   "execution_count": 19,
   "metadata": {},
   "outputs": [],
   "source": [
    "# memory efficient\n",
    "w2v_model.init_sims(replace=True)"
   ]
  },
  {
   "cell_type": "markdown",
   "metadata": {},
   "source": [
    "## <b> Exploring the model"
   ]
  },
  {
   "cell_type": "markdown",
   "metadata": {},
   "source": [
    "#### Positives"
   ]
  },
  {
   "cell_type": "code",
   "execution_count": 20,
   "metadata": {},
   "outputs": [
    {
     "data": {
      "text/plain": [
       "[('energia_eletrica', 0.6388442516326904),\n",
       " ('consumo', 0.4352198839187622),\n",
       " ('eletricidade', 0.40962857007980347),\n",
       " ('tambem', 0.3987608253955841),\n",
       " ('rge', 0.390339195728302),\n",
       " ('distribuidora', 0.3876175880432129),\n",
       " ('eletrica', 0.37769490480422974),\n",
       " ('eneigia', 0.3771359920501709),\n",
       " ('distribuicao', 0.3770790696144104),\n",
       " ('cpfl', 0.3681311309337616)]"
      ]
     },
     "execution_count": 20,
     "metadata": {},
     "output_type": "execute_result"
    }
   ],
   "source": [
    "w2v_model.wv.most_similar(positive=[\"energia\"])"
   ]
  },
  {
   "cell_type": "markdown",
   "metadata": {},
   "source": [
    "#### Negatives"
   ]
  },
  {
   "cell_type": "code",
   "execution_count": 21,
   "metadata": {},
   "outputs": [
    {
     "data": {
      "text/plain": [
       "[('tek', 0.3303612470626831),\n",
       " ('eve', 0.32560375332832336),\n",
       " ('widc', 0.3214746117591858),\n",
       " ('mont', 0.321318656206131),\n",
       " ('beve', 0.31915658712387085),\n",
       " ('haea', 0.31310516595840454),\n",
       " ('asm', 0.3127145767211914),\n",
       " ('bad', 0.31271427869796753),\n",
       " ('ampon', 0.3116723299026489),\n",
       " ('discovery', 0.311638742685318)]"
      ]
     },
     "execution_count": 21,
     "metadata": {},
     "output_type": "execute_result"
    }
   ],
   "source": [
    "w2v_model.wv.most_similar(negative=[\"energia\"])"
   ]
  },
  {
   "cell_type": "markdown",
   "metadata": {},
   "source": [
    "#### Similarities"
   ]
  },
  {
   "cell_type": "code",
   "execution_count": 22,
   "metadata": {},
   "outputs": [
    {
     "data": {
      "text/plain": [
       "0.29844242"
      ]
     },
     "execution_count": 22,
     "metadata": {},
     "output_type": "execute_result"
    }
   ],
   "source": [
    "w2v_model.wv.similarity(\"luz\", \"energia\")"
   ]
  },
  {
   "cell_type": "code",
   "execution_count": 23,
   "metadata": {},
   "outputs": [
    {
     "data": {
      "text/plain": [
       "0.4096286"
      ]
     },
     "execution_count": 23,
     "metadata": {},
     "output_type": "execute_result"
    }
   ],
   "source": [
    "w2v_model.wv.similarity(\"eletricidade\", \"energia\")"
   ]
  },
  {
   "cell_type": "code",
   "execution_count": 24,
   "metadata": {},
   "outputs": [
    {
     "data": {
      "text/plain": [
       "0.2099957"
      ]
     },
     "execution_count": 24,
     "metadata": {},
     "output_type": "execute_result"
    }
   ],
   "source": [
    "w2v_model.wv.similarity(\"eletricidade\", \"luz\")"
   ]
  },
  {
   "cell_type": "code",
   "execution_count": 25,
   "metadata": {},
   "outputs": [
    {
     "data": {
      "text/plain": [
       "0.2374003"
      ]
     },
     "execution_count": 25,
     "metadata": {},
     "output_type": "execute_result"
    }
   ],
   "source": [
    "w2v_model.wv.similarity(\"eletricidade\", \"eletrica\")"
   ]
  },
  {
   "cell_type": "markdown",
   "metadata": {},
   "source": [
    "## <b> t-SNE visualizations"
   ]
  },
  {
   "cell_type": "code",
   "execution_count": 44,
   "metadata": {},
   "outputs": [],
   "source": [
    "from src import TSNE"
   ]
  },
  {
   "cell_type": "code",
   "execution_count": 45,
   "metadata": {},
   "outputs": [],
   "source": [
    "words = list(w2v_model.wv.most_similar(positive=[\"luz\"], topn=20))\n",
    "words = [w[0] for w in words]"
   ]
  },
  {
   "cell_type": "code",
   "execution_count": 46,
   "metadata": {},
   "outputs": [
    {
     "name": "stdout",
     "output_type": "stream",
     "text": [
      "['paulista_forca', 'restabeleca', 'reduzir_conta', 'caragua', 'clayton', 'feches', 'dmae', 'precos_consumidores', 'bebe_sexo', 'ultravioleta', 'relogio', 'bal', 'arquibancadas', 'cortada', 'moradoresde', 'persiste', 'arrancados', 'impactar_contas', 'incide', 'equipados']\n"
     ]
    }
   ],
   "source": [
    "print(words)"
   ]
  },
  {
   "cell_type": "code",
   "execution_count": null,
   "metadata": {},
   "outputs": [],
   "source": [
    "TSNE.tsnescatterplot(w2v_model, 'luz', words)"
   ]
  },
  {
   "cell_type": "markdown",
   "metadata": {},
   "source": [
    "### <b> Save Embeddings Model"
   ]
  },
  {
   "cell_type": "code",
   "execution_count": 31,
   "metadata": {},
   "outputs": [],
   "source": [
    "w2v_model.save(\"models/word2vec.model\")"
   ]
  },
  {
   "cell_type": "markdown",
   "metadata": {},
   "source": [
    "### <b> Save Word Vectors"
   ]
  },
  {
   "cell_type": "code",
   "execution_count": 32,
   "metadata": {},
   "outputs": [],
   "source": [
    "word_vectors = w2v_model.wv"
   ]
  },
  {
   "cell_type": "code",
   "execution_count": 33,
   "metadata": {},
   "outputs": [],
   "source": [
    "word_vectors.save(\"embeddings/word2vec.wordvectors\")"
   ]
  },
  {
   "cell_type": "markdown",
   "metadata": {},
   "source": [
    "### <b> Load Word Vectors"
   ]
  },
  {
   "cell_type": "code",
   "execution_count": null,
   "metadata": {},
   "outputs": [],
   "source": [
    "from gensim.models import KeyedVectors\n",
    "wv = KeyedVectors.load(\"embeddings/word2vec.wordvectors\", mmap='r')"
   ]
  },
  {
   "cell_type": "code",
   "execution_count": null,
   "metadata": {},
   "outputs": [],
   "source": [
    "vector = wv['luz']  # Get numpy vector of a word"
   ]
  },
  {
   "cell_type": "code",
   "execution_count": 49,
   "metadata": {},
   "outputs": [],
   "source": [
    "df.to_csv('data/cpfl_clean.csv', index=False)"
   ]
  },
  {
   "cell_type": "code",
   "execution_count": 54,
   "metadata": {},
   "outputs": [
    {
     "data": {
      "text/plain": [
       "'desde ontem todos consumidores brasileiros ja podem aderir tarifa branca permite pagamento valores diferentes funcao hora dia semana consome energia eletrica aprovada agencia nacional energia eletrica aneel havia estabelecido cronograma anual adocao modalidade comecando janeiro novas ligacoes clientes unidades consumidoras media anual consumo mensal superior kwh mes janeiro patamar minimo reduzido kwh mes chegando agora todos consumidores baixa tensao tarifa branca medida adotada aneel promover sinal precos consumidores reduzir conta luz alem otimizar uso rede eletrica dias uteis nova modalidade tarifaria tres valores ponta intermediario ponta periodos sao estabelecidos aneel diferentes cada distribuidora sabados domingos feriados contam tarifa ponta horas dia regras valor tarifa horario ponta barato horario ponta estimulando mudanca habitos consumo perfil antes optar tarifa branca consumidor deve conhecer bem perfil consumo quanto deslocar consumo periodo ponta maior sera reducao conta luz porem tarifa branca nao recomendada consumidores demandam energia periodos ponta intermediario nao possibilidade deslocar consumo periodo ponta nessas situacoes valor fatura pode subir caso consumidor aderido tarifa branca nao percebeu vantagem pode solicitar volta sistema anterior tarifa convencional distribuidora tera dias atender pedido alteracao caso queira participar novo modalidade ha periodo carencia dias tarifa branca valida residencias pequenos estabelecimentos comerciais industriais nao aplica consumidores residenciais classificados baixa renda beneficiarios descontos previstos legislacao iluminacao publica segundo dados aneel desde entrou vigencia ate outubro ultima informacao disponivel mil clientes todo pais ja aderiram tarifa branca importante crescimento longo ano passado enel sp antiga eletropaulo lidera ranking mil consumidores seguido cpfl paulista mil clientes light mil clientes coelba mil cpfl piratininga mil mil consumidores ja aderiram mil sao clientes residenciais'"
      ]
     },
     "execution_count": 54,
     "metadata": {},
     "output_type": "execute_result"
    }
   ],
   "source": [
    "df['Clean Sentences'][1]"
   ]
  },
  {
   "cell_type": "code",
   "execution_count": 55,
   "metadata": {},
   "outputs": [
    {
     "data": {
      "text/plain": [
       "'Desde ontem, todos os consumidores brasileiros já podem aderir à tarifa branca, que permite o pagamento de valores diferentes em função da hora e do dia da semana em que se consome a energia elétrica. Aprovada em 2016, a Agência Nacional de Energia Elétrica (Aneel) havia estabelecido um cronograma anual para adoção da modalidade, começando em janeiro de 2018 pelas novas ligações de clientes ou unidades consumidoras com média anual de consumo mensal superior a 500 KWh/mês. Em janeiro de 2019, o patamar mínimo foi reduzido para 250 KWh/mês, chegando a agora a todos os consumidores de baixa tensão.\\nA tarifa branca é uma medida adotada pela Aneel para promover o sinal de preços aos consumidores e reduzir a conta de luz, além de otimizar o uso da rede elétrica. Nos dias úteis, a nova modalidade tarifária tem três valores: ponta, intermediário e fora de ponta. Esses períodos são estabelecidos pela Aneel e diferentes para cada distribuidora. Sábados, domingos e feriados contam com a tarifa fora de ponta nas 24 horas do dia. Pelas regras, valor da tarifa fora do horário de ponta é mais barato do que no horário de ponta, estimulando a mudança de hábitos de consumo.\\nPerfil\\nAntes de optar pela tarifa branca, o consumidor deve conhecer bem o seu perfil de consumo. Quanto mais deslocar o consumo para o período fora de ponta, maior será a redução da conta de luz. Porém, a tarifa branca não é recomendada para aqueles consumidores que demandam mais energia nos períodos de ponta e intermediário e não houver possibilidade de deslocar o consumo para o período fora de ponta. Nessas situações, o valor da fatura pode subir.\\nCaso o consumidor tenha aderido à tarifa branca e não percebeu vantagem, pode solicitar sua volta ao sistema anterior (tarifa convencional). A distribuidora terá 30 dias para atender ao pedido de alteração. Caso queira participar de novo da modalidade, há um período de carência de 180 dias. A tarifa branca é válida residências e pequenos estabelecimentos comerciais e industriais, mas não se aplica a consumidores residenciais classificados como baixa renda, beneficiários de descontos previstos em legislação e a iluminação pública.\\nSegundo dados da Aneel, desde que entrou em vigência até outubro de 2019 (última informação disponível), 32,449 mil clientes em todo o País já aderiram à tarifa branca, com importante crescimento ao longo do ano passado. A Enel SP (antiga Eletropaulo) lidera o ranking, com 7,519 mil consumidores, seguido por CPFL Paulista (3,473 mil clientes), Light (2,753 mil clientes), Coelba (2,306 mil) e CPFL Piratininga (1,998 mil). Dos 32,449 mil consumidores que já aderiram, 25,021 mil (77%) são clientes residenciais.'"
      ]
     },
     "execution_count": 55,
     "metadata": {},
     "output_type": "execute_result"
    }
   ],
   "source": [
    "df['Conteúdo'][1]"
   ]
  },
  {
   "cell_type": "code",
   "execution_count": 52,
   "metadata": {},
   "outputs": [
    {
     "data": {
      "text/html": [
       "<div>\n",
       "<style scoped>\n",
       "    .dataframe tbody tr th:only-of-type {\n",
       "        vertical-align: middle;\n",
       "    }\n",
       "\n",
       "    .dataframe tbody tr th {\n",
       "        vertical-align: top;\n",
       "    }\n",
       "\n",
       "    .dataframe thead th {\n",
       "        text-align: right;\n",
       "    }\n",
       "</style>\n",
       "<table border=\"1\" class=\"dataframe\">\n",
       "  <thead>\n",
       "    <tr style=\"text-align: right;\">\n",
       "      <th></th>\n",
       "      <th>Título</th>\n",
       "      <th>Conteúdo</th>\n",
       "      <th>Clean Sentences</th>\n",
       "    </tr>\n",
       "  </thead>\n",
       "  <tbody>\n",
       "    <tr>\n",
       "      <th>0</th>\n",
       "      <td>Após frocar poste de energia elétrica abasteci...</td>\n",
       "      <td>Após frocar poste de energia elétrica abasteci...</td>\n",
       "      <td>apos frocar poste energia eletrica abastecimen...</td>\n",
       "    </tr>\n",
       "    <tr>\n",
       "      <th>1</th>\n",
       "      <td>Brasileiro pode pagar menos por energia elétrica</td>\n",
       "      <td>Desde ontem, todos os consumidores brasileiros...</td>\n",
       "      <td>desde ontem todos consumidores brasileiros ja ...</td>\n",
       "    </tr>\n",
       "    <tr>\n",
       "      <th>2</th>\n",
       "      <td>CPFL abre 28 vagas para curso de eletricista e...</td>\n",
       "      <td>A CPFL Paulista abriu 28 vagas para o curso gr...</td>\n",
       "      <td>cpfl paulista abriu vagas curso gratuito forma...</td>\n",
       "    </tr>\n",
       "    <tr>\n",
       "      <th>3</th>\n",
       "      <td>CPFL tem lucro líquido de R$ 904,126 milhões n...</td>\n",
       "      <td>A CPFL apurou lucro líquido de R$ 904,126 milh...</td>\n",
       "      <td>cpfl apurou lucro liquido milhoes primeiro tri...</td>\n",
       "    </tr>\n",
       "    <tr>\n",
       "      <th>4</th>\n",
       "      <td>Banco de preços de distribuição terá nova fase...</td>\n",
       "      <td>A Agência Nacional de Energia Elétrica vai abr...</td>\n",
       "      <td>agencia nacional energia eletrica vai abrir co...</td>\n",
       "    </tr>\n",
       "  </tbody>\n",
       "</table>\n",
       "</div>"
      ],
      "text/plain": [
       "                                              Título  \\\n",
       "0  Após frocar poste de energia elétrica abasteci...   \n",
       "1   Brasileiro pode pagar menos por energia elétrica   \n",
       "2  CPFL abre 28 vagas para curso de eletricista e...   \n",
       "3  CPFL tem lucro líquido de R$ 904,126 milhões n...   \n",
       "4  Banco de preços de distribuição terá nova fase...   \n",
       "\n",
       "                                            Conteúdo  \\\n",
       "0  Após frocar poste de energia elétrica abasteci...   \n",
       "1  Desde ontem, todos os consumidores brasileiros...   \n",
       "2  A CPFL Paulista abriu 28 vagas para o curso gr...   \n",
       "3  A CPFL apurou lucro líquido de R$ 904,126 milh...   \n",
       "4  A Agência Nacional de Energia Elétrica vai abr...   \n",
       "\n",
       "                                     Clean Sentences  \n",
       "0  apos frocar poste energia eletrica abastecimen...  \n",
       "1  desde ontem todos consumidores brasileiros ja ...  \n",
       "2  cpfl paulista abriu vagas curso gratuito forma...  \n",
       "3  cpfl apurou lucro liquido milhoes primeiro tri...  \n",
       "4  agencia nacional energia eletrica vai abrir co...  "
      ]
     },
     "execution_count": 52,
     "metadata": {},
     "output_type": "execute_result"
    }
   ],
   "source": [
    "df[['Título', 'Conteúdo', 'Clean Sentences']].head()"
   ]
  }
 ],
 "metadata": {
  "kernelspec": {
   "display_name": "Python 3",
   "language": "python",
   "name": "python3"
  },
  "language_info": {
   "codemirror_mode": {
    "name": "ipython",
    "version": 3
   },
   "file_extension": ".py",
   "mimetype": "text/x-python",
   "name": "python",
   "nbconvert_exporter": "python",
   "pygments_lexer": "ipython3",
   "version": "3.8.5"
  }
 },
 "nbformat": 4,
 "nbformat_minor": 5
}
