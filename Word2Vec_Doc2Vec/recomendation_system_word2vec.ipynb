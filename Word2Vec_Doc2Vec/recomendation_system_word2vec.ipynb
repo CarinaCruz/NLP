{
 "cells": [
  {
   "cell_type": "markdown",
   "metadata": {},
   "source": [
    "## <b>  Recomendation System using Word2Vec\n",
    "    \n",
    "    \n",
    "Word2vec is a technique of creating a Vector Representation (Embeddings) of Words. \n",
    "    \n",
    "Embeddings are word representations that can interpret word meaning and similarity. \n",
    "    \n",
    "> King – man +woman ~= Queen    \n",
    "    \n",
    "    "
   ]
  },
  {
   "cell_type": "markdown",
   "metadata": {},
   "source": [
    "[Reference](https://www.analyticsvidhya.com/blog/2019/07/how-to-build-recommendation-system-word2vec-python/)"
   ]
  },
  {
   "cell_type": "markdown",
   "metadata": {},
   "source": [
    "### <b> Setup "
   ]
  },
  {
   "cell_type": "code",
   "execution_count": 1,
   "metadata": {},
   "outputs": [],
   "source": [
    "import pandas as pd\n",
    "import tqdm\n",
    "import warnings\n",
    "warnings.filterwarnings('ignore')\n",
    "\n",
    "from sklearn.model_selection import train_test_split\n",
    "from gensim.models.word2vec import Word2Vec"
   ]
  },
  {
   "cell_type": "markdown",
   "metadata": {},
   "source": [
    "### <b> Data Loading\n"
   ]
  },
  {
   "cell_type": "code",
   "execution_count": 2,
   "metadata": {},
   "outputs": [
    {
     "data": {
      "text/html": [
       "<div>\n",
       "<style scoped>\n",
       "    .dataframe tbody tr th:only-of-type {\n",
       "        vertical-align: middle;\n",
       "    }\n",
       "\n",
       "    .dataframe tbody tr th {\n",
       "        vertical-align: top;\n",
       "    }\n",
       "\n",
       "    .dataframe thead th {\n",
       "        text-align: right;\n",
       "    }\n",
       "</style>\n",
       "<table border=\"1\" class=\"dataframe\">\n",
       "  <thead>\n",
       "    <tr style=\"text-align: right;\">\n",
       "      <th></th>\n",
       "      <th>InvoiceNo</th>\n",
       "      <th>StockCode</th>\n",
       "      <th>Description</th>\n",
       "      <th>Quantity</th>\n",
       "      <th>InvoiceDate</th>\n",
       "      <th>UnitPrice</th>\n",
       "      <th>CustomerID</th>\n",
       "      <th>Country</th>\n",
       "    </tr>\n",
       "  </thead>\n",
       "  <tbody>\n",
       "    <tr>\n",
       "      <th>368995</th>\n",
       "      <td>569007</td>\n",
       "      <td>20726</td>\n",
       "      <td>LUNCH BAG WOODLAND</td>\n",
       "      <td>10</td>\n",
       "      <td>2011-09-29 18:51:00</td>\n",
       "      <td>1.65</td>\n",
       "      <td>17552.0</td>\n",
       "      <td>United Kingdom</td>\n",
       "    </tr>\n",
       "    <tr>\n",
       "      <th>155132</th>\n",
       "      <td>549967</td>\n",
       "      <td>82582</td>\n",
       "      <td>AREA PATROLLED METAL SIGN</td>\n",
       "      <td>48</td>\n",
       "      <td>2011-04-13 14:21:00</td>\n",
       "      <td>2.10</td>\n",
       "      <td>17873.0</td>\n",
       "      <td>United Kingdom</td>\n",
       "    </tr>\n",
       "    <tr>\n",
       "      <th>389831</th>\n",
       "      <td>570488</td>\n",
       "      <td>22766</td>\n",
       "      <td>PHOTO FRAME CORNICE</td>\n",
       "      <td>1</td>\n",
       "      <td>2011-10-10 17:12:00</td>\n",
       "      <td>5.79</td>\n",
       "      <td>14096.0</td>\n",
       "      <td>United Kingdom</td>\n",
       "    </tr>\n",
       "    <tr>\n",
       "      <th>63732</th>\n",
       "      <td>541592</td>\n",
       "      <td>84913B</td>\n",
       "      <td>MINT GREEN ROSE TOWEL</td>\n",
       "      <td>1</td>\n",
       "      <td>2011-01-19 15:08:00</td>\n",
       "      <td>3.29</td>\n",
       "      <td>NaN</td>\n",
       "      <td>United Kingdom</td>\n",
       "    </tr>\n",
       "    <tr>\n",
       "      <th>127850</th>\n",
       "      <td>547248</td>\n",
       "      <td>22962</td>\n",
       "      <td>JAM JAR WITH PINK LID</td>\n",
       "      <td>2</td>\n",
       "      <td>2011-03-22 09:23:00</td>\n",
       "      <td>1.63</td>\n",
       "      <td>NaN</td>\n",
       "      <td>United Kingdom</td>\n",
       "    </tr>\n",
       "  </tbody>\n",
       "</table>\n",
       "</div>"
      ],
      "text/plain": [
       "       InvoiceNo StockCode                Description  Quantity  \\\n",
       "368995    569007     20726         LUNCH BAG WOODLAND        10   \n",
       "155132    549967     82582  AREA PATROLLED METAL SIGN        48   \n",
       "389831    570488     22766        PHOTO FRAME CORNICE         1   \n",
       "63732     541592    84913B      MINT GREEN ROSE TOWEL         1   \n",
       "127850    547248     22962      JAM JAR WITH PINK LID         2   \n",
       "\n",
       "               InvoiceDate  UnitPrice  CustomerID         Country  \n",
       "368995 2011-09-29 18:51:00       1.65     17552.0  United Kingdom  \n",
       "155132 2011-04-13 14:21:00       2.10     17873.0  United Kingdom  \n",
       "389831 2011-10-10 17:12:00       5.79     14096.0  United Kingdom  \n",
       "63732  2011-01-19 15:08:00       3.29         NaN  United Kingdom  \n",
       "127850 2011-03-22 09:23:00       1.63         NaN  United Kingdom  "
      ]
     },
     "execution_count": 2,
     "metadata": {},
     "output_type": "execute_result"
    }
   ],
   "source": [
    "df = pd.read_excel('../datasets/recomendations/Online Retail.xlsx')\n",
    "df.sample(5)"
   ]
  },
  {
   "cell_type": "markdown",
   "metadata": {},
   "source": [
    "### <b>  Data Processing\n"
   ]
  },
  {
   "cell_type": "code",
   "execution_count": 5,
   "metadata": {},
   "outputs": [],
   "source": [
    "df.dropna(inplace=True)"
   ]
  },
  {
   "cell_type": "code",
   "execution_count": 6,
   "metadata": {},
   "outputs": [
    {
     "data": {
      "text/plain": [
       "2387"
      ]
     },
     "execution_count": 6,
     "metadata": {},
     "output_type": "execute_result"
    }
   ],
   "source": [
    "'''\n",
    "    Number of unique custumers\n",
    "'''\n",
    "customers = df[\"CustomerID\"].unique().tolist()\n",
    "len(customers)\n"
   ]
  },
  {
   "cell_type": "code",
   "execution_count": 7,
   "metadata": {},
   "outputs": [],
   "source": [
    "'''\n",
    "    Convert StockCode type\n",
    "'''\n",
    "df['StockCode']= df['StockCode'].astype(str)"
   ]
  },
  {
   "cell_type": "code",
   "execution_count": 8,
   "metadata": {},
   "outputs": [
    {
     "data": {
      "text/plain": [
       "((6748, 8), (750, 8))"
      ]
     },
     "execution_count": 8,
     "metadata": {},
     "output_type": "execute_result"
    }
   ],
   "source": [
    "'''\n",
    "    Split data in trining and tesing\n",
    "'''\n",
    "train_df, valid_df = train_test_split(df, test_size=0.1)\n",
    "train_df.shape, valid_df.shape"
   ]
  },
  {
   "cell_type": "code",
   "execution_count": 9,
   "metadata": {},
   "outputs": [],
   "source": [
    "'''\n",
    "    Purchase history of the customers\n",
    "'''\n",
    "purchases_train = []\n",
    "purchases_valid = []\n",
    "\n",
    "# populate the list with the product codes\n",
    "for i in train_df['CustomerID']:\n",
    "    temp = train_df[train_df[\"CustomerID\"] == i][\"StockCode\"].tolist()\n",
    "    purchases_train.append(temp)\n",
    "    \n",
    "# populate the list with the product codes\n",
    "for i in valid_df['CustomerID']:\n",
    "    temp = valid_df[valid_df[\"CustomerID\"] == i][\"StockCode\"].tolist()\n",
    "    purchases_valid.append(temp)    "
   ]
  },
  {
   "cell_type": "markdown",
   "metadata": {},
   "source": [
    "### <b> Build word2vec Embeddings for Products\n"
   ]
  },
  {
   "cell_type": "code",
   "execution_count": 60,
   "metadata": {},
   "outputs": [
    {
     "data": {
      "text/plain": [
       "(764896, 796440)"
      ]
     },
     "execution_count": 60,
     "metadata": {},
     "output_type": "execute_result"
    }
   ],
   "source": [
    "'''\n",
    "    Word2Vec Model\n",
    "'''\n",
    "model = Word2Vec(window = 10, sg = 1, hs = 0,\n",
    "                 negative = 10, # for negative sampling\n",
    "                 alpha=0.03, min_alpha=0.02,\n",
    "                 seed = 14)\n",
    "\n",
    "\n",
    "model.build_vocab(purchases_train, progress_per=200)\n",
    "model.train(purchases_train, total_examples = model.corpus_count, epochs=10, report_delay=1)"
   ]
  },
  {
   "cell_type": "code",
   "execution_count": 61,
   "metadata": {},
   "outputs": [],
   "source": [
    "'''\n",
    "    Memory efficient\n",
    "'''\n",
    "model.init_sims(replace=True)"
   ]
  },
  {
   "cell_type": "code",
   "execution_count": 62,
   "metadata": {},
   "outputs": [
    {
     "name": "stdout",
     "output_type": "stream",
     "text": [
      "Word2Vec(vocab=1558, size=100, alpha=0.03)\n"
     ]
    }
   ],
   "source": [
    "print(model)"
   ]
  },
  {
   "cell_type": "code",
   "execution_count": 63,
   "metadata": {},
   "outputs": [
    {
     "data": {
      "text/plain": [
       "(1558, 100)"
      ]
     },
     "execution_count": 63,
     "metadata": {},
     "output_type": "execute_result"
    }
   ],
   "source": [
    "'''\n",
    "    Extract vectors\n",
    "'''\n",
    "X = model[model.wv.vocab]\n",
    "\n",
    "X.shape"
   ]
  },
  {
   "cell_type": "markdown",
   "metadata": {},
   "source": [
    "### <b> Visualize word2vec Embeddings"
   ]
  },
  {
   "cell_type": "code",
   "execution_count": 64,
   "metadata": {},
   "outputs": [
    {
     "data": {
      "image/png": "[encoded data removed]",
      "text/plain": [
       "<Figure size 720x648 with 1 Axes>"
      ]
     },
     "metadata": {
      "needs_background": "light"
     },
     "output_type": "display_data"
    }
   ],
   "source": [
    "import umap\n",
    "import matplotlib.pyplot as plt\n",
    "import seaborn as sea\n",
    "\n",
    "cluster_embedding = umap.UMAP(n_neighbors=30, min_dist=0.0,\n",
    "                              n_components=2, random_state=42).fit_transform(X)\n",
    "\n",
    "ax = plt.figure(figsize=(10,9))\n",
    "ax = plt.scatter(cluster_embedding[:, 0], cluster_embedding[:, 1], s=3)"
   ]
  },
  {
   "cell_type": "markdown",
   "metadata": {},
   "source": [
    "### <b>  Start Recommending Products\n"
   ]
  },
  {
   "cell_type": "code",
   "execution_count": 41,
   "metadata": {},
   "outputs": [],
   "source": [
    "products = train_df[[\"StockCode\", \"Description\"]]\n",
    "\n",
    "# remove duplicates\n",
    "products.drop_duplicates(inplace=True, subset='StockCode', keep=\"last\")\n",
    "\n",
    "# create product-ID and product-description dictionary\n",
    "products_dict = products.groupby('StockCode')['Description'].apply(list).to_dict()"
   ]
  },
  {
   "cell_type": "code",
   "execution_count": 69,
   "metadata": {},
   "outputs": [
    {
     "data": {
      "text/plain": [
       "('15056BL', ['EDWARDIAN PARASOL BLACK'])"
      ]
     },
     "execution_count": 69,
     "metadata": {},
     "output_type": "execute_result"
    }
   ],
   "source": [
    "list(products_dict.items())[0:10][8]"
   ]
  },
  {
   "cell_type": "code",
   "execution_count": 77,
   "metadata": {},
   "outputs": [],
   "source": [
    "def similar_products(v, n = 6):\n",
    "    \n",
    "    # extract most similar products for the input vector\n",
    "    ms = model.similar_by_vector(v, topn= n+1)[1:]\n",
    "    \n",
    "    # extract name and similarity score of the similar products\n",
    "    new_ms = []\n",
    "    for j in ms:\n",
    "        pair = (products_dict[j[0]][0], j[1])\n",
    "        new_ms.append(pair)\n",
    "        \n",
    "    return new_ms    "
   ]
  },
  {
   "cell_type": "markdown",
   "metadata": {},
   "source": [
    "### <b> Define Similar products based on One Product"
   ]
  },
  {
   "cell_type": "code",
   "execution_count": 79,
   "metadata": {},
   "outputs": [
    {
     "name": "stdout",
     "output_type": "stream",
     "text": [
      "Original Product Description  ('15056BL', ['EDWARDIAN PARASOL BLACK'])\n"
     ]
    },
    {
     "data": {
      "text/plain": [
       "[('DOORMAT RESPECTABLE HOUSE', 0.9457553625106812),\n",
       " ('PEARL CRYSTAL PUMPKIN T-LIGHT HLDR', 0.8337986469268799),\n",
       " ('EDWARDIAN PARASOL RED', 0.8291891813278198),\n",
       " ('DOORMAT UNION FLAG', 0.7719093561172485),\n",
       " ('PANTRY CHOPPING BOARD', 0.7049211263656616),\n",
       " ('BLACK CHAMPAGNE GLASS', 0.6985478401184082)]"
      ]
     },
     "execution_count": 79,
     "metadata": {},
     "output_type": "execute_result"
    }
   ],
   "source": [
    "print('Original Product Description ', list(products_dict.items())[0:10][8])\n",
    "similar_products(model['15056BL'])"
   ]
  },
  {
   "cell_type": "markdown",
   "metadata": {},
   "source": [
    "### <b> Define Similar products based on a list of Product"
   ]
  },
  {
   "cell_type": "code",
   "execution_count": 81,
   "metadata": {},
   "outputs": [],
   "source": [
    "import numpy as np\n",
    "\n",
    "def aggregate_vectors(products):\n",
    "    product_vec = []\n",
    "    for i in products:\n",
    "        try:\n",
    "            product_vec.append(model[i])\n",
    "        except KeyError:\n",
    "            continue\n",
    "        \n",
    "    return np.mean(product_vec, axis=0)"
   ]
  },
  {
   "cell_type": "code",
   "execution_count": 101,
   "metadata": {},
   "outputs": [
    {
     "data": {
      "text/plain": [
       "100"
      ]
     },
     "execution_count": 101,
     "metadata": {},
     "output_type": "execute_result"
    }
   ],
   "source": [
    "# list of purchases of some client\n",
    "word2vec_embeddings_for_product_list = aggregate_vectors(purchases_valid[4])\n",
    "\n",
    "len(word2vec_embeddings_for_product_list)"
   ]
  },
  {
   "cell_type": "code",
   "execution_count": 103,
   "metadata": {},
   "outputs": [
    {
     "data": {
      "text/plain": [
       "[('JOY WOODEN BLOCK LETTERS', 0.7569479942321777),\n",
       " ('BLUE FLY SWAT', 0.7454599142074585),\n",
       " ('HANGING FAIRY CAKE DECORATION', 0.7290682792663574),\n",
       " ('LUNCH BOX WITH CUTLERY FAIRY CAKES ', 0.7287424802780151),\n",
       " ('POLYESTER FILLER PAD 40x40cm', 0.7122691869735718),\n",
       " ('BLUE NEW BAROQUE CANDLESTICK CANDLE', 0.7092483639717102)]"
      ]
     },
     "execution_count": 103,
     "metadata": {},
     "output_type": "execute_result"
    }
   ],
   "source": [
    "similar_products(word2vec_embeddings_for_product_list)"
   ]
  },
  {
   "cell_type": "markdown",
   "metadata": {},
   "source": [
    "### <b> Define Similar products based on a list of Product from Some Client"
   ]
  },
  {
   "cell_type": "code",
   "execution_count": 158,
   "metadata": {},
   "outputs": [
    {
     "data": {
      "text/html": [
       "<div>\n",
       "<style scoped>\n",
       "    .dataframe tbody tr th:only-of-type {\n",
       "        vertical-align: middle;\n",
       "    }\n",
       "\n",
       "    .dataframe tbody tr th {\n",
       "        vertical-align: top;\n",
       "    }\n",
       "\n",
       "    .dataframe thead th {\n",
       "        text-align: right;\n",
       "    }\n",
       "</style>\n",
       "<table border=\"1\" class=\"dataframe\">\n",
       "  <thead>\n",
       "    <tr style=\"text-align: right;\">\n",
       "      <th></th>\n",
       "      <th>StockCode</th>\n",
       "      <th>Description</th>\n",
       "    </tr>\n",
       "  </thead>\n",
       "  <tbody>\n",
       "    <tr>\n",
       "      <th>326382</th>\n",
       "      <td>22380</td>\n",
       "      <td>TOY TIDY SPACEBOY</td>\n",
       "    </tr>\n",
       "    <tr>\n",
       "      <th>135705</th>\n",
       "      <td>22250</td>\n",
       "      <td>DECORATION  BUTTERFLY  MAGIC GARDEN</td>\n",
       "    </tr>\n",
       "    <tr>\n",
       "      <th>213885</th>\n",
       "      <td>82581</td>\n",
       "      <td>TOILET METAL SIGN</td>\n",
       "    </tr>\n",
       "    <tr>\n",
       "      <th>326445</th>\n",
       "      <td>23185</td>\n",
       "      <td>FRENCH STYLE STORAGE JAR JAM</td>\n",
       "    </tr>\n",
       "    <tr>\n",
       "      <th>483451</th>\n",
       "      <td>22356</td>\n",
       "      <td>CHARLOTTE BAG PINK POLKADOT</td>\n",
       "    </tr>\n",
       "    <tr>\n",
       "      <th>25585</th>\n",
       "      <td>22662</td>\n",
       "      <td>LUNCH BAG DOLLY GIRL DESIGN</td>\n",
       "    </tr>\n",
       "  </tbody>\n",
       "</table>\n",
       "</div>"
      ],
      "text/plain": [
       "       StockCode                          Description\n",
       "326382     22380                  TOY TIDY SPACEBOY  \n",
       "135705     22250  DECORATION  BUTTERFLY  MAGIC GARDEN\n",
       "213885     82581                    TOILET METAL SIGN\n",
       "326445     23185         FRENCH STYLE STORAGE JAR JAM\n",
       "483451     22356          CHARLOTTE BAG PINK POLKADOT\n",
       "25585      22662          LUNCH BAG DOLLY GIRL DESIGN"
      ]
     },
     "execution_count": 158,
     "metadata": {},
     "output_type": "execute_result"
    }
   ],
   "source": [
    "valid_df[valid_df['CustomerID'] == 14159.0][['StockCode', 'Description']]"
   ]
  },
  {
   "cell_type": "code",
   "execution_count": 159,
   "metadata": {},
   "outputs": [
    {
     "data": {
      "text/plain": [
       "[('CHILDS GARDEN SPADE PINK', 0.7712762951850891),\n",
       " ('NATURAL SLATE CHALKBOARD LARGE ', 0.753030002117157),\n",
       " ('AIRLINE LOUNGE,METAL SIGN', 0.7495642900466919),\n",
       " ('BLUE FLY SWAT', 0.7287620306015015),\n",
       " ('OVERNIGHT BAG VINTAGE ROSE PAISLEY', 0.7147253155708313),\n",
       " ('CHICK GREY HOT WATER BOTTLE', 0.6941677331924438)]"
      ]
     },
     "execution_count": 159,
     "metadata": {},
     "output_type": "execute_result"
    }
   ],
   "source": [
    "items = list(valid_df[valid_df['CustomerID'] == 14159.0][['StockCode', 'Description']]['StockCode'].values)\n",
    "word2vec_embeddings_for_product_list = aggregate_vectors(items)\n",
    "similar_products(word2vec_embeddings_for_product_list)"
   ]
  },
  {
   "cell_type": "code",
   "execution_count": 161,
   "metadata": {},
   "outputs": [
    {
     "data": {
      "text/html": [
       "<div>\n",
       "<style scoped>\n",
       "    .dataframe tbody tr th:only-of-type {\n",
       "        vertical-align: middle;\n",
       "    }\n",
       "\n",
       "    .dataframe tbody tr th {\n",
       "        vertical-align: top;\n",
       "    }\n",
       "\n",
       "    .dataframe thead th {\n",
       "        text-align: right;\n",
       "    }\n",
       "</style>\n",
       "<table border=\"1\" class=\"dataframe\">\n",
       "  <thead>\n",
       "    <tr style=\"text-align: right;\">\n",
       "      <th></th>\n",
       "      <th>StockCode</th>\n",
       "      <th>Description</th>\n",
       "    </tr>\n",
       "  </thead>\n",
       "  <tbody>\n",
       "    <tr>\n",
       "      <th>365668</th>\n",
       "      <td>23212</td>\n",
       "      <td>HEART WREATH DECORATION WITH BELL</td>\n",
       "    </tr>\n",
       "    <tr>\n",
       "      <th>356308</th>\n",
       "      <td>20750</td>\n",
       "      <td>RED RETROSPOT MINI CASES</td>\n",
       "    </tr>\n",
       "    <tr>\n",
       "      <th>451904</th>\n",
       "      <td>21916</td>\n",
       "      <td>SET 12 RETRO WHITE CHALK STICKS</td>\n",
       "    </tr>\n",
       "    <tr>\n",
       "      <th>419953</th>\n",
       "      <td>22428</td>\n",
       "      <td>ENAMEL FIRE BUCKET CREAM</td>\n",
       "    </tr>\n",
       "    <tr>\n",
       "      <th>42783</th>\n",
       "      <td>84997C</td>\n",
       "      <td>BLUE 3 PIECE POLKADOT CUTLERY SET</td>\n",
       "    </tr>\n",
       "    <tr>\n",
       "      <th>192130</th>\n",
       "      <td>22722</td>\n",
       "      <td>SET OF 6 SPICE TINS PANTRY DESIGN</td>\n",
       "    </tr>\n",
       "    <tr>\n",
       "      <th>424212</th>\n",
       "      <td>23403</td>\n",
       "      <td>LETTER HOLDER HOME SWEET HOME</td>\n",
       "    </tr>\n",
       "    <tr>\n",
       "      <th>221385</th>\n",
       "      <td>22379</td>\n",
       "      <td>RECYCLING BAG RETROSPOT</td>\n",
       "    </tr>\n",
       "    <tr>\n",
       "      <th>328333</th>\n",
       "      <td>21172</td>\n",
       "      <td>PARTY METAL SIGN</td>\n",
       "    </tr>\n",
       "    <tr>\n",
       "      <th>537672</th>\n",
       "      <td>23194</td>\n",
       "      <td>GYMKHANA TREASURE BOOK BOX</td>\n",
       "    </tr>\n",
       "    <tr>\n",
       "      <th>252160</th>\n",
       "      <td>21439</td>\n",
       "      <td>BASKET OF TOADSTOOLS</td>\n",
       "    </tr>\n",
       "    <tr>\n",
       "      <th>235364</th>\n",
       "      <td>84912B</td>\n",
       "      <td>GREEN ROSE WASHBAG</td>\n",
       "    </tr>\n",
       "    <tr>\n",
       "      <th>300921</th>\n",
       "      <td>22760</td>\n",
       "      <td>TRAY, BREAKFAST IN BED</td>\n",
       "    </tr>\n",
       "    <tr>\n",
       "      <th>22336</th>\n",
       "      <td>22753</td>\n",
       "      <td>SMALL YELLOW BABUSHKA NOTEBOOK</td>\n",
       "    </tr>\n",
       "    <tr>\n",
       "      <th>221425</th>\n",
       "      <td>23203</td>\n",
       "      <td>JUMBO BAG DOILEY PATTERNS</td>\n",
       "    </tr>\n",
       "    <tr>\n",
       "      <th>22314</th>\n",
       "      <td>21479</td>\n",
       "      <td>WHITE SKULL HOT WATER BOTTLE</td>\n",
       "    </tr>\n",
       "    <tr>\n",
       "      <th>252154</th>\n",
       "      <td>23206</td>\n",
       "      <td>LUNCH BAG APPLE DESIGN</td>\n",
       "    </tr>\n",
       "    <tr>\n",
       "      <th>321215</th>\n",
       "      <td>22992</td>\n",
       "      <td>REVOLVER WOODEN RULER</td>\n",
       "    </tr>\n",
       "    <tr>\n",
       "      <th>348852</th>\n",
       "      <td>22424</td>\n",
       "      <td>ENAMEL BREAD BIN CREAM</td>\n",
       "    </tr>\n",
       "  </tbody>\n",
       "</table>\n",
       "</div>"
      ],
      "text/plain": [
       "       StockCode                        Description\n",
       "365668     23212  HEART WREATH DECORATION WITH BELL\n",
       "356308     20750           RED RETROSPOT MINI CASES\n",
       "451904     21916    SET 12 RETRO WHITE CHALK STICKS\n",
       "419953     22428           ENAMEL FIRE BUCKET CREAM\n",
       "42783     84997C  BLUE 3 PIECE POLKADOT CUTLERY SET\n",
       "192130     22722  SET OF 6 SPICE TINS PANTRY DESIGN\n",
       "424212     23403      LETTER HOLDER HOME SWEET HOME\n",
       "221385     22379           RECYCLING BAG RETROSPOT \n",
       "328333     21172                  PARTY METAL SIGN \n",
       "537672     23194         GYMKHANA TREASURE BOOK BOX\n",
       "252160     21439               BASKET OF TOADSTOOLS\n",
       "235364    84912B                 GREEN ROSE WASHBAG\n",
       "300921     22760             TRAY, BREAKFAST IN BED\n",
       "22336      22753    SMALL YELLOW BABUSHKA NOTEBOOK \n",
       "221425     23203          JUMBO BAG DOILEY PATTERNS\n",
       "22314      21479      WHITE SKULL HOT WATER BOTTLE \n",
       "252154     23206             LUNCH BAG APPLE DESIGN\n",
       "321215     22992             REVOLVER WOODEN RULER \n",
       "348852     22424             ENAMEL BREAD BIN CREAM"
      ]
     },
     "execution_count": 161,
     "metadata": {},
     "output_type": "execute_result"
    }
   ],
   "source": [
    "valid_df[valid_df['CustomerID'] == 17841.0][['StockCode', 'Description']]"
   ]
  },
  {
   "cell_type": "code",
   "execution_count": 162,
   "metadata": {},
   "outputs": [
    {
     "data": {
      "text/plain": [
       "[('TOXIC AREA  DOOR HANGER ', 0.7542200684547424),\n",
       " ('JOY WOODEN BLOCK LETTERS', 0.7530370354652405),\n",
       " ('PETIT TRAY CHIC', 0.749906063079834),\n",
       " ('HANGING FAIRY CAKE DECORATION', 0.7493730783462524),\n",
       " ('STRAWBERRY SHOPPER BAG', 0.735779881477356),\n",
       " ('WHITE HANGING BEADS CANDLE HOLDER', 0.7286043167114258)]"
      ]
     },
     "execution_count": 162,
     "metadata": {},
     "output_type": "execute_result"
    }
   ],
   "source": [
    "items = list(valid_df[valid_df['CustomerID'] == 17841.0][['StockCode', 'Description']]['StockCode'].values)\n",
    "word2vec_embeddings_for_product_list = aggregate_vectors(items)\n",
    "similar_products(word2vec_embeddings_for_product_list)"
   ]
  }
 ],
 "metadata": {
  "kernelspec": {
   "display_name": "Python 3",
   "language": "python",
   "name": "python3"
  },
  "language_info": {
   "codemirror_mode": {
    "name": "ipython",
    "version": 3
   },
   "file_extension": ".py",
   "mimetype": "text/x-python",
   "name": "python",
   "nbconvert_exporter": "python",
   "pygments_lexer": "ipython3",
   "version": "3.8.5"
  }
 },
 "nbformat": 4,
 "nbformat_minor": 4
}
