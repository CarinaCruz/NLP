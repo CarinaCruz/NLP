{
 "cells": [
  {
   "cell_type": "markdown",
   "metadata": {},
   "source": [
    "# Encoding sentences using Google BERT"
   ]
  },
  {
   "cell_type": "markdown",
   "metadata": {},
   "source": [
    "### Setup"
   ]
  },
  {
   "cell_type": "code",
   "execution_count": 1,
   "metadata": {},
   "outputs": [
    {
     "name": "stderr",
     "output_type": "stream",
     "text": [
      "/home/carina/anaconda3/envs/mbert_env/lib/python3.9/site-packages/tqdm/auto.py:21: TqdmWarning: IProgress not found. Please update jupyter and ipywidgets. See https://ipywidgets.readthedocs.io/en/stable/user_install.html\n",
      "  from .autonotebook import tqdm as notebook_tqdm\n"
     ]
    },
    {
     "name": "stdout",
     "output_type": "stream",
     "text": [
      "cuda\n"
     ]
    }
   ],
   "source": [
    "import sys\n",
    "sys.path.append('../')\n",
    "from src.embeddings import BertEncoding\n",
    "from sklearn.metrics.pairwise import cosine_similarity\n",
    "import pandas as pd\n",
    "from tqdm import tqdm\n",
    "import torch\n",
    "\n",
    "# Libraries options\n",
    "tqdm.pandas()\n",
    "pd.options.display.max_rows = 999\n",
    "pd.set_option('max_colwidth', 1000)\n",
    "device = torch.device(\"cuda\" if torch.cuda.is_available() else \"cpu\")\n",
    "print(device)"
   ]
  },
  {
   "cell_type": "markdown",
   "metadata": {},
   "source": [
    "### Data Acess"
   ]
  },
  {
   "cell_type": "code",
   "execution_count": 2,
   "metadata": {},
   "outputs": [
    {
     "data": {
      "text/plain": [
       "5070"
      ]
     },
     "execution_count": 2,
     "metadata": {},
     "output_type": "execute_result"
    }
   ],
   "source": [
    "# lendo o dado processado no notebook Datasets/data_treatment.ipynb\n",
    "dataframe = pd.read_parquet('../Datasets/pre_processed_dataframes/clean_df.parquet')\n",
    "len(dataframe)"
   ]
  },
  {
   "cell_type": "code",
   "execution_count": 3,
   "metadata": {},
   "outputs": [
    {
     "data": {
      "text/html": [
       "<div>\n",
       "<style scoped>\n",
       "    .dataframe tbody tr th:only-of-type {\n",
       "        vertical-align: middle;\n",
       "    }\n",
       "\n",
       "    .dataframe tbody tr th {\n",
       "        vertical-align: top;\n",
       "    }\n",
       "\n",
       "    .dataframe thead th {\n",
       "        text-align: right;\n",
       "    }\n",
       "</style>\n",
       "<table border=\"1\" class=\"dataframe\">\n",
       "  <thead>\n",
       "    <tr style=\"text-align: right;\">\n",
       "      <th></th>\n",
       "      <th>description</th>\n",
       "      <th>cleaned_description</th>\n",
       "    </tr>\n",
       "  </thead>\n",
       "  <tbody>\n",
       "    <tr>\n",
       "      <th>5021</th>\n",
       "      <td>EXCLUSIVE: As the Santa Fe Sheriff’s Office continues their investigation of the fatal shooting of cinematographer Halyna Hutchins on October 21, which also injured director Joel Souza, on the set of the Alec Baldwin movie Rust, new claims and details are emerging of first assistant director, David Halls – including a 2019 complaint against him. […]</td>\n",
       "      <td>exclusive santa fe sheriffs office continues investigation fatal shooting cinematographer halyna hutchins october also injured director joel souza set alec baldwin movie rust new claims details emerging first assistant director david halls including complaint</td>\n",
       "    </tr>\n",
       "  </tbody>\n",
       "</table>\n",
       "</div>"
      ],
      "text/plain": [
       "                                                                                                                                                                                                                                                                                                                                                          description  \\\n",
       "5021  EXCLUSIVE: As the Santa Fe Sheriff’s Office continues their investigation of the fatal shooting of cinematographer Halyna Hutchins on October 21, which also injured director Joel Souza, on the set of the Alec Baldwin movie Rust, new claims and details are emerging of first assistant director, David Halls – including a 2019 complaint against him. […]   \n",
       "\n",
       "                                                                                                                                                                                                                                                      cleaned_description  \n",
       "5021  exclusive santa fe sheriffs office continues investigation fatal shooting cinematographer halyna hutchins october also injured director joel souza set alec baldwin movie rust new claims details emerging first assistant director david halls including complaint  "
      ]
     },
     "execution_count": 3,
     "metadata": {},
     "output_type": "execute_result"
    }
   ],
   "source": [
    "dataframe[['description', 'cleaned_description']].sample()"
   ]
  },
  {
   "cell_type": "code",
   "execution_count": 4,
   "metadata": {},
   "outputs": [
    {
     "data": {
      "text/html": [
       "<div>\n",
       "<style scoped>\n",
       "    .dataframe tbody tr th:only-of-type {\n",
       "        vertical-align: middle;\n",
       "    }\n",
       "\n",
       "    .dataframe tbody tr th {\n",
       "        vertical-align: top;\n",
       "    }\n",
       "\n",
       "    .dataframe thead th {\n",
       "        text-align: right;\n",
       "    }\n",
       "</style>\n",
       "<table border=\"1\" class=\"dataframe\">\n",
       "  <thead>\n",
       "    <tr style=\"text-align: right;\">\n",
       "      <th></th>\n",
       "      <th>full_description</th>\n",
       "      <th>cleaned_full_description</th>\n",
       "    </tr>\n",
       "  </thead>\n",
       "  <tbody>\n",
       "    <tr>\n",
       "      <th>1483</th>\n",
       "      <td>(Teleborsa) – “La nostra intesa per lo smart working , in partnership con le associazioni sindacali, rappresenta un accordo importante e innovativo, che introduce un nuovo modo di lavorare e un modello culturale basato su fiducia e responsabilità”. Lo ha dichiarato Rossella Gangi , Direttrice Human Resources di WINDTRE , azienda guidata da Jeffrey Hedberg. “L’accordo, ha ricordato la manager, ridefinisce il lavoro da remoto in ottica post-emergenziale e lo caratterizza con un elevato livello di flessibilità . L’impostazione adottata da WINDTRE, infatti, lascia al singolo dipendente la libertà di scelta sulla modalità di lavoro, smart o in ufficio, in base alle esigenze personali e professionali. Tra i punti di forza del nostro modello – ricorda la Direttrice HR – la creazione della ‘We-etiquette’ , una carta dei buoni comportamenti per collaborare al meglio anche a distanza, e la grande attenzione riservata alla formazione attraverso programmi di Learning &amp; Development. Iniziative ...</td>\n",
       "      <td>teleborsa intesa smart working partnership associazioni sindacali rappresenta accordo importante innovativo introduce nuovo modo lavorare modello culturale basato fiducia responsabilit dichiarato rossella gangi direttrice human resources windtre azienda guidata jeffrey hedberg laccordo ricordato manager ridefinisce lavoro remoto ottica postemergenziale caratterizza elevato livello flessibilit limpostazione adottata windtre infatti lascia singolo dipendente libert scelta modalit lavoro smart ufficio base esigenze personali professionali punti forza modello ricorda direttrice hr creazione weetiquette carta buoni comportamenti collaborare meglio distanza grande attenzione riservata formazione attraverso programmi learning development iniziative mirate fornire persone windtre strumenti adeguati affrontare cambiamento mondo lavoro accrescere competenze digitali modello smart working conclude rossella gangi oltre essere accolto grande soddisfazione dipendenti ricevuto importanti riconosc...</td>\n",
       "    </tr>\n",
       "  </tbody>\n",
       "</table>\n",
       "</div>"
      ],
      "text/plain": [
       "                                                                                                                                                                                                                                                                                                                                                                                                                                                                                                                                                                                                                                                                                                                                                                                                                                                                                                                                                                                                                             full_description  \\\n",
       "1483  (Teleborsa) – “La nostra intesa per lo smart working , in partnership con le associazioni sindacali, rappresenta un accordo importante e innovativo, che introduce un nuovo modo di lavorare e un modello culturale basato su fiducia e responsabilità”. Lo ha dichiarato Rossella Gangi , Direttrice Human Resources di WINDTRE , azienda guidata da Jeffrey Hedberg. “L’accordo, ha ricordato la manager, ridefinisce il lavoro da remoto in ottica post-emergenziale e lo caratterizza con un elevato livello di flessibilità . L’impostazione adottata da WINDTRE, infatti, lascia al singolo dipendente la libertà di scelta sulla modalità di lavoro, smart o in ufficio, in base alle esigenze personali e professionali. Tra i punti di forza del nostro modello – ricorda la Direttrice HR – la creazione della ‘We-etiquette’ , una carta dei buoni comportamenti per collaborare al meglio anche a distanza, e la grande attenzione riservata alla formazione attraverso programmi di Learning & Development. Iniziative ...   \n",
       "\n",
       "                                                                                                                                                                                                                                                                                                                                                                                                                                                                                                                                                                                                                                                                                                                                                                                                                                                                                                                                                                                                                     cleaned_full_description  \n",
       "1483  teleborsa intesa smart working partnership associazioni sindacali rappresenta accordo importante innovativo introduce nuovo modo lavorare modello culturale basato fiducia responsabilit dichiarato rossella gangi direttrice human resources windtre azienda guidata jeffrey hedberg laccordo ricordato manager ridefinisce lavoro remoto ottica postemergenziale caratterizza elevato livello flessibilit limpostazione adottata windtre infatti lascia singolo dipendente libert scelta modalit lavoro smart ufficio base esigenze personali professionali punti forza modello ricorda direttrice hr creazione weetiquette carta buoni comportamenti collaborare meglio distanza grande attenzione riservata formazione attraverso programmi learning development iniziative mirate fornire persone windtre strumenti adeguati affrontare cambiamento mondo lavoro accrescere competenze digitali modello smart working conclude rossella gangi oltre essere accolto grande soddisfazione dipendenti ricevuto importanti riconosc...  "
      ]
     },
     "execution_count": 4,
     "metadata": {},
     "output_type": "execute_result"
    }
   ],
   "source": [
    "dataframe[['full_description', 'cleaned_full_description']].sample()\n"
   ]
  },
  {
   "cell_type": "markdown",
   "metadata": {},
   "source": [
    "### Encoding Data"
   ]
  },
  {
   "cell_type": "code",
   "execution_count": 5,
   "metadata": {},
   "outputs": [],
   "source": [
    "bert = BertEncoding(device=device)"
   ]
  },
  {
   "cell_type": "code",
   "execution_count": null,
   "metadata": {},
   "outputs": [],
   "source": [
    "embeddings_1 = bert.encode('trabalhando com codificação e similaridade de texto')\n",
    "embeddings_2 = bert.encode('working on coding and text similarity')\n",
    "\n",
    "cosine_similarity([embeddings_1], [embeddings_2])[0][0]"
   ]
  },
  {
   "cell_type": "code",
   "execution_count": 7,
   "metadata": {},
   "outputs": [
    {
     "name": "stderr",
     "output_type": "stream",
     "text": [
      "100%|██████████| 5070/5070 [03:32<00:00, 23.89it/s]\n"
     ]
    }
   ],
   "source": [
    "dataframe['embeddings_description'] = dataframe['cleaned_description'].progress_apply(bert.encode)"
   ]
  },
  {
   "cell_type": "code",
   "execution_count": 8,
   "metadata": {},
   "outputs": [
    {
     "name": "stderr",
     "output_type": "stream",
     "text": [
      "100%|██████████| 5070/5070 [23:53<00:00,  3.54it/s] \n"
     ]
    }
   ],
   "source": [
    "dataframe['embeddings_full_description'] = dataframe['cleaned_full_description'].progress_apply(bert.encode)"
   ]
  },
  {
   "cell_type": "code",
   "execution_count": 11,
   "metadata": {},
   "outputs": [
    {
     "data": {
      "text/html": [
       "<div>\n",
       "<style scoped>\n",
       "    .dataframe tbody tr th:only-of-type {\n",
       "        vertical-align: middle;\n",
       "    }\n",
       "\n",
       "    .dataframe tbody tr th {\n",
       "        vertical-align: top;\n",
       "    }\n",
       "\n",
       "    .dataframe thead th {\n",
       "        text-align: right;\n",
       "    }\n",
       "</style>\n",
       "<table border=\"1\" class=\"dataframe\">\n",
       "  <thead>\n",
       "    <tr style=\"text-align: right;\">\n",
       "      <th></th>\n",
       "      <th>embeddings_description</th>\n",
       "      <th>cleaned_description</th>\n",
       "    </tr>\n",
       "  </thead>\n",
       "  <tbody>\n",
       "    <tr>\n",
       "      <th>3335</th>\n",
       "      <td>[0.12129478, 0.017495077, 0.13084859, 0.1385743, 0.20463625, 0.35059196, 0.14564255, -0.02975083, -0.09653957, 0.20360485, -0.16861236, -0.17020656, 0.22392271, -0.13363275, -0.18964843, 0.07130557, 0.10810741, 0.0735891, 0.18609786, 0.12309707, -0.062111773, -0.071568795, 0.053872, 0.043881014, 0.2449765, -0.11949419, 0.21694256, 0.118634656, 0.20315917, 0.26103145, 0.20579271, 0.21130861, 0.21956089, -0.086608715, 0.17354763, -0.03406146, 0.021359544, 0.11826823, 0.21701092, 0.045650426, 0.09293463, 0.3071541, 0.12200438, -0.079055, -0.26207194, 0.14071688, -0.16075563, -0.030006187, 0.99998134, 0.15233167, 0.07091681, -0.035701122, 0.07090309, -0.24892995, 0.23342583, 0.9999866, -0.3036685, -0.20367947, 0.042285264, -0.088647835, -0.18418156, 0.060812943, 0.26140308, 0.12317315, -0.07645892, 0.071928024, -0.071786776, 0.3017361, 0.06598939, 0.10719946, 0.10001891, -0.0671344, 0.19548897, 0.25544488, -0.099987336, 0.038017686, -0.13127266, -0.123172574, -0.1548261, 0.1698511, 0.1...</td>\n",
       "      <td>sils radiqus rapidement durablement termites peuvent provoquer gros dgts</td>\n",
       "    </tr>\n",
       "  </tbody>\n",
       "</table>\n",
       "</div>"
      ],
      "text/plain": [
       "                                                                                                                                                                                                                                                                                                                                                                                                                                                                                                                                                                                                                                                                                                                                                                                                                                                                                                                                                                                                                       embeddings_description  \\\n",
       "3335  [0.12129478, 0.017495077, 0.13084859, 0.1385743, 0.20463625, 0.35059196, 0.14564255, -0.02975083, -0.09653957, 0.20360485, -0.16861236, -0.17020656, 0.22392271, -0.13363275, -0.18964843, 0.07130557, 0.10810741, 0.0735891, 0.18609786, 0.12309707, -0.062111773, -0.071568795, 0.053872, 0.043881014, 0.2449765, -0.11949419, 0.21694256, 0.118634656, 0.20315917, 0.26103145, 0.20579271, 0.21130861, 0.21956089, -0.086608715, 0.17354763, -0.03406146, 0.021359544, 0.11826823, 0.21701092, 0.045650426, 0.09293463, 0.3071541, 0.12200438, -0.079055, -0.26207194, 0.14071688, -0.16075563, -0.030006187, 0.99998134, 0.15233167, 0.07091681, -0.035701122, 0.07090309, -0.24892995, 0.23342583, 0.9999866, -0.3036685, -0.20367947, 0.042285264, -0.088647835, -0.18418156, 0.060812943, 0.26140308, 0.12317315, -0.07645892, 0.071928024, -0.071786776, 0.3017361, 0.06598939, 0.10719946, 0.10001891, -0.0671344, 0.19548897, 0.25544488, -0.099987336, 0.038017686, -0.13127266, -0.123172574, -0.1548261, 0.1698511, 0.1...   \n",
       "\n",
       "                                                           cleaned_description  \n",
       "3335  sils radiqus rapidement durablement termites peuvent provoquer gros dgts  "
      ]
     },
     "execution_count": 11,
     "metadata": {},
     "output_type": "execute_result"
    }
   ],
   "source": [
    "dataframe[['embeddings_description', 'cleaned_description']].sample()"
   ]
  },
  {
   "cell_type": "markdown",
   "metadata": {},
   "source": [
    "#### Save Processed Dataframe"
   ]
  },
  {
   "cell_type": "code",
   "execution_count": 12,
   "metadata": {},
   "outputs": [],
   "source": [
    "dataframe.to_parquet('../Datasets/pre_processed_dataframes/embeddings_df.parquet', index=False)"
   ]
  }
 ],
 "metadata": {
  "kernelspec": {
   "display_name": "nlp_env",
   "language": "python",
   "name": "python3"
  },
  "language_info": {
   "codemirror_mode": {
    "name": "ipython",
    "version": 3
   },
   "file_extension": ".py",
   "mimetype": "text/x-python",
   "name": "python",
   "nbconvert_exporter": "python",
   "pygments_lexer": "ipython3",
   "version": "3.8.16"
  }
 },
 "nbformat": 4,
 "nbformat_minor": 2
}
