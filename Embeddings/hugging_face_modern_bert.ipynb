{
 "cells": [
  {
   "cell_type": "markdown",
   "metadata": {},
   "source": [
    "# Encoding sentences using Modern BERT"
   ]
  },
  {
   "cell_type": "markdown",
   "metadata": {},
   "source": [
    "### Setup"
   ]
  },
  {
   "cell_type": "code",
   "execution_count": 1,
   "metadata": {},
   "outputs": [],
   "source": [
    "#!pip install transformers==4.48.0\n",
    "#!pip install numpy==1.24.1"
   ]
  },
  {
   "cell_type": "code",
   "execution_count": 17,
   "metadata": {},
   "outputs": [
    {
     "name": "stdout",
     "output_type": "stream",
     "text": [
      "cuda\n"
     ]
    }
   ],
   "source": [
    "import sys\n",
    "sys.path.append('../')\n",
    "import numpy as np\n",
    "import pandas as pd\n",
    "import torch\n",
    "from functools import partial\n",
    "import gc\n",
    "import os\n",
    "from datasets import load_dataset\n",
    "from src.embeddings import ModernBertEncoding\n",
    "from sklearn.metrics import f1_score\n",
    "from tqdm import tqdm\n",
    "from transformers import AutoTokenizer, ModernBertModel\n",
    "from sklearn.metrics.pairwise import cosine_similarity\n",
    "os.environ[\"TOKENIZERS_PARALLELISM\"] = \"false\"\n",
    "\n",
    "# Libraries options\n",
    "tqdm.pandas()\n",
    "pd.options.display.max_rows = 999\n",
    "pd.set_option('max_colwidth', 1000)\n",
    "device = torch.device(\"cuda\" if torch.cuda.is_available() else \"cpu\")\n",
    "print(device)"
   ]
  },
  {
   "cell_type": "markdown",
   "metadata": {},
   "source": [
    "### Data Acess"
   ]
  },
  {
   "cell_type": "code",
   "execution_count": 2,
   "metadata": {},
   "outputs": [
    {
     "data": {
      "text/plain": [
       "5070"
      ]
     },
     "execution_count": 2,
     "metadata": {},
     "output_type": "execute_result"
    }
   ],
   "source": [
    "# lendo o dado processado no notebook Datasets/data_treatment.ipynb\n",
    "dataframe = pd.read_parquet('../Datasets/pre_processed_dataframes/embeddings_df.parquet')\n",
    "len(dataframe)"
   ]
  },
  {
   "cell_type": "code",
   "execution_count": 3,
   "metadata": {},
   "outputs": [
    {
     "data": {
      "text/html": [
       "<div>\n",
       "<style scoped>\n",
       "    .dataframe tbody tr th:only-of-type {\n",
       "        vertical-align: middle;\n",
       "    }\n",
       "\n",
       "    .dataframe tbody tr th {\n",
       "        vertical-align: top;\n",
       "    }\n",
       "\n",
       "    .dataframe thead th {\n",
       "        text-align: right;\n",
       "    }\n",
       "</style>\n",
       "<table border=\"1\" class=\"dataframe\">\n",
       "  <thead>\n",
       "    <tr style=\"text-align: right;\">\n",
       "      <th></th>\n",
       "      <th>description</th>\n",
       "      <th>cleaned_description</th>\n",
       "    </tr>\n",
       "  </thead>\n",
       "  <tbody>\n",
       "    <tr>\n",
       "      <th>4512</th>\n",
       "      <td>The Hidden Treasures trio will let you put literal works of art on your wrist.</td>\n",
       "      <td>hidden treasures trio let put literal works art wrist</td>\n",
       "    </tr>\n",
       "  </tbody>\n",
       "</table>\n",
       "</div>"
      ],
      "text/plain": [
       "                                                                         description  \\\n",
       "4512  The Hidden Treasures trio will let you put literal works of art on your wrist.   \n",
       "\n",
       "                                        cleaned_description  \n",
       "4512  hidden treasures trio let put literal works art wrist  "
      ]
     },
     "execution_count": 3,
     "metadata": {},
     "output_type": "execute_result"
    }
   ],
   "source": [
    "dataframe[['description', 'cleaned_description']].sample()"
   ]
  },
  {
   "cell_type": "code",
   "execution_count": 4,
   "metadata": {},
   "outputs": [
    {
     "data": {
      "text/html": [
       "<div>\n",
       "<style scoped>\n",
       "    .dataframe tbody tr th:only-of-type {\n",
       "        vertical-align: middle;\n",
       "    }\n",
       "\n",
       "    .dataframe tbody tr th {\n",
       "        vertical-align: top;\n",
       "    }\n",
       "\n",
       "    .dataframe thead th {\n",
       "        text-align: right;\n",
       "    }\n",
       "</style>\n",
       "<table border=\"1\" class=\"dataframe\">\n",
       "  <thead>\n",
       "    <tr style=\"text-align: right;\">\n",
       "      <th></th>\n",
       "      <th>full_description</th>\n",
       "      <th>cleaned_full_description</th>\n",
       "    </tr>\n",
       "  </thead>\n",
       "  <tbody>\n",
       "    <tr>\n",
       "      <th>3399</th>\n",
       "      <td>S&amp;P has upgraded Netflix to investment grade, admiring the streamer’s financial profile as it continues to lead the market in an increasingly competitive OTT landscape. The ratings agency said Monday it sees the company remaining the dominant player and it took its senior unsecured debt rating from BB+ to BBB blue chip status with outlook stable. Shares of the company behind Squid Game are up about 1.4% at $674. In its report, the agency gave a shout-out to solid revenue growth, rising margins, reduced leverage and positive free operating cash flow in 2022 and beyond. It said its assessment of Netflix is now similar to how it sees Disney’s business risk, although it still views the latter’s overall business as more favorable given iconic franchises monetized across movies, television and theme parks. Related Story 'Virgin River': Mark Ghanimé &amp; Kai Bradbury Join Season 4 As New Series Regulars Netflix’s massive investments in content to get where it is today had led it to weaker ca...</td>\n",
       "      <td>sp upgraded netflix investment grade admiring streamers financial profile continues lead market increasingly competitive ott landscape ratings agency said monday sees company remaining dominant player took senior unsecured debt rating bb bbb blue chip status outlook stable shares company behind squid game report agency gave shoutout solid revenue growth rising margins reduced leverage positive free operating cash flow beyond said assessment netflix similar sees disneys business risk although still views latters overall business favorable given iconic franchises monetized across movies television theme parks related story virgin river mark ghanim kai bradbury join season new series regulars netflixs massive investments content get today led weaker cash flow compared entertainment rivals spending begun moderate peers still early stages building scaled ott services netflix said latest earnings last week expects sustainable positive free cash flow starting back january noted would long...</td>\n",
       "    </tr>\n",
       "  </tbody>\n",
       "</table>\n",
       "</div>"
      ],
      "text/plain": [
       "                                                                                                                                                                                                                                                                                                                                                                                                                                                                                                                                                                                                                                                                                                                                                                                                                                                                                                                                                                                                                             full_description  \\\n",
       "3399  S&P has upgraded Netflix to investment grade, admiring the streamer’s financial profile as it continues to lead the market in an increasingly competitive OTT landscape. The ratings agency said Monday it sees the company remaining the dominant player and it took its senior unsecured debt rating from BB+ to BBB blue chip status with outlook stable. Shares of the company behind Squid Game are up about 1.4% at $674. In its report, the agency gave a shout-out to solid revenue growth, rising margins, reduced leverage and positive free operating cash flow in 2022 and beyond. It said its assessment of Netflix is now similar to how it sees Disney’s business risk, although it still views the latter’s overall business as more favorable given iconic franchises monetized across movies, television and theme parks. Related Story 'Virgin River': Mark Ghanimé & Kai Bradbury Join Season 4 As New Series Regulars Netflix’s massive investments in content to get where it is today had led it to weaker ca...   \n",
       "\n",
       "                                                                                                                                                                                                                                                                                                                                                                                                                                                                                                                                                                                                                                                                                                                                                                                                                                                                                                                                                                                                                     cleaned_full_description  \n",
       "3399  sp upgraded netflix investment grade admiring streamers financial profile continues lead market increasingly competitive ott landscape ratings agency said monday sees company remaining dominant player took senior unsecured debt rating bb bbb blue chip status outlook stable shares company behind squid game report agency gave shoutout solid revenue growth rising margins reduced leverage positive free operating cash flow beyond said assessment netflix similar sees disneys business risk although still views latters overall business favorable given iconic franchises monetized across movies television theme parks related story virgin river mark ghanim kai bradbury join season new series regulars netflixs massive investments content get today led weaker cash flow compared entertainment rivals spending begun moderate peers still early stages building scaled ott services netflix said latest earnings last week expects sustainable positive free cash flow starting back january noted would long...  "
      ]
     },
     "execution_count": 4,
     "metadata": {},
     "output_type": "execute_result"
    }
   ],
   "source": [
    "dataframe[['full_description', 'cleaned_full_description']].sample()\n"
   ]
  },
  {
   "cell_type": "markdown",
   "metadata": {},
   "source": [
    "### Encoding Data"
   ]
  },
  {
   "cell_type": "code",
   "execution_count": 5,
   "metadata": {},
   "outputs": [],
   "source": [
    "m_bert = ModernBertEncoding(device=device)"
   ]
  },
  {
   "cell_type": "code",
   "execution_count": 6,
   "metadata": {},
   "outputs": [],
   "source": [
    "embeddings_1 = m_bert.encode('trabalhando com codificação e similaridade de texto')\n",
    "embeddings_2 = m_bert.encode('working on coding and text similarity')"
   ]
  },
  {
   "cell_type": "code",
   "execution_count": 11,
   "metadata": {},
   "outputs": [
    {
     "data": {
      "text/plain": [
       "0.79073924"
      ]
     },
     "execution_count": 11,
     "metadata": {},
     "output_type": "execute_result"
    }
   ],
   "source": [
    "cosine_similarity([embeddings_1], [embeddings_2])[0][0]"
   ]
  },
  {
   "cell_type": "code",
   "execution_count": 13,
   "metadata": {},
   "outputs": [
    {
     "name": "stderr",
     "output_type": "stream",
     "text": [
      "100%|██████████| 5070/5070 [05:48<00:00, 14.53it/s]\n"
     ]
    }
   ],
   "source": [
    "dataframe['m_bert_embeddings_description'] = dataframe['cleaned_description'].progress_apply(m_bert.encode)"
   ]
  },
  {
   "cell_type": "code",
   "execution_count": 14,
   "metadata": {},
   "outputs": [
    {
     "name": "stderr",
     "output_type": "stream",
     "text": [
      "100%|██████████| 5070/5070 [40:24<00:00,  2.09it/s]  \n"
     ]
    }
   ],
   "source": [
    "dataframe['m_bert_embeddings_full_description'] = dataframe['cleaned_full_description'].progress_apply(m_bert.encode)"
   ]
  },
  {
   "cell_type": "markdown",
   "metadata": {},
   "source": [
    "#### Save Processed Dataframe"
   ]
  },
  {
   "cell_type": "code",
   "execution_count": 16,
   "metadata": {},
   "outputs": [],
   "source": [
    "dataframe.to_parquet('../Datasets/pre_processed_dataframes/embeddings_df.parquet', index=False)"
   ]
  }
 ],
 "metadata": {
  "kernelspec": {
   "display_name": "nlp_env",
   "language": "python",
   "name": "python3"
  },
  "language_info": {
   "codemirror_mode": {
    "name": "ipython",
    "version": 3
   },
   "file_extension": ".py",
   "mimetype": "text/x-python",
   "name": "python",
   "nbconvert_exporter": "python",
   "pygments_lexer": "ipython3",
   "version": "3.9.21"
  }
 },
 "nbformat": 4,
 "nbformat_minor": 2
}
