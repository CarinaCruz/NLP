{
 "cells": [
  {
   "cell_type": "markdown",
   "metadata": {},
   "source": [
    "# Encoding sentences using Modern BERT"
   ]
  },
  {
   "cell_type": "markdown",
   "metadata": {},
   "source": [
    "### Setup"
   ]
  },
  {
   "cell_type": "code",
   "execution_count": 1,
   "metadata": {},
   "outputs": [],
   "source": [
    "#!pip install transformers==4.48.0\n",
    "#!pip install numpy==1.24.1"
   ]
  },
  {
   "cell_type": "code",
   "execution_count": 2,
   "metadata": {},
   "outputs": [
    {
     "name": "stderr",
     "output_type": "stream",
     "text": [
      "/home/carina/anaconda3/envs/mbert_env/lib/python3.9/site-packages/tqdm/auto.py:21: TqdmWarning: IProgress not found. Please update jupyter and ipywidgets. See https://ipywidgets.readthedocs.io/en/stable/user_install.html\n",
      "  from .autonotebook import tqdm as notebook_tqdm\n"
     ]
    }
   ],
   "source": [
    "import sys\n",
    "sys.path.append('../')\n",
    "import numpy as np\n",
    "import pandas as pd\n",
    "import torch\n",
    "from functools import partial\n",
    "import gc\n",
    "import os\n",
    "from datasets import load_dataset\n",
    "from src.embeddings import ModernBertEncoding\n",
    "from sklearn.metrics import f1_score\n",
    "from tqdm import tqdm\n",
    "from transformers import AutoTokenizer, ModernBertModel\n",
    "from sklearn.metrics.pairwise import cosine_similarity\n",
    "os.environ[\"TOKENIZERS_PARALLELISM\"] = \"false\"\n",
    "# Libraries options\n",
    "tqdm.pandas()\n",
    "pd.options.display.max_rows = 999\n",
    "pd.set_option('max_colwidth', 1000)"
   ]
  },
  {
   "cell_type": "markdown",
   "metadata": {},
   "source": [
    "### Data Acess"
   ]
  },
  {
   "cell_type": "code",
   "execution_count": 3,
   "metadata": {},
   "outputs": [
    {
     "data": {
      "text/plain": [
       "5070"
      ]
     },
     "execution_count": 3,
     "metadata": {},
     "output_type": "execute_result"
    }
   ],
   "source": [
    "# lendo o dado processado no notebook Datasets/data_treatment.ipynb\n",
    "dataframe = pd.read_parquet('../Datasets/pre_processed_dataframes/clean_df.parquet')\n",
    "len(dataframe)"
   ]
  },
  {
   "cell_type": "code",
   "execution_count": 4,
   "metadata": {},
   "outputs": [
    {
     "data": {
      "text/html": [
       "<div>\n",
       "<style scoped>\n",
       "    .dataframe tbody tr th:only-of-type {\n",
       "        vertical-align: middle;\n",
       "    }\n",
       "\n",
       "    .dataframe tbody tr th {\n",
       "        vertical-align: top;\n",
       "    }\n",
       "\n",
       "    .dataframe thead th {\n",
       "        text-align: right;\n",
       "    }\n",
       "</style>\n",
       "<table border=\"1\" class=\"dataframe\">\n",
       "  <thead>\n",
       "    <tr style=\"text-align: right;\">\n",
       "      <th></th>\n",
       "      <th>description</th>\n",
       "      <th>cleaned_description</th>\n",
       "    </tr>\n",
       "  </thead>\n",
       "  <tbody>\n",
       "    <tr>\n",
       "      <th>3399</th>\n",
       "      <td>S&amp;P has upgraded Netflix to investment grade, admiring the streamer’s financial profile as it continues to lead the market in an increasingly competitive OTT landscape. The ratings agency said Monday it sees the company remaining the dominant player and it took its senior unsecured debt rating from BB+ to BBB blue chip status with outlook […]</td>\n",
       "      <td>sp upgraded netflix investment grade admiring streamers financial profile continues lead market increasingly competitive ott landscape ratings agency said monday sees company remaining dominant player took senior unsecured debt rating bb bbb blue chip status outlook</td>\n",
       "    </tr>\n",
       "  </tbody>\n",
       "</table>\n",
       "</div>"
      ],
      "text/plain": [
       "                                                                                                                                                                                                                                                                                                                                                   description  \\\n",
       "3399  S&P has upgraded Netflix to investment grade, admiring the streamer’s financial profile as it continues to lead the market in an increasingly competitive OTT landscape. The ratings agency said Monday it sees the company remaining the dominant player and it took its senior unsecured debt rating from BB+ to BBB blue chip status with outlook […]   \n",
       "\n",
       "                                                                                                                                                                                                                                                             cleaned_description  \n",
       "3399  sp upgraded netflix investment grade admiring streamers financial profile continues lead market increasingly competitive ott landscape ratings agency said monday sees company remaining dominant player took senior unsecured debt rating bb bbb blue chip status outlook  "
      ]
     },
     "execution_count": 4,
     "metadata": {},
     "output_type": "execute_result"
    }
   ],
   "source": [
    "dataframe[['description', 'cleaned_description']].sample()"
   ]
  },
  {
   "cell_type": "code",
   "execution_count": 5,
   "metadata": {},
   "outputs": [
    {
     "data": {
      "text/html": [
       "<div>\n",
       "<style scoped>\n",
       "    .dataframe tbody tr th:only-of-type {\n",
       "        vertical-align: middle;\n",
       "    }\n",
       "\n",
       "    .dataframe tbody tr th {\n",
       "        vertical-align: top;\n",
       "    }\n",
       "\n",
       "    .dataframe thead th {\n",
       "        text-align: right;\n",
       "    }\n",
       "</style>\n",
       "<table border=\"1\" class=\"dataframe\">\n",
       "  <thead>\n",
       "    <tr style=\"text-align: right;\">\n",
       "      <th></th>\n",
       "      <th>full_description</th>\n",
       "      <th>cleaned_full_description</th>\n",
       "    </tr>\n",
       "  </thead>\n",
       "  <tbody>\n",
       "    <tr>\n",
       "      <th>228</th>\n",
       "      <td>(Teleborsa) – ESI , società quotata su Euronext Growth Milan e attiva nel mercato delle energie rinnovabili come EPC (Engineering, Procurement and Construction) e System Integrator, ha firmato un accordo quadro con un primario gruppo del settore energetico a livello nazionale e internazionale per la realizzazione di 6 impianti fotovoltaici per un valore complessivo di 25,3 milioni di euro. L’inizio delle attività è previsto per il mese di novembre 2021 e la commessa sarà di competenza per 2,5 milioni di euro dell’esercizio 2021 e per 22,8 milioni di euro dell’esercizio 2022. Il progetto prevede l’installazione di moduli fotovoltaici ad alta efficienza con l’utilizzo di tracker monoassiali e un’architettura complessiva in configurazione inverter di stringa con cabine di raccolta interne al campo solare, spiega la società in una nota. “Siamo onorati di poter aggiungere al nostro albo clienti uno dei primari gruppi nel settore energetico – ha commentato Stefano Plocco, fondatore e amm...</td>\n",
       "      <td>teleborsa esi societ quotata euronext growth milan attiva mercato energie rinnovabili epc engineering procurement and construction system integrator firmato accordo quadro primario gruppo settore energetico livello nazionale internazionale realizzazione impianti fotovoltaici valore complessivo milioni euro linizio attivit previsto mese novembre commessa sar competenza milioni euro dellesercizio milioni euro dellesercizio progetto prevede linstallazione moduli fotovoltaici alta efficienza lutilizzo tracker monoassiali unarchitettura complessiva configurazione inverter stringa cabine raccolta interne campo solare spiega societ nota onorati poter aggiungere albo clienti primari gruppi settore energetico commentato stefano plocco fondatore amministratore delegato esi laccordo subito rallentamento causa dellaumento costo materie prime dovuto pandemia vedr linizio realizzazione prime due centrali totale mwp gi partire prossimo novembre foto american public power association on unsplash</td>\n",
       "    </tr>\n",
       "  </tbody>\n",
       "</table>\n",
       "</div>"
      ],
      "text/plain": [
       "                                                                                                                                                                                                                                                                                                                                                                                                                                                                                                                                                                                                                                                                                                                                                                                                                                                                                                                                                                                                                            full_description  \\\n",
       "228  (Teleborsa) – ESI , società quotata su Euronext Growth Milan e attiva nel mercato delle energie rinnovabili come EPC (Engineering, Procurement and Construction) e System Integrator, ha firmato un accordo quadro con un primario gruppo del settore energetico a livello nazionale e internazionale per la realizzazione di 6 impianti fotovoltaici per un valore complessivo di 25,3 milioni di euro. L’inizio delle attività è previsto per il mese di novembre 2021 e la commessa sarà di competenza per 2,5 milioni di euro dell’esercizio 2021 e per 22,8 milioni di euro dell’esercizio 2022. Il progetto prevede l’installazione di moduli fotovoltaici ad alta efficienza con l’utilizzo di tracker monoassiali e un’architettura complessiva in configurazione inverter di stringa con cabine di raccolta interne al campo solare, spiega la società in una nota. “Siamo onorati di poter aggiungere al nostro albo clienti uno dei primari gruppi nel settore energetico – ha commentato Stefano Plocco, fondatore e amm...   \n",
       "\n",
       "                                                                                                                                                                                                                                                                                                                                                                                                                                                                                                                                                                                                                                                                                                                                                                                                                                                                                                                                                                                                               cleaned_full_description  \n",
       "228  teleborsa esi societ quotata euronext growth milan attiva mercato energie rinnovabili epc engineering procurement and construction system integrator firmato accordo quadro primario gruppo settore energetico livello nazionale internazionale realizzazione impianti fotovoltaici valore complessivo milioni euro linizio attivit previsto mese novembre commessa sar competenza milioni euro dellesercizio milioni euro dellesercizio progetto prevede linstallazione moduli fotovoltaici alta efficienza lutilizzo tracker monoassiali unarchitettura complessiva configurazione inverter stringa cabine raccolta interne campo solare spiega societ nota onorati poter aggiungere albo clienti primari gruppi settore energetico commentato stefano plocco fondatore amministratore delegato esi laccordo subito rallentamento causa dellaumento costo materie prime dovuto pandemia vedr linizio realizzazione prime due centrali totale mwp gi partire prossimo novembre foto american public power association on unsplash  "
      ]
     },
     "execution_count": 5,
     "metadata": {},
     "output_type": "execute_result"
    }
   ],
   "source": [
    "dataframe[['full_description', 'cleaned_full_description']].sample()\n"
   ]
  },
  {
   "cell_type": "markdown",
   "metadata": {},
   "source": [
    "### Encoding Data"
   ]
  },
  {
   "cell_type": "code",
   "execution_count": 6,
   "metadata": {},
   "outputs": [],
   "source": [
    "bert = ModernBertEncoding(model_path=\"answerdotai/ModernBERT-base\")"
   ]
  },
  {
   "cell_type": "code",
   "execution_count": 7,
   "metadata": {},
   "outputs": [],
   "source": [
    "embeddings_1 = bert.encode('trabalhando com codificação e similaridade de texto')\n",
    "embeddings_2 = bert.encode('working on coding and text similarity')"
   ]
  },
  {
   "cell_type": "code",
   "execution_count": 11,
   "metadata": {},
   "outputs": [
    {
     "data": {
      "text/plain": [
       "0.79073924"
      ]
     },
     "execution_count": 11,
     "metadata": {},
     "output_type": "execute_result"
    }
   ],
   "source": [
    "cosine_similarity(embeddings_1, embeddings_2)[0][0]"
   ]
  },
  {
   "cell_type": "code",
   "execution_count": 13,
   "metadata": {},
   "outputs": [
    {
     "name": "stderr",
     "output_type": "stream",
     "text": [
      "100%|██████████| 5070/5070 [04:46<00:00, 17.68it/s]\n"
     ]
    }
   ],
   "source": [
    "dataframe['m_bert_embeddings_description'] = dataframe['cleaned_description'].progress_apply(bert.encode)"
   ]
  },
  {
   "cell_type": "code",
   "execution_count": 14,
   "metadata": {},
   "outputs": [
    {
     "name": "stderr",
     "output_type": "stream",
     "text": [
      "100%|██████████| 5070/5070 [35:58<00:00,  2.35it/s]  \n"
     ]
    }
   ],
   "source": [
    "dataframe['m_bert_embeddings_full_description'] = dataframe['cleaned_full_description'].progress_apply(bert.encode)"
   ]
  },
  {
   "cell_type": "markdown",
   "metadata": {},
   "source": [
    "#### Save Processed Dataframe"
   ]
  },
  {
   "cell_type": "code",
   "execution_count": 20,
   "metadata": {},
   "outputs": [],
   "source": [
    "dataframe.to_parquet('../Datasets/pre_processed_dataframes/embeddings_df.parquet', index=False)"
   ]
  }
 ],
 "metadata": {
  "kernelspec": {
   "display_name": "nlp_env",
   "language": "python",
   "name": "python3"
  },
  "language_info": {
   "codemirror_mode": {
    "name": "ipython",
    "version": 3
   },
   "file_extension": ".py",
   "mimetype": "text/x-python",
   "name": "python",
   "nbconvert_exporter": "python",
   "pygments_lexer": "ipython3",
   "version": "3.9.21"
  }
 },
 "nbformat": 4,
 "nbformat_minor": 2
}
